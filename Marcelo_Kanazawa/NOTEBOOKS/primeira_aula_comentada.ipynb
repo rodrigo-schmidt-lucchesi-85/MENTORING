{
 "cells": [
  {
   "cell_type": "markdown",
   "metadata": {},
   "source": [
    "# Aula 1\n",
    "---\n",
    "\n",
    "Nesta aula iremos realizar os seguintes passos do projeto de um EDA."
   ]
  },
  {
   "cell_type": "markdown",
   "metadata": {},
   "source": [
    "- Importar a base csv;\n",
    "- Ver o formato das variáveis (describe);\n",
    "- Transformações de variáveis (número para categóricas) – tanto como fazer esta transformação, como informar o software para ele entender a variável de determinada forma (as_data, as_srting). \n",
    "Por exemplo: Informar que tem variáveis de “data” \n",
    "- Criar variáveis novas, calculadas a partir de outras variáveis;\n",
    "(fat/valor empréstimos);\n",
    "fazer o cálculo de prazo (utilizando datas);\n",
    "log(variáveis);\n",
    "transformar variáveis do tipo categóricas em numérica; \n",
    "-  Selecionar variáveis (separar as quantitativas das categóricas) – criar sub-bases;\n",
    "- Criar dummies; \n",
    "- Aprender alguns comandos para análise exploratória dos dados e visualização (hist., box plot, tabela de correlação, tabelas do tipo group by);\n",
    "- Variáveis categóricas - aprender group by (com base em clientes inadimplentes – qual seria garantia, linha de fin, rating, etc).\n",
    "- Aprender o If (selecionar variáveis com base numa regra – ex: somente empresas do privado + projetos e investimentos); \n",
    "- Usar if + group by; \n",
    "- Variáveis quantitativas – medidas centrais, variabilidade, quartis; \n",
    "- Testes de correlação (quanti x categórica e categórica x categórica).\n"
   ]
  },
  {
   "cell_type": "code",
   "execution_count": 3,
   "metadata": {},
   "outputs": [],
   "source": [
    "# Importando a biblioteca pandas com o Alias pd\n",
    "import pandas as pd"
   ]
  },
  {
   "cell_type": "markdown",
   "metadata": {},
   "source": [
    "Como iremos, neste caso utilizar dados no formato CSV (Comma-separated values), devemos tomar alguns cuidados com esta base, pois a ocorrência de simbolos inadequados para este tipo de dados como:\n",
    "\n",
    "- ** ; ao ínves de , **\n",
    "- ** , ao contrário de . para casas decimais podem ocasionar erros **\n",
    "\n",
    "A formatação manual de um arquivo CSV, a partir de um editor de texto, muitas vezes pode ser mais eficiente do que a utilização de um programa muito complexo.\n",
    "\n",
    "Uma boa referência para este tipo de dados:\n",
    "https://www.howtogeek.com/348960/what-is-a-csv-file-and-how-do-i-open-it/"
   ]
  },
  {
   "cell_type": "markdown",
   "metadata": {},
   "source": [
    "Após as modificações realizadas nos dados originais e salvos no arquivo base_estudos.csv podemos iniciar nossas tarefas para a Análise Exploratória de Dados (EDA - Exploratory Data Analysis).\n",
    "\n",
    "Vamos criar uma matriz, ou DataFrame, nomenclatura utilizada pela bilioteca Pandas - Python"
   ]
  },
  {
   "cell_type": "code",
   "execution_count": 4,
   "metadata": {},
   "outputs": [],
   "source": [
    "# Read csv files from relative path\n",
    "df = pd.read_csv('../DATABASE/base_estudos.csv')"
   ]
  },
  {
   "cell_type": "markdown",
   "metadata": {},
   "source": [
    "Para viasualizarmos se o dataframe está funcionando, ou seja, se os dados foram lidos corretamente usamos a função nativa do Ipython display(). O dataframe pode ser um arquivo muito grande, para evitar períodos muito longos com o load de certos arquivos, utilizamos a função head() do pandas dataframe para imprimir as primeiras hipóteses do banco de dados ou tail() para imprimir as últimas instâncias."
   ]
  },
  {
   "cell_type": "code",
   "execution_count": 6,
   "metadata": {},
   "outputs": [
    {
     "output_type": "display_data",
     "data": {
      "text/plain": "   id_produto  id_contrato  id_cliente  data_entrada  valor_fin  qtde_prest  \\\n0       10707     30560012      212806         42349  151605.74        63.0   \n1       10707     30450012      212849         42367  133864.13        62.0   \n2       10707     31260012      212857         42349  156163.26        65.0   \n3       10707     31540015      212903         42349  132834.93        67.0   \n4       10707     30570018      212911         42349  147130.53        63.0   \n\n  juros_efet  data_entrada.1  data_final  provisao  ...          setor  \\\n0   0.246781           42349       44607         0  ...  SETOR PRIVADO   \n1   0.246802           42367       44607         0  ...  SETOR PRIVADO   \n2   0.246774           42349       44669     45392  ...  SETOR PRIVADO   \n3   0.246793           42349       44727       397  ...  SETOR PRIVADO   \n4   0.246785           42349       44607     41467  ...  SETOR PRIVADO   \n\n     situacao rating_atual         linha_fin tipo_a tipo_b tipo_c tipo_d  \\\n0  ADIMPLENTE           AA  PRO CAMINHONEIRO     ME     RT   PRIV  BNDES   \n1  ADIMPLENTE           AA  PRO CAMINHONEIRO     ME     RT   PRIV  BNDES   \n2  ADIMPLENTE            A  PRO CAMINHONEIRO     ME     RT   PRIV  BNDES   \n3  ADIMPLENTE            A  PRO CAMINHONEIRO     ME     RT   PRIV  BNDES   \n4  ADIMPLENTE            A  PRO CAMINHONEIRO     ME     RT   PRIV  BNDES   \n\n                        garantia valor_garantia  \n0  Alienação Fiduciaria Veículos       245000.0  \n1  Alienação Fiduciaria Veículos       219000.0  \n2  Alienação Fiduciaria Veículos       245000.0  \n3  Alienação Fiduciaria Veículos       197000.0  \n4  Alienação Fiduciaria Veículos       268000.0  \n\n[5 rows x 25 columns]",
      "text/html": "<div>\n<style scoped>\n    .dataframe tbody tr th:only-of-type {\n        vertical-align: middle;\n    }\n\n    .dataframe tbody tr th {\n        vertical-align: top;\n    }\n\n    .dataframe thead th {\n        text-align: right;\n    }\n</style>\n<table border=\"1\" class=\"dataframe\">\n  <thead>\n    <tr style=\"text-align: right;\">\n      <th></th>\n      <th>id_produto</th>\n      <th>id_contrato</th>\n      <th>id_cliente</th>\n      <th>data_entrada</th>\n      <th>valor_fin</th>\n      <th>qtde_prest</th>\n      <th>juros_efet</th>\n      <th>data_entrada.1</th>\n      <th>data_final</th>\n      <th>provisao</th>\n      <th>...</th>\n      <th>setor</th>\n      <th>situacao</th>\n      <th>rating_atual</th>\n      <th>linha_fin</th>\n      <th>tipo_a</th>\n      <th>tipo_b</th>\n      <th>tipo_c</th>\n      <th>tipo_d</th>\n      <th>garantia</th>\n      <th>valor_garantia</th>\n    </tr>\n  </thead>\n  <tbody>\n    <tr>\n      <th>0</th>\n      <td>10707</td>\n      <td>30560012</td>\n      <td>212806</td>\n      <td>42349</td>\n      <td>151605.74</td>\n      <td>63.0</td>\n      <td>0.246781</td>\n      <td>42349</td>\n      <td>44607</td>\n      <td>0</td>\n      <td>...</td>\n      <td>SETOR PRIVADO</td>\n      <td>ADIMPLENTE</td>\n      <td>AA</td>\n      <td>PRO CAMINHONEIRO</td>\n      <td>ME</td>\n      <td>RT</td>\n      <td>PRIV</td>\n      <td>BNDES</td>\n      <td>Alienação Fiduciaria Veículos</td>\n      <td>245000.0</td>\n    </tr>\n    <tr>\n      <th>1</th>\n      <td>10707</td>\n      <td>30450012</td>\n      <td>212849</td>\n      <td>42367</td>\n      <td>133864.13</td>\n      <td>62.0</td>\n      <td>0.246802</td>\n      <td>42367</td>\n      <td>44607</td>\n      <td>0</td>\n      <td>...</td>\n      <td>SETOR PRIVADO</td>\n      <td>ADIMPLENTE</td>\n      <td>AA</td>\n      <td>PRO CAMINHONEIRO</td>\n      <td>ME</td>\n      <td>RT</td>\n      <td>PRIV</td>\n      <td>BNDES</td>\n      <td>Alienação Fiduciaria Veículos</td>\n      <td>219000.0</td>\n    </tr>\n    <tr>\n      <th>2</th>\n      <td>10707</td>\n      <td>31260012</td>\n      <td>212857</td>\n      <td>42349</td>\n      <td>156163.26</td>\n      <td>65.0</td>\n      <td>0.246774</td>\n      <td>42349</td>\n      <td>44669</td>\n      <td>45392</td>\n      <td>...</td>\n      <td>SETOR PRIVADO</td>\n      <td>ADIMPLENTE</td>\n      <td>A</td>\n      <td>PRO CAMINHONEIRO</td>\n      <td>ME</td>\n      <td>RT</td>\n      <td>PRIV</td>\n      <td>BNDES</td>\n      <td>Alienação Fiduciaria Veículos</td>\n      <td>245000.0</td>\n    </tr>\n    <tr>\n      <th>3</th>\n      <td>10707</td>\n      <td>31540015</td>\n      <td>212903</td>\n      <td>42349</td>\n      <td>132834.93</td>\n      <td>67.0</td>\n      <td>0.246793</td>\n      <td>42349</td>\n      <td>44727</td>\n      <td>397</td>\n      <td>...</td>\n      <td>SETOR PRIVADO</td>\n      <td>ADIMPLENTE</td>\n      <td>A</td>\n      <td>PRO CAMINHONEIRO</td>\n      <td>ME</td>\n      <td>RT</td>\n      <td>PRIV</td>\n      <td>BNDES</td>\n      <td>Alienação Fiduciaria Veículos</td>\n      <td>197000.0</td>\n    </tr>\n    <tr>\n      <th>4</th>\n      <td>10707</td>\n      <td>30570018</td>\n      <td>212911</td>\n      <td>42349</td>\n      <td>147130.53</td>\n      <td>63.0</td>\n      <td>0.246785</td>\n      <td>42349</td>\n      <td>44607</td>\n      <td>41467</td>\n      <td>...</td>\n      <td>SETOR PRIVADO</td>\n      <td>ADIMPLENTE</td>\n      <td>A</td>\n      <td>PRO CAMINHONEIRO</td>\n      <td>ME</td>\n      <td>RT</td>\n      <td>PRIV</td>\n      <td>BNDES</td>\n      <td>Alienação Fiduciaria Veículos</td>\n      <td>268000.0</td>\n    </tr>\n  </tbody>\n</table>\n<p>5 rows × 25 columns</p>\n</div>"
     },
     "metadata": {}
    }
   ],
   "source": [
    "display(df.head(n=5))"
   ]
  },
  {
   "cell_type": "code",
   "execution_count": 7,
   "metadata": {},
   "outputs": [
    {
     "output_type": "display_data",
     "data": {
      "text/plain": "      id_produto  id_contrato  id_cliente  data_entrada   valor_fin  \\\n2547       61000     66300002     1433237         43658   560763.83   \n2548       61000     80050000     2487080         43854    53194.04   \n2549       61018     58320008      683159         43312  4793407.28   \n2550       61018     58750002      727970         43515   182281.79   \n2551       61018     76760006     2252112         43853    64000.00   \n\n      qtde_prest juros_efet  data_entrada.1  data_final  provisao  ...  \\\n2547       120.0   0.478414           43658       47304    565069  ...   \n2548       120.0  1.242.562           43854       47490    159906  ...   \n2549        60.0   0.414216           43312       45145         0  ...   \n2550        60.0   0.753472           43515       45327    550677  ...   \n2551        60.0   0.585692           43853       45663     64141  ...   \n\n              setor    situacao rating_atual linha_fin tipo_a tipo_b tipo_c  \\\n2547  SETOR PRIVADO  ADIMPLENTE            B  FUNGETUR     PI     RT   PRIV   \n2548  SETOR PRIVADO  ADIMPLENTE            C  FUNGETUR     PI     RT   PRIV   \n2549  SETOR PRIVADO  ADIMPLENTE           AA  FUNGETUR     ME     RT   PRIV   \n2550  SETOR PRIVADO  ADIMPLENTE            C  FUNGETUR     ME     RT   PRIV   \n2551  SETOR PRIVADO  ADIMPLENTE            B  FUNGETUR     ME     RT   PRIV   \n\n        tipo_d                           garantia valor_garantia  \n2547  FUNGETUR  Hipoteca 1º grau Imov Residencial      354000.00  \n2548  FUNGETUR      Alienação Fiduciaria Veículos      105292.20  \n2549  FUNGETUR        Alienação Fiduciária Imóvel    37280000.00  \n2550  FUNGETUR                               FDA       191773.14  \n2551  FUNGETUR                FGI - Crédito Livre       51200.00  \n\n[5 rows x 25 columns]",
      "text/html": "<div>\n<style scoped>\n    .dataframe tbody tr th:only-of-type {\n        vertical-align: middle;\n    }\n\n    .dataframe tbody tr th {\n        vertical-align: top;\n    }\n\n    .dataframe thead th {\n        text-align: right;\n    }\n</style>\n<table border=\"1\" class=\"dataframe\">\n  <thead>\n    <tr style=\"text-align: right;\">\n      <th></th>\n      <th>id_produto</th>\n      <th>id_contrato</th>\n      <th>id_cliente</th>\n      <th>data_entrada</th>\n      <th>valor_fin</th>\n      <th>qtde_prest</th>\n      <th>juros_efet</th>\n      <th>data_entrada.1</th>\n      <th>data_final</th>\n      <th>provisao</th>\n      <th>...</th>\n      <th>setor</th>\n      <th>situacao</th>\n      <th>rating_atual</th>\n      <th>linha_fin</th>\n      <th>tipo_a</th>\n      <th>tipo_b</th>\n      <th>tipo_c</th>\n      <th>tipo_d</th>\n      <th>garantia</th>\n      <th>valor_garantia</th>\n    </tr>\n  </thead>\n  <tbody>\n    <tr>\n      <th>2547</th>\n      <td>61000</td>\n      <td>66300002</td>\n      <td>1433237</td>\n      <td>43658</td>\n      <td>560763.83</td>\n      <td>120.0</td>\n      <td>0.478414</td>\n      <td>43658</td>\n      <td>47304</td>\n      <td>565069</td>\n      <td>...</td>\n      <td>SETOR PRIVADO</td>\n      <td>ADIMPLENTE</td>\n      <td>B</td>\n      <td>FUNGETUR</td>\n      <td>PI</td>\n      <td>RT</td>\n      <td>PRIV</td>\n      <td>FUNGETUR</td>\n      <td>Hipoteca 1º grau Imov Residencial</td>\n      <td>354000.00</td>\n    </tr>\n    <tr>\n      <th>2548</th>\n      <td>61000</td>\n      <td>80050000</td>\n      <td>2487080</td>\n      <td>43854</td>\n      <td>53194.04</td>\n      <td>120.0</td>\n      <td>1.242.562</td>\n      <td>43854</td>\n      <td>47490</td>\n      <td>159906</td>\n      <td>...</td>\n      <td>SETOR PRIVADO</td>\n      <td>ADIMPLENTE</td>\n      <td>C</td>\n      <td>FUNGETUR</td>\n      <td>PI</td>\n      <td>RT</td>\n      <td>PRIV</td>\n      <td>FUNGETUR</td>\n      <td>Alienação Fiduciaria Veículos</td>\n      <td>105292.20</td>\n    </tr>\n    <tr>\n      <th>2549</th>\n      <td>61018</td>\n      <td>58320008</td>\n      <td>683159</td>\n      <td>43312</td>\n      <td>4793407.28</td>\n      <td>60.0</td>\n      <td>0.414216</td>\n      <td>43312</td>\n      <td>45145</td>\n      <td>0</td>\n      <td>...</td>\n      <td>SETOR PRIVADO</td>\n      <td>ADIMPLENTE</td>\n      <td>AA</td>\n      <td>FUNGETUR</td>\n      <td>ME</td>\n      <td>RT</td>\n      <td>PRIV</td>\n      <td>FUNGETUR</td>\n      <td>Alienação Fiduciária Imóvel</td>\n      <td>37280000.00</td>\n    </tr>\n    <tr>\n      <th>2550</th>\n      <td>61018</td>\n      <td>58750002</td>\n      <td>727970</td>\n      <td>43515</td>\n      <td>182281.79</td>\n      <td>60.0</td>\n      <td>0.753472</td>\n      <td>43515</td>\n      <td>45327</td>\n      <td>550677</td>\n      <td>...</td>\n      <td>SETOR PRIVADO</td>\n      <td>ADIMPLENTE</td>\n      <td>C</td>\n      <td>FUNGETUR</td>\n      <td>ME</td>\n      <td>RT</td>\n      <td>PRIV</td>\n      <td>FUNGETUR</td>\n      <td>FDA</td>\n      <td>191773.14</td>\n    </tr>\n    <tr>\n      <th>2551</th>\n      <td>61018</td>\n      <td>76760006</td>\n      <td>2252112</td>\n      <td>43853</td>\n      <td>64000.00</td>\n      <td>60.0</td>\n      <td>0.585692</td>\n      <td>43853</td>\n      <td>45663</td>\n      <td>64141</td>\n      <td>...</td>\n      <td>SETOR PRIVADO</td>\n      <td>ADIMPLENTE</td>\n      <td>B</td>\n      <td>FUNGETUR</td>\n      <td>ME</td>\n      <td>RT</td>\n      <td>PRIV</td>\n      <td>FUNGETUR</td>\n      <td>FGI - Crédito Livre</td>\n      <td>51200.00</td>\n    </tr>\n  </tbody>\n</table>\n<p>5 rows × 25 columns</p>\n</div>"
     },
     "metadata": {}
    }
   ],
   "source": [
    "display(df.tail(n=5))"
   ]
  },
  {
   "cell_type": "code",
   "execution_count": null,
   "metadata": {},
   "outputs": [],
   "source": []
  }
 ],
 "metadata": {
  "language_info": {
   "codemirror_mode": {
    "name": "ipython",
    "version": 3
   },
   "file_extension": ".py",
   "mimetype": "text/x-python",
   "name": "python",
   "nbconvert_exporter": "python",
   "pygments_lexer": "ipython3",
   "version": "3.7.6-final"
  },
  "orig_nbformat": 2,
  "kernelspec": {
   "name": "python3",
   "display_name": "Python 3"
  }
 },
 "nbformat": 4,
 "nbformat_minor": 2
}