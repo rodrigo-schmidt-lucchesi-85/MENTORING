{
 "cells": [
  {
   "cell_type": "code",
   "execution_count": 12,
   "metadata": {},
   "outputs": [],
   "source": [
    "#import libraries\n",
    "import os \n",
    "import pandas as pd # pacote para manipular os dados\n",
    "import numpy as np # pacote para numeros \n",
    "import matplotlib.pyplot as plt # pacote para visualização dos dados\n",
    "import seaborn as sns  # pacote para visualização dos dados"
   ]
  },
  {
   "cell_type": "code",
   "execution_count": 13,
   "metadata": {},
   "outputs": [],
   "source": [
    "#importando a base \n",
    "df = pd.read_csv('../DATABASE/base_estudos.csv')"
   ]
  },
  {
   "cell_type": "code",
   "execution_count": 14,
   "metadata": {
    "collapsed": true
   },
   "outputs": [
    {
     "data": {
      "text/html": [
       "<div>\n",
       "<style scoped>\n",
       "    .dataframe tbody tr th:only-of-type {\n",
       "        vertical-align: middle;\n",
       "    }\n",
       "\n",
       "    .dataframe tbody tr th {\n",
       "        vertical-align: top;\n",
       "    }\n",
       "\n",
       "    .dataframe thead th {\n",
       "        text-align: right;\n",
       "    }\n",
       "</style>\n",
       "<table border=\"1\" class=\"dataframe\">\n",
       "  <thead>\n",
       "    <tr style=\"text-align: right;\">\n",
       "      <th></th>\n",
       "      <th>id_produto</th>\n",
       "      <th>id_contrato</th>\n",
       "      <th>id_cliente</th>\n",
       "      <th>data_entrada</th>\n",
       "      <th>valor_fin</th>\n",
       "      <th>qtde_prest</th>\n",
       "      <th>juros_efet</th>\n",
       "      <th>data_entrada.1</th>\n",
       "      <th>data_final</th>\n",
       "      <th>provisao</th>\n",
       "      <th>...</th>\n",
       "      <th>setor</th>\n",
       "      <th>situacao</th>\n",
       "      <th>rating_atual</th>\n",
       "      <th>linha_fin</th>\n",
       "      <th>tipo_a</th>\n",
       "      <th>tipo_b</th>\n",
       "      <th>tipo_c</th>\n",
       "      <th>tipo_d</th>\n",
       "      <th>garantia</th>\n",
       "      <th>valor_garantia</th>\n",
       "    </tr>\n",
       "  </thead>\n",
       "  <tbody>\n",
       "    <tr>\n",
       "      <th>0</th>\n",
       "      <td>10707</td>\n",
       "      <td>30560012</td>\n",
       "      <td>212806</td>\n",
       "      <td>42349</td>\n",
       "      <td>151605.74</td>\n",
       "      <td>63.0</td>\n",
       "      <td>0.246781</td>\n",
       "      <td>42349</td>\n",
       "      <td>44607</td>\n",
       "      <td>0</td>\n",
       "      <td>...</td>\n",
       "      <td>SETOR PRIVADO</td>\n",
       "      <td>ADIMPLENTE</td>\n",
       "      <td>AA</td>\n",
       "      <td>PRO CAMINHONEIRO</td>\n",
       "      <td>ME</td>\n",
       "      <td>RT</td>\n",
       "      <td>PRIV</td>\n",
       "      <td>BNDES</td>\n",
       "      <td>Alienação Fiduciaria Veículos</td>\n",
       "      <td>245000.0</td>\n",
       "    </tr>\n",
       "    <tr>\n",
       "      <th>1</th>\n",
       "      <td>10707</td>\n",
       "      <td>30450012</td>\n",
       "      <td>212849</td>\n",
       "      <td>42367</td>\n",
       "      <td>133864.13</td>\n",
       "      <td>62.0</td>\n",
       "      <td>0.246802</td>\n",
       "      <td>42367</td>\n",
       "      <td>44607</td>\n",
       "      <td>0</td>\n",
       "      <td>...</td>\n",
       "      <td>SETOR PRIVADO</td>\n",
       "      <td>ADIMPLENTE</td>\n",
       "      <td>AA</td>\n",
       "      <td>PRO CAMINHONEIRO</td>\n",
       "      <td>ME</td>\n",
       "      <td>RT</td>\n",
       "      <td>PRIV</td>\n",
       "      <td>BNDES</td>\n",
       "      <td>Alienação Fiduciaria Veículos</td>\n",
       "      <td>219000.0</td>\n",
       "    </tr>\n",
       "    <tr>\n",
       "      <th>2</th>\n",
       "      <td>10707</td>\n",
       "      <td>31260012</td>\n",
       "      <td>212857</td>\n",
       "      <td>42349</td>\n",
       "      <td>156163.26</td>\n",
       "      <td>65.0</td>\n",
       "      <td>0.246774</td>\n",
       "      <td>42349</td>\n",
       "      <td>44669</td>\n",
       "      <td>45392</td>\n",
       "      <td>...</td>\n",
       "      <td>SETOR PRIVADO</td>\n",
       "      <td>ADIMPLENTE</td>\n",
       "      <td>A</td>\n",
       "      <td>PRO CAMINHONEIRO</td>\n",
       "      <td>ME</td>\n",
       "      <td>RT</td>\n",
       "      <td>PRIV</td>\n",
       "      <td>BNDES</td>\n",
       "      <td>Alienação Fiduciaria Veículos</td>\n",
       "      <td>245000.0</td>\n",
       "    </tr>\n",
       "    <tr>\n",
       "      <th>3</th>\n",
       "      <td>10707</td>\n",
       "      <td>31540015</td>\n",
       "      <td>212903</td>\n",
       "      <td>42349</td>\n",
       "      <td>132834.93</td>\n",
       "      <td>67.0</td>\n",
       "      <td>0.246793</td>\n",
       "      <td>42349</td>\n",
       "      <td>44727</td>\n",
       "      <td>397</td>\n",
       "      <td>...</td>\n",
       "      <td>SETOR PRIVADO</td>\n",
       "      <td>ADIMPLENTE</td>\n",
       "      <td>A</td>\n",
       "      <td>PRO CAMINHONEIRO</td>\n",
       "      <td>ME</td>\n",
       "      <td>RT</td>\n",
       "      <td>PRIV</td>\n",
       "      <td>BNDES</td>\n",
       "      <td>Alienação Fiduciaria Veículos</td>\n",
       "      <td>197000.0</td>\n",
       "    </tr>\n",
       "    <tr>\n",
       "      <th>4</th>\n",
       "      <td>10707</td>\n",
       "      <td>30570018</td>\n",
       "      <td>212911</td>\n",
       "      <td>42349</td>\n",
       "      <td>147130.53</td>\n",
       "      <td>63.0</td>\n",
       "      <td>0.246785</td>\n",
       "      <td>42349</td>\n",
       "      <td>44607</td>\n",
       "      <td>41467</td>\n",
       "      <td>...</td>\n",
       "      <td>SETOR PRIVADO</td>\n",
       "      <td>ADIMPLENTE</td>\n",
       "      <td>A</td>\n",
       "      <td>PRO CAMINHONEIRO</td>\n",
       "      <td>ME</td>\n",
       "      <td>RT</td>\n",
       "      <td>PRIV</td>\n",
       "      <td>BNDES</td>\n",
       "      <td>Alienação Fiduciaria Veículos</td>\n",
       "      <td>268000.0</td>\n",
       "    </tr>\n",
       "  </tbody>\n",
       "</table>\n",
       "<p>5 rows × 25 columns</p>\n",
       "</div>"
      ],
      "text/plain": [
       "   id_produto  id_contrato  id_cliente  data_entrada  valor_fin  qtde_prest  \\\n",
       "0       10707     30560012      212806         42349  151605.74        63.0   \n",
       "1       10707     30450012      212849         42367  133864.13        62.0   \n",
       "2       10707     31260012      212857         42349  156163.26        65.0   \n",
       "3       10707     31540015      212903         42349  132834.93        67.0   \n",
       "4       10707     30570018      212911         42349  147130.53        63.0   \n",
       "\n",
       "  juros_efet  data_entrada.1  data_final  provisao  ...          setor  \\\n",
       "0   0.246781           42349       44607         0  ...  SETOR PRIVADO   \n",
       "1   0.246802           42367       44607         0  ...  SETOR PRIVADO   \n",
       "2   0.246774           42349       44669     45392  ...  SETOR PRIVADO   \n",
       "3   0.246793           42349       44727       397  ...  SETOR PRIVADO   \n",
       "4   0.246785           42349       44607     41467  ...  SETOR PRIVADO   \n",
       "\n",
       "     situacao rating_atual         linha_fin tipo_a tipo_b tipo_c tipo_d  \\\n",
       "0  ADIMPLENTE           AA  PRO CAMINHONEIRO     ME     RT   PRIV  BNDES   \n",
       "1  ADIMPLENTE           AA  PRO CAMINHONEIRO     ME     RT   PRIV  BNDES   \n",
       "2  ADIMPLENTE            A  PRO CAMINHONEIRO     ME     RT   PRIV  BNDES   \n",
       "3  ADIMPLENTE            A  PRO CAMINHONEIRO     ME     RT   PRIV  BNDES   \n",
       "4  ADIMPLENTE            A  PRO CAMINHONEIRO     ME     RT   PRIV  BNDES   \n",
       "\n",
       "                        garantia valor_garantia  \n",
       "0  Alienação Fiduciaria Veículos       245000.0  \n",
       "1  Alienação Fiduciaria Veículos       219000.0  \n",
       "2  Alienação Fiduciaria Veículos       245000.0  \n",
       "3  Alienação Fiduciaria Veículos       197000.0  \n",
       "4  Alienação Fiduciaria Veículos       268000.0  \n",
       "\n",
       "[5 rows x 25 columns]"
      ]
     },
     "execution_count": 14,
     "metadata": {},
     "output_type": "execute_result"
    }
   ],
   "source": [
    "df.head()"
   ]
  },
  {
   "cell_type": "code",
   "execution_count": 15,
   "metadata": {
    "collapsed": true
   },
   "outputs": [
    {
     "name": "stdout",
     "output_type": "stream",
     "text": [
      "<class 'pandas.core.frame.DataFrame'>\n",
      "RangeIndex: 2552 entries, 0 to 2551\n",
      "Data columns (total 25 columns):\n",
      " #   Column           Non-Null Count  Dtype  \n",
      "---  ------           --------------  -----  \n",
      " 0   id_produto       2552 non-null   int64  \n",
      " 1   id_contrato      2552 non-null   int64  \n",
      " 2   id_cliente       2552 non-null   int64  \n",
      " 3   data_entrada     2552 non-null   int64  \n",
      " 4   valor_fin        2552 non-null   float64\n",
      " 5   qtde_prest       2551 non-null   float64\n",
      " 6   juros_efet       2552 non-null   object \n",
      " 7   data_entrada.1   2552 non-null   int64  \n",
      " 8   data_final       2552 non-null   int64  \n",
      " 9   provisao         2552 non-null   int64  \n",
      " 10  fat              2552 non-null   int64  \n",
      " 11  rating_operacao  2552 non-null   object \n",
      " 12  rating_cliente   2552 non-null   object \n",
      " 13  ra               2552 non-null   object \n",
      " 14  porte            2552 non-null   object \n",
      " 15  setor            2552 non-null   object \n",
      " 16  situacao         2552 non-null   object \n",
      " 17  rating_atual     2552 non-null   object \n",
      " 18  linha_fin        2552 non-null   object \n",
      " 19  tipo_a           2552 non-null   object \n",
      " 20  tipo_b           2552 non-null   object \n",
      " 21  tipo_c           2552 non-null   object \n",
      " 22  tipo_d           2552 non-null   object \n",
      " 23  garantia         2552 non-null   object \n",
      " 24  valor_garantia   2537 non-null   float64\n",
      "dtypes: float64(3), int64(8), object(14)\n",
      "memory usage: 498.6+ KB\n"
     ]
    }
   ],
   "source": [
    "#data info \n",
    "df.info()"
   ]
  },
  {
   "cell_type": "code",
   "execution_count": 16,
   "metadata": {
    "collapsed": true
   },
   "outputs": [
    {
     "data": {
      "text/plain": [
       "Index(['id_produto', 'id_contrato', 'id_cliente', 'data_entrada', 'valor_fin',\n",
       "       'qtde_prest', 'juros_efet', 'data_entrada.1', 'data_final', 'provisao',\n",
       "       'fat', 'rating_operacao', 'rating_cliente', 'ra', 'porte', 'setor',\n",
       "       'situacao', 'rating_atual', 'linha_fin', 'tipo_a', 'tipo_b', 'tipo_c',\n",
       "       'tipo_d', 'garantia', 'valor_garantia'],\n",
       "      dtype='object')"
      ]
     },
     "execution_count": 16,
     "metadata": {},
     "output_type": "execute_result"
    }
   ],
   "source": [
    "# mostra o nome de todas as colunas\n",
    "df.columns"
   ]
  },
  {
   "cell_type": "code",
   "execution_count": 17,
   "metadata": {},
   "outputs": [],
   "source": [
    "#drop duplicate rows \n",
    "#df_sub_base = df.drop_duplicates(keep='first')"
   ]
  },
  {
   "cell_type": "code",
   "execution_count": 18,
   "metadata": {},
   "outputs": [
    {
     "data": {
      "text/plain": [
       "(2552, 25)"
      ]
     },
     "execution_count": 18,
     "metadata": {},
     "output_type": "execute_result"
    }
   ],
   "source": [
    "#shape of the data\n",
    "df.shape"
   ]
  },
  {
   "cell_type": "code",
   "execution_count": 19,
   "metadata": {},
   "outputs": [],
   "source": [
    "#criando variáveis quantitativas\n",
    "# razão valor financiado/faturamento\n",
    "df['razao_fin.fat'] = df['valor_fin']/df['fat']\n",
    "\n",
    "# log do faturamento\n",
    "df['log_fat'] = np.log(df['fat'])\n",
    "\n",
    "# prazo \n",
    "df['prazo_dias'] = df['data_final'] - df['data_entrada'] "
   ]
  },
  {
   "cell_type": "code",
   "execution_count": 20,
   "metadata": {},
   "outputs": [],
   "source": [
    "#drop uniportant variables \n",
    "drop_cols = ['id_produto', 'id_contrato', 'id_cliente', 'data_entrada','data_entrada.1', 'data_final'] \n",
    "df_clean = df.drop(drop_cols, axis=1)"
   ]
  },
  {
   "cell_type": "code",
   "execution_count": 21,
   "metadata": {
    "collapsed": true
   },
   "outputs": [
    {
     "data": {
      "text/plain": [
       "Index(['valor_fin', 'qtde_prest', 'juros_efet', 'provisao', 'fat',\n",
       "       'rating_operacao', 'rating_cliente', 'ra', 'porte', 'setor', 'situacao',\n",
       "       'rating_atual', 'linha_fin', 'tipo_a', 'tipo_b', 'tipo_c', 'tipo_d',\n",
       "       'garantia', 'valor_garantia', 'razao_fin.fat', 'log_fat', 'prazo_dias'],\n",
       "      dtype='object')"
      ]
     },
     "execution_count": 21,
     "metadata": {},
     "output_type": "execute_result"
    }
   ],
   "source": [
    "## Colunas da tabela\n",
    "df_clean.columns"
   ]
  },
  {
   "cell_type": "code",
   "execution_count": 22,
   "metadata": {
    "collapsed": true
   },
   "outputs": [
    {
     "data": {
      "text/html": [
       "<div>\n",
       "<style scoped>\n",
       "    .dataframe tbody tr th:only-of-type {\n",
       "        vertical-align: middle;\n",
       "    }\n",
       "\n",
       "    .dataframe tbody tr th {\n",
       "        vertical-align: top;\n",
       "    }\n",
       "\n",
       "    .dataframe thead th {\n",
       "        text-align: right;\n",
       "    }\n",
       "</style>\n",
       "<table border=\"1\" class=\"dataframe\">\n",
       "  <thead>\n",
       "    <tr style=\"text-align: right;\">\n",
       "      <th></th>\n",
       "      <th>valor_fin</th>\n",
       "      <th>qtde_prest</th>\n",
       "      <th>juros_efet</th>\n",
       "      <th>provisao</th>\n",
       "      <th>fat</th>\n",
       "      <th>rating_operacao</th>\n",
       "      <th>rating_cliente</th>\n",
       "      <th>ra</th>\n",
       "      <th>porte</th>\n",
       "      <th>setor</th>\n",
       "      <th>...</th>\n",
       "      <th>linha_fin</th>\n",
       "      <th>tipo_a</th>\n",
       "      <th>tipo_b</th>\n",
       "      <th>tipo_c</th>\n",
       "      <th>tipo_d</th>\n",
       "      <th>garantia</th>\n",
       "      <th>valor_garantia</th>\n",
       "      <th>razao_fin.fat</th>\n",
       "      <th>log_fat</th>\n",
       "      <th>prazo_dias</th>\n",
       "    </tr>\n",
       "  </thead>\n",
       "  <tbody>\n",
       "    <tr>\n",
       "      <th>0</th>\n",
       "      <td>151605.74</td>\n",
       "      <td>63.0</td>\n",
       "      <td>0.246781</td>\n",
       "      <td>0</td>\n",
       "      <td>7481</td>\n",
       "      <td>AA</td>\n",
       "      <td>B</td>\n",
       "      <td>RA de Santos</td>\n",
       "      <td>PF</td>\n",
       "      <td>SETOR PRIVADO</td>\n",
       "      <td>...</td>\n",
       "      <td>PRO CAMINHONEIRO</td>\n",
       "      <td>ME</td>\n",
       "      <td>RT</td>\n",
       "      <td>PRIV</td>\n",
       "      <td>BNDES</td>\n",
       "      <td>Alienação Fiduciaria Veículos</td>\n",
       "      <td>245000.0</td>\n",
       "      <td>20.265438</td>\n",
       "      <td>8.920122</td>\n",
       "      <td>2258</td>\n",
       "    </tr>\n",
       "    <tr>\n",
       "      <th>1</th>\n",
       "      <td>133864.13</td>\n",
       "      <td>62.0</td>\n",
       "      <td>0.246802</td>\n",
       "      <td>0</td>\n",
       "      <td>6482</td>\n",
       "      <td>AA</td>\n",
       "      <td>B</td>\n",
       "      <td>RA de Santos</td>\n",
       "      <td>PF</td>\n",
       "      <td>SETOR PRIVADO</td>\n",
       "      <td>...</td>\n",
       "      <td>PRO CAMINHONEIRO</td>\n",
       "      <td>ME</td>\n",
       "      <td>RT</td>\n",
       "      <td>PRIV</td>\n",
       "      <td>BNDES</td>\n",
       "      <td>Alienação Fiduciaria Veículos</td>\n",
       "      <td>219000.0</td>\n",
       "      <td>20.651671</td>\n",
       "      <td>8.776784</td>\n",
       "      <td>2240</td>\n",
       "    </tr>\n",
       "    <tr>\n",
       "      <th>2</th>\n",
       "      <td>156163.26</td>\n",
       "      <td>65.0</td>\n",
       "      <td>0.246774</td>\n",
       "      <td>45392</td>\n",
       "      <td>960378</td>\n",
       "      <td>A</td>\n",
       "      <td>B</td>\n",
       "      <td>RA de Santos</td>\n",
       "      <td>PF</td>\n",
       "      <td>SETOR PRIVADO</td>\n",
       "      <td>...</td>\n",
       "      <td>PRO CAMINHONEIRO</td>\n",
       "      <td>ME</td>\n",
       "      <td>RT</td>\n",
       "      <td>PRIV</td>\n",
       "      <td>BNDES</td>\n",
       "      <td>Alienação Fiduciaria Veículos</td>\n",
       "      <td>245000.0</td>\n",
       "      <td>0.162606</td>\n",
       "      <td>13.775082</td>\n",
       "      <td>2320</td>\n",
       "    </tr>\n",
       "    <tr>\n",
       "      <th>3</th>\n",
       "      <td>132834.93</td>\n",
       "      <td>67.0</td>\n",
       "      <td>0.246793</td>\n",
       "      <td>397</td>\n",
       "      <td>1005795</td>\n",
       "      <td>A</td>\n",
       "      <td>A</td>\n",
       "      <td>RA de Santos</td>\n",
       "      <td>PF</td>\n",
       "      <td>SETOR PRIVADO</td>\n",
       "      <td>...</td>\n",
       "      <td>PRO CAMINHONEIRO</td>\n",
       "      <td>ME</td>\n",
       "      <td>RT</td>\n",
       "      <td>PRIV</td>\n",
       "      <td>BNDES</td>\n",
       "      <td>Alienação Fiduciaria Veículos</td>\n",
       "      <td>197000.0</td>\n",
       "      <td>0.132070</td>\n",
       "      <td>13.821289</td>\n",
       "      <td>2378</td>\n",
       "    </tr>\n",
       "    <tr>\n",
       "      <th>4</th>\n",
       "      <td>147130.53</td>\n",
       "      <td>63.0</td>\n",
       "      <td>0.246785</td>\n",
       "      <td>41467</td>\n",
       "      <td>813483</td>\n",
       "      <td>A</td>\n",
       "      <td>A</td>\n",
       "      <td>RA de Santos</td>\n",
       "      <td>PF</td>\n",
       "      <td>SETOR PRIVADO</td>\n",
       "      <td>...</td>\n",
       "      <td>PRO CAMINHONEIRO</td>\n",
       "      <td>ME</td>\n",
       "      <td>RT</td>\n",
       "      <td>PRIV</td>\n",
       "      <td>BNDES</td>\n",
       "      <td>Alienação Fiduciaria Veículos</td>\n",
       "      <td>268000.0</td>\n",
       "      <td>0.180865</td>\n",
       "      <td>13.609080</td>\n",
       "      <td>2258</td>\n",
       "    </tr>\n",
       "  </tbody>\n",
       "</table>\n",
       "<p>5 rows × 22 columns</p>\n",
       "</div>"
      ],
      "text/plain": [
       "   valor_fin  qtde_prest juros_efet  provisao      fat rating_operacao  \\\n",
       "0  151605.74        63.0   0.246781         0     7481              AA   \n",
       "1  133864.13        62.0   0.246802         0     6482              AA   \n",
       "2  156163.26        65.0   0.246774     45392   960378               A   \n",
       "3  132834.93        67.0   0.246793       397  1005795               A   \n",
       "4  147130.53        63.0   0.246785     41467   813483               A   \n",
       "\n",
       "  rating_cliente            ra porte          setor  ...         linha_fin  \\\n",
       "0              B  RA de Santos    PF  SETOR PRIVADO  ...  PRO CAMINHONEIRO   \n",
       "1              B  RA de Santos    PF  SETOR PRIVADO  ...  PRO CAMINHONEIRO   \n",
       "2              B  RA de Santos    PF  SETOR PRIVADO  ...  PRO CAMINHONEIRO   \n",
       "3              A  RA de Santos    PF  SETOR PRIVADO  ...  PRO CAMINHONEIRO   \n",
       "4              A  RA de Santos    PF  SETOR PRIVADO  ...  PRO CAMINHONEIRO   \n",
       "\n",
       "  tipo_a tipo_b tipo_c tipo_d                       garantia valor_garantia  \\\n",
       "0     ME     RT   PRIV  BNDES  Alienação Fiduciaria Veículos       245000.0   \n",
       "1     ME     RT   PRIV  BNDES  Alienação Fiduciaria Veículos       219000.0   \n",
       "2     ME     RT   PRIV  BNDES  Alienação Fiduciaria Veículos       245000.0   \n",
       "3     ME     RT   PRIV  BNDES  Alienação Fiduciaria Veículos       197000.0   \n",
       "4     ME     RT   PRIV  BNDES  Alienação Fiduciaria Veículos       268000.0   \n",
       "\n",
       "  razao_fin.fat    log_fat  prazo_dias  \n",
       "0     20.265438   8.920122        2258  \n",
       "1     20.651671   8.776784        2240  \n",
       "2      0.162606  13.775082        2320  \n",
       "3      0.132070  13.821289        2378  \n",
       "4      0.180865  13.609080        2258  \n",
       "\n",
       "[5 rows x 22 columns]"
      ]
     },
     "execution_count": 22,
     "metadata": {},
     "output_type": "execute_result"
    }
   ],
   "source": [
    "## Tabela \n",
    "df_clean.head()"
   ]
  },
  {
   "cell_type": "markdown",
   "metadata": {},
   "source": [
    "ANALISANDO SOMENTE EMPRESAS TOMADORAS DE FINACIAMENTO PARA PI"
   ]
  },
  {
   "cell_type": "code",
   "execution_count": 23,
   "metadata": {},
   "outputs": [],
   "source": [
    "## Selecionar somente dados tipo.a = PI     e   tipo.c = priv\n",
    "df_clean_PI = df_clean[df_clean['tipo_a']=='PI']"
   ]
  },
  {
   "cell_type": "code",
   "execution_count": 25,
   "metadata": {},
   "outputs": [],
   "source": [
    "#separando as variáveis por tipo (quantitativa e categórica)\n",
    "#variáveis categóricas\n",
    "quant_var = ['valor_fin','qtde_prest', 'juros_efet', 'provisao','fat', 'valor_garantia','razao_fin.fat', 'log_fat', 'prazo_dias']\n",
    "df_categ_var = df_clean.drop(quant_var, axis=1)"
   ]
  },
  {
   "cell_type": "code",
   "execution_count": 26,
   "metadata": {},
   "outputs": [],
   "source": [
    "# variáveis quantitativas\n",
    "df_quant_var = df_clean_PI.drop(df_categ_var, axis=1)"
   ]
  },
  {
   "cell_type": "code",
   "execution_count": 27,
   "metadata": {
    "collapsed": true
   },
   "outputs": [
    {
     "data": {
      "text/plain": [
       "Index(['valor_fin', 'qtde_prest', 'juros_efet', 'provisao', 'fat',\n",
       "       'valor_garantia', 'razao_fin.fat', 'log_fat', 'prazo_dias'],\n",
       "      dtype='object')"
      ]
     },
     "execution_count": 27,
     "metadata": {},
     "output_type": "execute_result"
    }
   ],
   "source": [
    "## colunas variáveis quantitativas \n",
    "df_quant_var.columns"
   ]
  },
  {
   "cell_type": "code",
   "execution_count": 31,
   "metadata": {
    "collapsed": true
   },
   "outputs": [
    {
     "data": {
      "text/html": [
       "<div>\n",
       "<style scoped>\n",
       "    .dataframe tbody tr th:only-of-type {\n",
       "        vertical-align: middle;\n",
       "    }\n",
       "\n",
       "    .dataframe tbody tr th {\n",
       "        vertical-align: top;\n",
       "    }\n",
       "\n",
       "    .dataframe thead th {\n",
       "        text-align: right;\n",
       "    }\n",
       "</style>\n",
       "<table border=\"1\" class=\"dataframe\">\n",
       "  <thead>\n",
       "    <tr style=\"text-align: right;\">\n",
       "      <th></th>\n",
       "      <th>valor_fin</th>\n",
       "      <th>qtde_prest</th>\n",
       "      <th>juros_efet</th>\n",
       "      <th>provisao</th>\n",
       "      <th>fat</th>\n",
       "      <th>valor_garantia</th>\n",
       "      <th>razao_fin.fat</th>\n",
       "      <th>log_fat</th>\n",
       "      <th>prazo_dias</th>\n",
       "    </tr>\n",
       "  </thead>\n",
       "  <tbody>\n",
       "    <tr>\n",
       "      <th>425</th>\n",
       "      <td>2364534.71</td>\n",
       "      <td>104.0</td>\n",
       "      <td>0.672346</td>\n",
       "      <td>0</td>\n",
       "      <td>2698464349</td>\n",
       "      <td>5300000.00</td>\n",
       "      <td>0.000876</td>\n",
       "      <td>21.715949</td>\n",
       "      <td>3591</td>\n",
       "    </tr>\n",
       "    <tr>\n",
       "      <th>426</th>\n",
       "      <td>2271028.51</td>\n",
       "      <td>103.0</td>\n",
       "      <td>0.375529</td>\n",
       "      <td>73622</td>\n",
       "      <td>1683595</td>\n",
       "      <td>16930000.00</td>\n",
       "      <td>1.348916</td>\n",
       "      <td>14.336442</td>\n",
       "      <td>3527</td>\n",
       "    </tr>\n",
       "    <tr>\n",
       "      <th>427</th>\n",
       "      <td>2071182.01</td>\n",
       "      <td>98.0</td>\n",
       "      <td>0.389435</td>\n",
       "      <td>977033</td>\n",
       "      <td>287227486</td>\n",
       "      <td>3500000.00</td>\n",
       "      <td>0.007211</td>\n",
       "      <td>19.475785</td>\n",
       "      <td>3099</td>\n",
       "    </tr>\n",
       "    <tr>\n",
       "      <th>428</th>\n",
       "      <td>877689.62</td>\n",
       "      <td>103.0</td>\n",
       "      <td>0.449677</td>\n",
       "      <td>0</td>\n",
       "      <td>15862376</td>\n",
       "      <td>3400000.00</td>\n",
       "      <td>0.055332</td>\n",
       "      <td>16.579461</td>\n",
       "      <td>3517</td>\n",
       "    </tr>\n",
       "    <tr>\n",
       "      <th>429</th>\n",
       "      <td>2466524.78</td>\n",
       "      <td>116.0</td>\n",
       "      <td>0.427918</td>\n",
       "      <td>0</td>\n",
       "      <td>3235522</td>\n",
       "      <td>20450000.00</td>\n",
       "      <td>0.762327</td>\n",
       "      <td>14.989701</td>\n",
       "      <td>3618</td>\n",
       "    </tr>\n",
       "    <tr>\n",
       "      <th>...</th>\n",
       "      <td>...</td>\n",
       "      <td>...</td>\n",
       "      <td>...</td>\n",
       "      <td>...</td>\n",
       "      <td>...</td>\n",
       "      <td>...</td>\n",
       "      <td>...</td>\n",
       "      <td>...</td>\n",
       "      <td>...</td>\n",
       "    </tr>\n",
       "    <tr>\n",
       "      <th>2544</th>\n",
       "      <td>5412643.81</td>\n",
       "      <td>119.0</td>\n",
       "      <td>0.477397</td>\n",
       "      <td>2727234</td>\n",
       "      <td>35561429</td>\n",
       "      <td>19762000.00</td>\n",
       "      <td>0.152205</td>\n",
       "      <td>17.386772</td>\n",
       "      <td>3617</td>\n",
       "    </tr>\n",
       "    <tr>\n",
       "      <th>2545</th>\n",
       "      <td>195587.20</td>\n",
       "      <td>119.0</td>\n",
       "      <td>0.477775</td>\n",
       "      <td>0</td>\n",
       "      <td>33115609</td>\n",
       "      <td>1188569.39</td>\n",
       "      <td>0.005906</td>\n",
       "      <td>17.315515</td>\n",
       "      <td>3626</td>\n",
       "    </tr>\n",
       "    <tr>\n",
       "      <th>2546</th>\n",
       "      <td>609932.11</td>\n",
       "      <td>95.0</td>\n",
       "      <td>0.586101</td>\n",
       "      <td>1843935</td>\n",
       "      <td>1</td>\n",
       "      <td>340000.00</td>\n",
       "      <td>609932.110000</td>\n",
       "      <td>0.000000</td>\n",
       "      <td>2884</td>\n",
       "    </tr>\n",
       "    <tr>\n",
       "      <th>2547</th>\n",
       "      <td>560763.83</td>\n",
       "      <td>120.0</td>\n",
       "      <td>0.478414</td>\n",
       "      <td>565069</td>\n",
       "      <td>1</td>\n",
       "      <td>354000.00</td>\n",
       "      <td>560763.830000</td>\n",
       "      <td>0.000000</td>\n",
       "      <td>3646</td>\n",
       "    </tr>\n",
       "    <tr>\n",
       "      <th>2548</th>\n",
       "      <td>53194.04</td>\n",
       "      <td>120.0</td>\n",
       "      <td>1.242.562</td>\n",
       "      <td>159906</td>\n",
       "      <td>1</td>\n",
       "      <td>105292.20</td>\n",
       "      <td>53194.040000</td>\n",
       "      <td>0.000000</td>\n",
       "      <td>3636</td>\n",
       "    </tr>\n",
       "  </tbody>\n",
       "</table>\n",
       "<p>496 rows × 9 columns</p>\n",
       "</div>"
      ],
      "text/plain": [
       "       valor_fin  qtde_prest juros_efet  provisao         fat  valor_garantia  \\\n",
       "425   2364534.71       104.0   0.672346         0  2698464349      5300000.00   \n",
       "426   2271028.51       103.0   0.375529     73622     1683595     16930000.00   \n",
       "427   2071182.01        98.0   0.389435    977033   287227486      3500000.00   \n",
       "428    877689.62       103.0   0.449677         0    15862376      3400000.00   \n",
       "429   2466524.78       116.0   0.427918         0     3235522     20450000.00   \n",
       "...          ...         ...        ...       ...         ...             ...   \n",
       "2544  5412643.81       119.0   0.477397   2727234    35561429     19762000.00   \n",
       "2545   195587.20       119.0   0.477775         0    33115609      1188569.39   \n",
       "2546   609932.11        95.0   0.586101   1843935           1       340000.00   \n",
       "2547   560763.83       120.0   0.478414    565069           1       354000.00   \n",
       "2548    53194.04       120.0  1.242.562    159906           1       105292.20   \n",
       "\n",
       "      razao_fin.fat    log_fat  prazo_dias  \n",
       "425        0.000876  21.715949        3591  \n",
       "426        1.348916  14.336442        3527  \n",
       "427        0.007211  19.475785        3099  \n",
       "428        0.055332  16.579461        3517  \n",
       "429        0.762327  14.989701        3618  \n",
       "...             ...        ...         ...  \n",
       "2544       0.152205  17.386772        3617  \n",
       "2545       0.005906  17.315515        3626  \n",
       "2546  609932.110000   0.000000        2884  \n",
       "2547  560763.830000   0.000000        3646  \n",
       "2548   53194.040000   0.000000        3636  \n",
       "\n",
       "[496 rows x 9 columns]"
      ]
     },
     "execution_count": 31,
     "metadata": {},
     "output_type": "execute_result"
    }
   ],
   "source": [
    "# Variáveis quantitativas \n",
    "df_quant_var"
   ]
  },
  {
   "cell_type": "code",
   "execution_count": 66,
   "metadata": {
    "collapsed": true
   },
   "outputs": [
    {
     "data": {
      "text/plain": [
       "Index(['rating_operacao', 'rating_cliente', 'ra', 'porte', 'setor', 'situacao',\n",
       "       'rating_atual', 'linha_fin', 'tipo_a', 'tipo_b', 'tipo_c', 'tipo_d',\n",
       "       'garantia'],\n",
       "      dtype='object')"
      ]
     },
     "execution_count": 66,
     "metadata": {},
     "output_type": "execute_result"
    }
   ],
   "source": [
    "# variáveis categóricas\n",
    "df_categ_var.columns"
   ]
  },
  {
   "cell_type": "raw",
   "metadata": {},
   "source": [
    "#ANÁLISE VARIÁVEIS QUANTITATIVAS"
   ]
  },
  {
   "cell_type": "code",
   "execution_count": 29,
   "metadata": {
    "collapsed": true
   },
   "outputs": [
    {
     "data": {
      "text/html": [
       "<div>\n",
       "<style scoped>\n",
       "    .dataframe tbody tr th:only-of-type {\n",
       "        vertical-align: middle;\n",
       "    }\n",
       "\n",
       "    .dataframe tbody tr th {\n",
       "        vertical-align: top;\n",
       "    }\n",
       "\n",
       "    .dataframe thead th {\n",
       "        text-align: right;\n",
       "    }\n",
       "</style>\n",
       "<table border=\"1\" class=\"dataframe\">\n",
       "  <thead>\n",
       "    <tr style=\"text-align: right;\">\n",
       "      <th></th>\n",
       "      <th>valor_fin</th>\n",
       "      <th>qtde_prest</th>\n",
       "      <th>juros_efet</th>\n",
       "      <th>provisao</th>\n",
       "      <th>fat</th>\n",
       "      <th>valor_garantia</th>\n",
       "      <th>razao_fin.fat</th>\n",
       "      <th>log_fat</th>\n",
       "      <th>prazo_dias</th>\n",
       "    </tr>\n",
       "  </thead>\n",
       "  <tbody>\n",
       "    <tr>\n",
       "      <th>425</th>\n",
       "      <td>2364534.71</td>\n",
       "      <td>104.0</td>\n",
       "      <td>0.672346</td>\n",
       "      <td>0</td>\n",
       "      <td>2698464349</td>\n",
       "      <td>5300000.00</td>\n",
       "      <td>0.00</td>\n",
       "      <td>21.72</td>\n",
       "      <td>3591</td>\n",
       "    </tr>\n",
       "    <tr>\n",
       "      <th>426</th>\n",
       "      <td>2271028.51</td>\n",
       "      <td>103.0</td>\n",
       "      <td>0.375529</td>\n",
       "      <td>73622</td>\n",
       "      <td>1683595</td>\n",
       "      <td>16930000.00</td>\n",
       "      <td>1.35</td>\n",
       "      <td>14.34</td>\n",
       "      <td>3527</td>\n",
       "    </tr>\n",
       "    <tr>\n",
       "      <th>427</th>\n",
       "      <td>2071182.01</td>\n",
       "      <td>98.0</td>\n",
       "      <td>0.389435</td>\n",
       "      <td>977033</td>\n",
       "      <td>287227486</td>\n",
       "      <td>3500000.00</td>\n",
       "      <td>0.01</td>\n",
       "      <td>19.48</td>\n",
       "      <td>3099</td>\n",
       "    </tr>\n",
       "    <tr>\n",
       "      <th>428</th>\n",
       "      <td>877689.62</td>\n",
       "      <td>103.0</td>\n",
       "      <td>0.449677</td>\n",
       "      <td>0</td>\n",
       "      <td>15862376</td>\n",
       "      <td>3400000.00</td>\n",
       "      <td>0.06</td>\n",
       "      <td>16.58</td>\n",
       "      <td>3517</td>\n",
       "    </tr>\n",
       "    <tr>\n",
       "      <th>429</th>\n",
       "      <td>2466524.78</td>\n",
       "      <td>116.0</td>\n",
       "      <td>0.427918</td>\n",
       "      <td>0</td>\n",
       "      <td>3235522</td>\n",
       "      <td>20450000.00</td>\n",
       "      <td>0.76</td>\n",
       "      <td>14.99</td>\n",
       "      <td>3618</td>\n",
       "    </tr>\n",
       "    <tr>\n",
       "      <th>...</th>\n",
       "      <td>...</td>\n",
       "      <td>...</td>\n",
       "      <td>...</td>\n",
       "      <td>...</td>\n",
       "      <td>...</td>\n",
       "      <td>...</td>\n",
       "      <td>...</td>\n",
       "      <td>...</td>\n",
       "      <td>...</td>\n",
       "    </tr>\n",
       "    <tr>\n",
       "      <th>2544</th>\n",
       "      <td>5412643.81</td>\n",
       "      <td>119.0</td>\n",
       "      <td>0.477397</td>\n",
       "      <td>2727234</td>\n",
       "      <td>35561429</td>\n",
       "      <td>19762000.00</td>\n",
       "      <td>0.15</td>\n",
       "      <td>17.39</td>\n",
       "      <td>3617</td>\n",
       "    </tr>\n",
       "    <tr>\n",
       "      <th>2545</th>\n",
       "      <td>195587.20</td>\n",
       "      <td>119.0</td>\n",
       "      <td>0.477775</td>\n",
       "      <td>0</td>\n",
       "      <td>33115609</td>\n",
       "      <td>1188569.39</td>\n",
       "      <td>0.01</td>\n",
       "      <td>17.32</td>\n",
       "      <td>3626</td>\n",
       "    </tr>\n",
       "    <tr>\n",
       "      <th>2546</th>\n",
       "      <td>609932.11</td>\n",
       "      <td>95.0</td>\n",
       "      <td>0.586101</td>\n",
       "      <td>1843935</td>\n",
       "      <td>1</td>\n",
       "      <td>340000.00</td>\n",
       "      <td>609932.11</td>\n",
       "      <td>0.00</td>\n",
       "      <td>2884</td>\n",
       "    </tr>\n",
       "    <tr>\n",
       "      <th>2547</th>\n",
       "      <td>560763.83</td>\n",
       "      <td>120.0</td>\n",
       "      <td>0.478414</td>\n",
       "      <td>565069</td>\n",
       "      <td>1</td>\n",
       "      <td>354000.00</td>\n",
       "      <td>560763.83</td>\n",
       "      <td>0.00</td>\n",
       "      <td>3646</td>\n",
       "    </tr>\n",
       "    <tr>\n",
       "      <th>2548</th>\n",
       "      <td>53194.04</td>\n",
       "      <td>120.0</td>\n",
       "      <td>1.242.562</td>\n",
       "      <td>159906</td>\n",
       "      <td>1</td>\n",
       "      <td>105292.20</td>\n",
       "      <td>53194.04</td>\n",
       "      <td>0.00</td>\n",
       "      <td>3636</td>\n",
       "    </tr>\n",
       "  </tbody>\n",
       "</table>\n",
       "<p>496 rows × 9 columns</p>\n",
       "</div>"
      ],
      "text/plain": [
       "       valor_fin  qtde_prest juros_efet  provisao         fat  valor_garantia  \\\n",
       "425   2364534.71       104.0   0.672346         0  2698464349      5300000.00   \n",
       "426   2271028.51       103.0   0.375529     73622     1683595     16930000.00   \n",
       "427   2071182.01        98.0   0.389435    977033   287227486      3500000.00   \n",
       "428    877689.62       103.0   0.449677         0    15862376      3400000.00   \n",
       "429   2466524.78       116.0   0.427918         0     3235522     20450000.00   \n",
       "...          ...         ...        ...       ...         ...             ...   \n",
       "2544  5412643.81       119.0   0.477397   2727234    35561429     19762000.00   \n",
       "2545   195587.20       119.0   0.477775         0    33115609      1188569.39   \n",
       "2546   609932.11        95.0   0.586101   1843935           1       340000.00   \n",
       "2547   560763.83       120.0   0.478414    565069           1       354000.00   \n",
       "2548    53194.04       120.0  1.242.562    159906           1       105292.20   \n",
       "\n",
       "      razao_fin.fat  log_fat  prazo_dias  \n",
       "425            0.00    21.72        3591  \n",
       "426            1.35    14.34        3527  \n",
       "427            0.01    19.48        3099  \n",
       "428            0.06    16.58        3517  \n",
       "429            0.76    14.99        3618  \n",
       "...             ...      ...         ...  \n",
       "2544           0.15    17.39        3617  \n",
       "2545           0.01    17.32        3626  \n",
       "2546      609932.11     0.00        2884  \n",
       "2547      560763.83     0.00        3646  \n",
       "2548       53194.04     0.00        3636  \n",
       "\n",
       "[496 rows x 9 columns]"
      ]
     },
     "execution_count": 29,
     "metadata": {},
     "output_type": "execute_result"
    }
   ],
   "source": [
    "## Tentativa de trabalhar com somente duas casas decimais !!!!!!fazer isto!!!\n",
    "round(df_quant_var,2)"
   ]
  },
  {
   "cell_type": "code",
   "execution_count": 30,
   "metadata": {
    "collapsed": true
   },
   "outputs": [
    {
     "data": {
      "text/html": [
       "<div>\n",
       "<style scoped>\n",
       "    .dataframe tbody tr th:only-of-type {\n",
       "        vertical-align: middle;\n",
       "    }\n",
       "\n",
       "    .dataframe tbody tr th {\n",
       "        vertical-align: top;\n",
       "    }\n",
       "\n",
       "    .dataframe thead th {\n",
       "        text-align: right;\n",
       "    }\n",
       "</style>\n",
       "<table border=\"1\" class=\"dataframe\">\n",
       "  <thead>\n",
       "    <tr style=\"text-align: right;\">\n",
       "      <th></th>\n",
       "      <th>valor_fin</th>\n",
       "      <th>qtde_prest</th>\n",
       "      <th>provisao</th>\n",
       "      <th>fat</th>\n",
       "      <th>valor_garantia</th>\n",
       "      <th>razao_fin.fat</th>\n",
       "      <th>log_fat</th>\n",
       "      <th>prazo_dias</th>\n",
       "    </tr>\n",
       "  </thead>\n",
       "  <tbody>\n",
       "    <tr>\n",
       "      <th>count</th>\n",
       "      <td>4.960000e+02</td>\n",
       "      <td>495.000000</td>\n",
       "      <td>4.960000e+02</td>\n",
       "      <td>4.960000e+02</td>\n",
       "      <td>4.950000e+02</td>\n",
       "      <td>4.960000e+02</td>\n",
       "      <td>496.000000</td>\n",
       "      <td>496.000000</td>\n",
       "    </tr>\n",
       "    <tr>\n",
       "      <th>mean</th>\n",
       "      <td>2.771987e+06</td>\n",
       "      <td>80.771717</td>\n",
       "      <td>7.189209e+06</td>\n",
       "      <td>1.157434e+09</td>\n",
       "      <td>3.585304e+06</td>\n",
       "      <td>2.666642e+05</td>\n",
       "      <td>16.698418</td>\n",
       "      <td>2688.258065</td>\n",
       "    </tr>\n",
       "    <tr>\n",
       "      <th>std</th>\n",
       "      <td>3.900304e+06</td>\n",
       "      <td>27.365764</td>\n",
       "      <td>4.941122e+07</td>\n",
       "      <td>1.949048e+09</td>\n",
       "      <td>6.736547e+06</td>\n",
       "      <td>1.505667e+06</td>\n",
       "      <td>6.817540</td>\n",
       "      <td>743.935029</td>\n",
       "    </tr>\n",
       "    <tr>\n",
       "      <th>min</th>\n",
       "      <td>3.801144e+04</td>\n",
       "      <td>12.000000</td>\n",
       "      <td>0.000000e+00</td>\n",
       "      <td>1.000000e+00</td>\n",
       "      <td>0.000000e+00</td>\n",
       "      <td>4.023410e-05</td>\n",
       "      <td>0.000000</td>\n",
       "      <td>707.000000</td>\n",
       "    </tr>\n",
       "    <tr>\n",
       "      <th>25%</th>\n",
       "      <td>4.952875e+05</td>\n",
       "      <td>60.000000</td>\n",
       "      <td>0.000000e+00</td>\n",
       "      <td>7.964000e+06</td>\n",
       "      <td>3.465000e+05</td>\n",
       "      <td>1.320316e-03</td>\n",
       "      <td>15.890442</td>\n",
       "      <td>2136.500000</td>\n",
       "    </tr>\n",
       "    <tr>\n",
       "      <th>50%</th>\n",
       "      <td>1.301003e+06</td>\n",
       "      <td>86.000000</td>\n",
       "      <td>1.427915e+05</td>\n",
       "      <td>2.003034e+08</td>\n",
       "      <td>1.156357e+06</td>\n",
       "      <td>5.945245e-03</td>\n",
       "      <td>19.115311</td>\n",
       "      <td>2718.500000</td>\n",
       "    </tr>\n",
       "    <tr>\n",
       "      <th>75%</th>\n",
       "      <td>3.151114e+06</td>\n",
       "      <td>96.000000</td>\n",
       "      <td>1.098707e+06</td>\n",
       "      <td>1.511619e+09</td>\n",
       "      <td>4.000000e+06</td>\n",
       "      <td>1.495783e-01</td>\n",
       "      <td>21.136447</td>\n",
       "      <td>3584.000000</td>\n",
       "    </tr>\n",
       "    <tr>\n",
       "      <th>max</th>\n",
       "      <td>3.368884e+07</td>\n",
       "      <td>238.000000</td>\n",
       "      <td>8.412081e+08</td>\n",
       "      <td>9.987347e+09</td>\n",
       "      <td>6.983000e+07</td>\n",
       "      <td>2.541300e+07</td>\n",
       "      <td>23.024585</td>\n",
       "      <td>4610.000000</td>\n",
       "    </tr>\n",
       "  </tbody>\n",
       "</table>\n",
       "</div>"
      ],
      "text/plain": [
       "          valor_fin  qtde_prest      provisao           fat  valor_garantia  \\\n",
       "count  4.960000e+02  495.000000  4.960000e+02  4.960000e+02    4.950000e+02   \n",
       "mean   2.771987e+06   80.771717  7.189209e+06  1.157434e+09    3.585304e+06   \n",
       "std    3.900304e+06   27.365764  4.941122e+07  1.949048e+09    6.736547e+06   \n",
       "min    3.801144e+04   12.000000  0.000000e+00  1.000000e+00    0.000000e+00   \n",
       "25%    4.952875e+05   60.000000  0.000000e+00  7.964000e+06    3.465000e+05   \n",
       "50%    1.301003e+06   86.000000  1.427915e+05  2.003034e+08    1.156357e+06   \n",
       "75%    3.151114e+06   96.000000  1.098707e+06  1.511619e+09    4.000000e+06   \n",
       "max    3.368884e+07  238.000000  8.412081e+08  9.987347e+09    6.983000e+07   \n",
       "\n",
       "       razao_fin.fat     log_fat   prazo_dias  \n",
       "count   4.960000e+02  496.000000   496.000000  \n",
       "mean    2.666642e+05   16.698418  2688.258065  \n",
       "std     1.505667e+06    6.817540   743.935029  \n",
       "min     4.023410e-05    0.000000   707.000000  \n",
       "25%     1.320316e-03   15.890442  2136.500000  \n",
       "50%     5.945245e-03   19.115311  2718.500000  \n",
       "75%     1.495783e-01   21.136447  3584.000000  \n",
       "max     2.541300e+07   23.024585  4610.000000  "
      ]
     },
     "execution_count": 30,
     "metadata": {},
     "output_type": "execute_result"
    }
   ],
   "source": [
    "#Análise descritiva variáveis quantitativas (sumary)    !!!dúvidas .. como deixar somente 2 casa decimais e pq tem informações com sublinado em azul claro\n",
    "df_quant_var.describe()"
   ]
  },
  {
   "cell_type": "code",
   "execution_count": 32,
   "metadata": {
    "collapsed": true
   },
   "outputs": [
    {
     "data": {
      "text/html": [
       "<div>\n",
       "<style scoped>\n",
       "    .dataframe tbody tr th:only-of-type {\n",
       "        vertical-align: middle;\n",
       "    }\n",
       "\n",
       "    .dataframe tbody tr th {\n",
       "        vertical-align: top;\n",
       "    }\n",
       "\n",
       "    .dataframe thead th {\n",
       "        text-align: right;\n",
       "    }\n",
       "</style>\n",
       "<table border=\"1\" class=\"dataframe\">\n",
       "  <thead>\n",
       "    <tr style=\"text-align: right;\">\n",
       "      <th></th>\n",
       "      <th>valor_fin</th>\n",
       "      <th>qtde_prest</th>\n",
       "      <th>provisao</th>\n",
       "      <th>fat</th>\n",
       "      <th>valor_garantia</th>\n",
       "      <th>razao_fin.fat</th>\n",
       "      <th>log_fat</th>\n",
       "      <th>prazo_dias</th>\n",
       "    </tr>\n",
       "  </thead>\n",
       "  <tbody>\n",
       "    <tr>\n",
       "      <th>valor_fin</th>\n",
       "      <td>1.000000</td>\n",
       "      <td>0.122143</td>\n",
       "      <td>0.183842</td>\n",
       "      <td>0.294611</td>\n",
       "      <td>0.646232</td>\n",
       "      <td>0.272076</td>\n",
       "      <td>0.157798</td>\n",
       "      <td>0.152155</td>\n",
       "    </tr>\n",
       "    <tr>\n",
       "      <th>qtde_prest</th>\n",
       "      <td>0.122143</td>\n",
       "      <td>1.000000</td>\n",
       "      <td>0.095691</td>\n",
       "      <td>-0.109426</td>\n",
       "      <td>0.092012</td>\n",
       "      <td>0.098967</td>\n",
       "      <td>-0.127758</td>\n",
       "      <td>0.865259</td>\n",
       "    </tr>\n",
       "    <tr>\n",
       "      <th>provisao</th>\n",
       "      <td>0.183842</td>\n",
       "      <td>0.095691</td>\n",
       "      <td>1.000000</td>\n",
       "      <td>-0.017490</td>\n",
       "      <td>0.073408</td>\n",
       "      <td>0.018780</td>\n",
       "      <td>0.001903</td>\n",
       "      <td>0.090797</td>\n",
       "    </tr>\n",
       "    <tr>\n",
       "      <th>fat</th>\n",
       "      <td>0.294611</td>\n",
       "      <td>-0.109426</td>\n",
       "      <td>-0.017490</td>\n",
       "      <td>1.000000</td>\n",
       "      <td>0.223549</td>\n",
       "      <td>-0.105387</td>\n",
       "      <td>0.454997</td>\n",
       "      <td>-0.095795</td>\n",
       "    </tr>\n",
       "    <tr>\n",
       "      <th>valor_garantia</th>\n",
       "      <td>0.646232</td>\n",
       "      <td>0.092012</td>\n",
       "      <td>0.073408</td>\n",
       "      <td>0.223549</td>\n",
       "      <td>1.000000</td>\n",
       "      <td>0.221737</td>\n",
       "      <td>0.102889</td>\n",
       "      <td>0.148757</td>\n",
       "    </tr>\n",
       "    <tr>\n",
       "      <th>razao_fin.fat</th>\n",
       "      <td>0.272076</td>\n",
       "      <td>0.098967</td>\n",
       "      <td>0.018780</td>\n",
       "      <td>-0.105387</td>\n",
       "      <td>0.221737</td>\n",
       "      <td>1.000000</td>\n",
       "      <td>-0.434658</td>\n",
       "      <td>0.129207</td>\n",
       "    </tr>\n",
       "    <tr>\n",
       "      <th>log_fat</th>\n",
       "      <td>0.157798</td>\n",
       "      <td>-0.127758</td>\n",
       "      <td>0.001903</td>\n",
       "      <td>0.454997</td>\n",
       "      <td>0.102889</td>\n",
       "      <td>-0.434658</td>\n",
       "      <td>1.000000</td>\n",
       "      <td>-0.149096</td>\n",
       "    </tr>\n",
       "    <tr>\n",
       "      <th>prazo_dias</th>\n",
       "      <td>0.152155</td>\n",
       "      <td>0.865259</td>\n",
       "      <td>0.090797</td>\n",
       "      <td>-0.095795</td>\n",
       "      <td>0.148757</td>\n",
       "      <td>0.129207</td>\n",
       "      <td>-0.149096</td>\n",
       "      <td>1.000000</td>\n",
       "    </tr>\n",
       "  </tbody>\n",
       "</table>\n",
       "</div>"
      ],
      "text/plain": [
       "                valor_fin  qtde_prest  provisao       fat  valor_garantia  \\\n",
       "valor_fin        1.000000    0.122143  0.183842  0.294611        0.646232   \n",
       "qtde_prest       0.122143    1.000000  0.095691 -0.109426        0.092012   \n",
       "provisao         0.183842    0.095691  1.000000 -0.017490        0.073408   \n",
       "fat              0.294611   -0.109426 -0.017490  1.000000        0.223549   \n",
       "valor_garantia   0.646232    0.092012  0.073408  0.223549        1.000000   \n",
       "razao_fin.fat    0.272076    0.098967  0.018780 -0.105387        0.221737   \n",
       "log_fat          0.157798   -0.127758  0.001903  0.454997        0.102889   \n",
       "prazo_dias       0.152155    0.865259  0.090797 -0.095795        0.148757   \n",
       "\n",
       "                razao_fin.fat   log_fat  prazo_dias  \n",
       "valor_fin            0.272076  0.157798    0.152155  \n",
       "qtde_prest           0.098967 -0.127758    0.865259  \n",
       "provisao             0.018780  0.001903    0.090797  \n",
       "fat                 -0.105387  0.454997   -0.095795  \n",
       "valor_garantia       0.221737  0.102889    0.148757  \n",
       "razao_fin.fat        1.000000 -0.434658    0.129207  \n",
       "log_fat             -0.434658  1.000000   -0.149096  \n",
       "prazo_dias           0.129207 -0.149096    1.000000  "
      ]
     },
     "execution_count": 32,
     "metadata": {},
     "output_type": "execute_result"
    }
   ],
   "source": [
    "#correlação\n",
    "df_quant_var.corr()"
   ]
  },
  {
   "cell_type": "markdown",
   "metadata": {},
   "source": [
    "Análise exploratória Variáveis categóricas "
   ]
  },
  {
   "cell_type": "code",
   "execution_count": 33,
   "metadata": {
    "collapsed": true
   },
   "outputs": [
    {
     "data": {
      "text/plain": [
       "ADIMPLENTE      490\n",
       "INADIMPLENTE      6\n",
       "Name: situacao, dtype: int64"
      ]
     },
     "execution_count": 33,
     "metadata": {},
     "output_type": "execute_result"
    }
   ],
   "source": [
    "## Contando variáveis categóricas - Situação \n",
    "df_clean_PI['situacao'].value_counts()"
   ]
  },
  {
   "cell_type": "code",
   "execution_count": 78,
   "metadata": {
    "collapsed": true
   },
   "outputs": [
    {
     "ename": "IndexingError",
     "evalue": "Unalignable boolean Series provided as indexer (index of the boolean Series and of the indexed object do not match).",
     "output_type": "error",
     "traceback": [
      "\u001b[1;31m---------------------------------------------------------------------------\u001b[0m",
      "\u001b[1;31mIndexingError\u001b[0m                             Traceback (most recent call last)",
      "\u001b[1;32m<ipython-input-78-d464c314a4ab>\u001b[0m in \u001b[0;36m<module>\u001b[1;34m\u001b[0m\n\u001b[0;32m      4\u001b[0m \u001b[0msituacao\u001b[0m \u001b[1;33m=\u001b[0m \u001b[0mdf\u001b[0m\u001b[1;33m[\u001b[0m\u001b[1;34m'situacao'\u001b[0m\u001b[1;33m]\u001b[0m\u001b[1;33m.\u001b[0m\u001b[0munique\u001b[0m\u001b[1;33m(\u001b[0m\u001b[1;33m)\u001b[0m\u001b[1;33m\u001b[0m\u001b[1;33m\u001b[0m\u001b[0m\n\u001b[0;32m      5\u001b[0m \u001b[0mcont\u001b[0m \u001b[1;33m=\u001b[0m \u001b[0mdf\u001b[0m\u001b[1;33m[\u001b[0m\u001b[1;34m'situacao'\u001b[0m\u001b[1;33m]\u001b[0m\u001b[1;33m.\u001b[0m\u001b[0mvalue_counts\u001b[0m\u001b[1;33m(\u001b[0m\u001b[1;33m)\u001b[0m\u001b[1;33m\u001b[0m\u001b[1;33m\u001b[0m\u001b[0m\n\u001b[1;32m----> 6\u001b[1;33m \u001b[0msns\u001b[0m\u001b[1;33m.\u001b[0m\u001b[0mbarplot\u001b[0m\u001b[1;33m(\u001b[0m\u001b[0mx\u001b[0m\u001b[1;33m=\u001b[0m\u001b[0msituacao\u001b[0m\u001b[1;33m,\u001b[0m\u001b[0my\u001b[0m\u001b[1;33m=\u001b[0m\u001b[0mcont\u001b[0m\u001b[1;33m,\u001b[0m\u001b[0mhue\u001b[0m\u001b[1;33m=\u001b[0m\u001b[0msituacao\u001b[0m\u001b[1;33m)\u001b[0m\u001b[1;33m\u001b[0m\u001b[1;33m\u001b[0m\u001b[0m\n\u001b[0m",
      "\u001b[1;32mc:\\users\\marce\\appdata\\local\\programs\\python\\python37\\lib\\site-packages\\seaborn\\categorical.py\u001b[0m in \u001b[0;36mbarplot\u001b[1;34m(x, y, hue, data, order, hue_order, estimator, ci, n_boot, units, seed, orient, color, palette, saturation, errcolor, errwidth, capsize, dodge, ax, **kwargs)\u001b[0m\n\u001b[0;32m   3145\u001b[0m                           \u001b[0mestimator\u001b[0m\u001b[1;33m,\u001b[0m \u001b[0mci\u001b[0m\u001b[1;33m,\u001b[0m \u001b[0mn_boot\u001b[0m\u001b[1;33m,\u001b[0m \u001b[0munits\u001b[0m\u001b[1;33m,\u001b[0m \u001b[0mseed\u001b[0m\u001b[1;33m,\u001b[0m\u001b[1;33m\u001b[0m\u001b[1;33m\u001b[0m\u001b[0m\n\u001b[0;32m   3146\u001b[0m                           \u001b[0morient\u001b[0m\u001b[1;33m,\u001b[0m \u001b[0mcolor\u001b[0m\u001b[1;33m,\u001b[0m \u001b[0mpalette\u001b[0m\u001b[1;33m,\u001b[0m \u001b[0msaturation\u001b[0m\u001b[1;33m,\u001b[0m\u001b[1;33m\u001b[0m\u001b[1;33m\u001b[0m\u001b[0m\n\u001b[1;32m-> 3147\u001b[1;33m                           errcolor, errwidth, capsize, dodge)\n\u001b[0m\u001b[0;32m   3148\u001b[0m \u001b[1;33m\u001b[0m\u001b[0m\n\u001b[0;32m   3149\u001b[0m     \u001b[1;32mif\u001b[0m \u001b[0max\u001b[0m \u001b[1;32mis\u001b[0m \u001b[1;32mNone\u001b[0m\u001b[1;33m:\u001b[0m\u001b[1;33m\u001b[0m\u001b[1;33m\u001b[0m\u001b[0m\n",
      "\u001b[1;32mc:\\users\\marce\\appdata\\local\\programs\\python\\python37\\lib\\site-packages\\seaborn\\categorical.py\u001b[0m in \u001b[0;36m__init__\u001b[1;34m(self, x, y, hue, data, order, hue_order, estimator, ci, n_boot, units, seed, orient, color, palette, saturation, errcolor, errwidth, capsize, dodge)\u001b[0m\n\u001b[0;32m   1603\u001b[0m                                  order, hue_order, units)\n\u001b[0;32m   1604\u001b[0m         \u001b[0mself\u001b[0m\u001b[1;33m.\u001b[0m\u001b[0mestablish_colors\u001b[0m\u001b[1;33m(\u001b[0m\u001b[0mcolor\u001b[0m\u001b[1;33m,\u001b[0m \u001b[0mpalette\u001b[0m\u001b[1;33m,\u001b[0m \u001b[0msaturation\u001b[0m\u001b[1;33m)\u001b[0m\u001b[1;33m\u001b[0m\u001b[1;33m\u001b[0m\u001b[0m\n\u001b[1;32m-> 1605\u001b[1;33m         \u001b[0mself\u001b[0m\u001b[1;33m.\u001b[0m\u001b[0mestimate_statistic\u001b[0m\u001b[1;33m(\u001b[0m\u001b[0mestimator\u001b[0m\u001b[1;33m,\u001b[0m \u001b[0mci\u001b[0m\u001b[1;33m,\u001b[0m \u001b[0mn_boot\u001b[0m\u001b[1;33m,\u001b[0m \u001b[0mseed\u001b[0m\u001b[1;33m)\u001b[0m\u001b[1;33m\u001b[0m\u001b[1;33m\u001b[0m\u001b[0m\n\u001b[0m\u001b[0;32m   1606\u001b[0m \u001b[1;33m\u001b[0m\u001b[0m\n\u001b[0;32m   1607\u001b[0m         \u001b[0mself\u001b[0m\u001b[1;33m.\u001b[0m\u001b[0mdodge\u001b[0m \u001b[1;33m=\u001b[0m \u001b[0mdodge\u001b[0m\u001b[1;33m\u001b[0m\u001b[1;33m\u001b[0m\u001b[0m\n",
      "\u001b[1;32mc:\\users\\marce\\appdata\\local\\programs\\python\\python37\\lib\\site-packages\\seaborn\\categorical.py\u001b[0m in \u001b[0;36mestimate_statistic\u001b[1;34m(self, estimator, ci, n_boot, seed)\u001b[0m\n\u001b[0;32m   1522\u001b[0m                     \u001b[0mhue_mask\u001b[0m \u001b[1;33m=\u001b[0m \u001b[0mself\u001b[0m\u001b[1;33m.\u001b[0m\u001b[0mplot_hues\u001b[0m\u001b[1;33m[\u001b[0m\u001b[0mi\u001b[0m\u001b[1;33m]\u001b[0m \u001b[1;33m==\u001b[0m \u001b[0mhue_level\u001b[0m\u001b[1;33m\u001b[0m\u001b[1;33m\u001b[0m\u001b[0m\n\u001b[0;32m   1523\u001b[0m                     \u001b[1;32mif\u001b[0m \u001b[0mself\u001b[0m\u001b[1;33m.\u001b[0m\u001b[0mplot_units\u001b[0m \u001b[1;32mis\u001b[0m \u001b[1;32mNone\u001b[0m\u001b[1;33m:\u001b[0m\u001b[1;33m\u001b[0m\u001b[1;33m\u001b[0m\u001b[0m\n\u001b[1;32m-> 1524\u001b[1;33m                         \u001b[0mstat_data\u001b[0m \u001b[1;33m=\u001b[0m \u001b[0mremove_na\u001b[0m\u001b[1;33m(\u001b[0m\u001b[0mgroup_data\u001b[0m\u001b[1;33m[\u001b[0m\u001b[0mhue_mask\u001b[0m\u001b[1;33m]\u001b[0m\u001b[1;33m)\u001b[0m\u001b[1;33m\u001b[0m\u001b[1;33m\u001b[0m\u001b[0m\n\u001b[0m\u001b[0;32m   1525\u001b[0m                         \u001b[0munit_data\u001b[0m \u001b[1;33m=\u001b[0m \u001b[1;32mNone\u001b[0m\u001b[1;33m\u001b[0m\u001b[1;33m\u001b[0m\u001b[0m\n\u001b[0;32m   1526\u001b[0m                     \u001b[1;32melse\u001b[0m\u001b[1;33m:\u001b[0m\u001b[1;33m\u001b[0m\u001b[1;33m\u001b[0m\u001b[0m\n",
      "\u001b[1;32mc:\\users\\marce\\appdata\\local\\programs\\python\\python37\\lib\\site-packages\\pandas\\core\\series.py\u001b[0m in \u001b[0;36m__getitem__\u001b[1;34m(self, key)\u001b[0m\n\u001b[0;32m    906\u001b[0m \u001b[1;33m\u001b[0m\u001b[0m\n\u001b[0;32m    907\u001b[0m         \u001b[1;32mif\u001b[0m \u001b[0mcom\u001b[0m\u001b[1;33m.\u001b[0m\u001b[0mis_bool_indexer\u001b[0m\u001b[1;33m(\u001b[0m\u001b[0mkey\u001b[0m\u001b[1;33m)\u001b[0m\u001b[1;33m:\u001b[0m\u001b[1;33m\u001b[0m\u001b[1;33m\u001b[0m\u001b[0m\n\u001b[1;32m--> 908\u001b[1;33m             \u001b[0mkey\u001b[0m \u001b[1;33m=\u001b[0m \u001b[0mcheck_bool_indexer\u001b[0m\u001b[1;33m(\u001b[0m\u001b[0mself\u001b[0m\u001b[1;33m.\u001b[0m\u001b[0mindex\u001b[0m\u001b[1;33m,\u001b[0m \u001b[0mkey\u001b[0m\u001b[1;33m)\u001b[0m\u001b[1;33m\u001b[0m\u001b[1;33m\u001b[0m\u001b[0m\n\u001b[0m\u001b[0;32m    909\u001b[0m \u001b[1;33m\u001b[0m\u001b[0m\n\u001b[0;32m    910\u001b[0m         \u001b[1;32mreturn\u001b[0m \u001b[0mself\u001b[0m\u001b[1;33m.\u001b[0m\u001b[0m_get_with\u001b[0m\u001b[1;33m(\u001b[0m\u001b[0mkey\u001b[0m\u001b[1;33m)\u001b[0m\u001b[1;33m\u001b[0m\u001b[1;33m\u001b[0m\u001b[0m\n",
      "\u001b[1;32mc:\\users\\marce\\appdata\\local\\programs\\python\\python37\\lib\\site-packages\\pandas\\core\\indexing.py\u001b[0m in \u001b[0;36mcheck_bool_indexer\u001b[1;34m(index, key)\u001b[0m\n\u001b[0;32m   2316\u001b[0m         \u001b[1;32mif\u001b[0m \u001b[0mmask\u001b[0m\u001b[1;33m.\u001b[0m\u001b[0many\u001b[0m\u001b[1;33m(\u001b[0m\u001b[1;33m)\u001b[0m\u001b[1;33m:\u001b[0m\u001b[1;33m\u001b[0m\u001b[1;33m\u001b[0m\u001b[0m\n\u001b[0;32m   2317\u001b[0m             raise IndexingError(\n\u001b[1;32m-> 2318\u001b[1;33m                 \u001b[1;34m\"Unalignable boolean Series provided as \"\u001b[0m\u001b[1;33m\u001b[0m\u001b[1;33m\u001b[0m\u001b[0m\n\u001b[0m\u001b[0;32m   2319\u001b[0m                 \u001b[1;34m\"indexer (index of the boolean Series and of \"\u001b[0m\u001b[1;33m\u001b[0m\u001b[1;33m\u001b[0m\u001b[0m\n\u001b[0;32m   2320\u001b[0m                 \u001b[1;34m\"the indexed object do not match).\"\u001b[0m\u001b[1;33m\u001b[0m\u001b[1;33m\u001b[0m\u001b[0m\n",
      "\u001b[1;31mIndexingError\u001b[0m: Unalignable boolean Series provided as indexer (index of the boolean Series and of the indexed object do not match)."
     ]
    }
   ],
   "source": [
    "#######  \n",
    "import seaborn as sns\n",
    "sns.set(style='darkgrid')\n",
    "situacao = df['situacao'].unique()\n",
    "cont = df['situacao'].value_counts()\n",
    "sns.barplot(x=situacao,y=cont,hue=situacao)"
   ]
  },
  {
   "cell_type": "code",
   "execution_count": 34,
   "metadata": {
    "collapsed": true
   },
   "outputs": [
    {
     "data": {
      "text/plain": [
       "Cessão Dir. Credit - Trib e Receitas        115\n",
       "Alienação Fiduciária Imóvel                 114\n",
       "Alienação Fiduciária Imóvel Residencial      62\n",
       "FDA                                          33\n",
       "Alienação Fiduciária - Bens Móveis           28\n",
       "SUS - Direito de crédito                     21\n",
       "Cessão Fiduciária - Direitos creditórios     21\n",
       "Gar Fidejussória Fiança Bancária             18\n",
       "Hipoteca 1º Grau                             16\n",
       "FGO                                          13\n",
       "CDB - Certificado de Depósito Bancário       11\n",
       "FGI - Crédito Livre                          10\n",
       "Hipoteca - Outros Graus                       8\n",
       "Alienação Fiduciária Imóveis - Evolutiva      7\n",
       "Hipoteca 1º grau Imov Residencial             6\n",
       "Alienação Fiduciaria Veículos                 5\n",
       "FGI                                           3\n",
       "FAMPE                                         3\n",
       "Alien Fiduc - RDME                            1\n",
       "Interveniente                                 1\n",
       "Name: garantia, dtype: int64"
      ]
     },
     "execution_count": 34,
     "metadata": {},
     "output_type": "execute_result"
    }
   ],
   "source": [
    "## Contando variáveis categóricas - garantia \n",
    "df_clean_PI['garantia'].value_counts()               "
   ]
  },
  {
   "cell_type": "code",
   "execution_count": 35,
   "metadata": {
    "collapsed": true
   },
   "outputs": [
    {
     "data": {
      "text/plain": [
       "B     208\n",
       "D      83\n",
       "A      68\n",
       "C      67\n",
       "E      50\n",
       "AA     17\n",
       "H       3\n",
       "Name: rating_cliente, dtype: int64"
      ]
     },
     "execution_count": 35,
     "metadata": {},
     "output_type": "execute_result"
    }
   ],
   "source": [
    "## Contando variáveis categóricas - rating cliente\n",
    "df_clean_PI['rating_cliente'].value_counts()"
   ]
  },
  {
   "cell_type": "code",
   "execution_count": 36,
   "metadata": {
    "collapsed": true
   },
   "outputs": [
    {
     "data": {
      "text/plain": [
       "AA    160\n",
       "A     152\n",
       "C      92\n",
       "B      71\n",
       "D      12\n",
       "H       6\n",
       "F       2\n",
       "G       1\n",
       "Name: rating_operacao, dtype: int64"
      ]
     },
     "execution_count": 36,
     "metadata": {},
     "output_type": "execute_result"
    }
   ],
   "source": [
    "## Contando variáveis categóricas - rating operação\n",
    "df_clean_PI['rating_operacao'].value_counts()  "
   ]
  },
  {
   "cell_type": "code",
   "execution_count": 37,
   "metadata": {
    "collapsed": true
   },
   "outputs": [
    {
     "data": {
      "text/plain": [
       "AA    184\n",
       "A     145\n",
       "B      72\n",
       "C      43\n",
       "D      20\n",
       "E      17\n",
       "H       7\n",
       "F       6\n",
       "G       2\n",
       "Name: rating_atual, dtype: int64"
      ]
     },
     "execution_count": 37,
     "metadata": {},
     "output_type": "execute_result"
    }
   ],
   "source": [
    "## Contando variáveis categóricas - rating atual\n",
    "df_clean_PI['rating_atual'].value_counts()  "
   ]
  },
  {
   "cell_type": "code",
   "execution_count": 38,
   "metadata": {
    "collapsed": true
   },
   "outputs": [
    {
     "data": {
      "text/plain": [
       "MÉDIA           175\n",
       "PEQUENA         122\n",
       "MICRO            96\n",
       "MÉDIA-GRANDE     52\n",
       "GRANDE           51\n",
       "Name: porte, dtype: int64"
      ]
     },
     "execution_count": 38,
     "metadata": {},
     "output_type": "execute_result"
    }
   ],
   "source": [
    "## Contando variáveis categóricas - porte\n",
    "df_clean_PI['porte'].value_counts()              "
   ]
  },
  {
   "cell_type": "code",
   "execution_count": 39,
   "metadata": {
    "collapsed": true
   },
   "outputs": [
    {
     "data": {
      "text/plain": [
       "SETOR PRIVADO    381\n",
       "SETOR PÚBLICO    115\n",
       "Name: setor, dtype: int64"
      ]
     },
     "execution_count": 39,
     "metadata": {},
     "output_type": "execute_result"
    }
   ],
   "source": [
    "## Contando variáveis categóricas - setor\n",
    "df_clean_PI['setor'].value_counts()               "
   ]
  },
  {
   "cell_type": "code",
   "execution_count": 40,
   "metadata": {
    "collapsed": true
   },
   "outputs": [
    {
     "data": {
      "text/plain": [
       "Região Metropolitana de São Paulo    158\n",
       "RA de Campinas                       104\n",
       "RA de Sorocaba                        40\n",
       "RA de São José dos Campos             36\n",
       "RA de Ribeirão Preto                  32\n",
       "RA de São José do Rio Preto           18\n",
       "RA Central                            18\n",
       "RA de Marília                         16\n",
       "RA de Bauru                           15\n",
       "RA de Araçatuba                       14\n",
       "OUTRAS                                13\n",
       "RA de Barretos                        13\n",
       "RA de Santos                           8\n",
       "RA de Presidente Prudente              6\n",
       "RA de Franca                           3\n",
       "RA de Registro                         2\n",
       "Name: ra, dtype: int64"
      ]
     },
     "execution_count": 40,
     "metadata": {},
     "output_type": "execute_result"
    }
   ],
   "source": [
    "## Contando variáveis categóricas - RA\n",
    "df_clean_PI['ra'].value_counts()"
   ]
  },
  {
   "cell_type": "code",
   "execution_count": 41,
   "metadata": {
    "collapsed": true
   },
   "outputs": [
    {
     "data": {
      "text/plain": [
       "INOVACRED                  115\n",
       "FIP                         92\n",
       "LEV                         66\n",
       "VIA SP                      56\n",
       "AUTOMÁTICO INVESTIMENTO     44\n",
       "LDI                         22\n",
       "BNDES SAÚDE                 21\n",
       "LIE - PRIVADO               15\n",
       "LIT                         15\n",
       "LVM                         10\n",
       "MPME INOVADORA               6\n",
       "BNDES PMAT                   6\n",
       "FUNGETUR                     5\n",
       "LAM                          5\n",
       "LIE - PÚBLICO                4\n",
       "LAL                          4\n",
       "LIP                          4\n",
       "LIM                          3\n",
       "LDA                          1\n",
       "INOVACRED EXPRESSO           1\n",
       "LVR                          1\n",
       "Name: linha_fin, dtype: int64"
      ]
     },
     "execution_count": 41,
     "metadata": {},
     "output_type": "execute_result"
    }
   ],
   "source": [
    "## Contando variáveis categóricas - linha_fin\n",
    "df_clean_PI['linha_fin'].value_counts()             "
   ]
  },
  {
   "cell_type": "code",
   "execution_count": 42,
   "metadata": {
    "collapsed": true
   },
   "outputs": [
    {
     "data": {
      "text/plain": [
       "PI    496\n",
       "Name: tipo_a, dtype: int64"
      ]
     },
     "execution_count": 42,
     "metadata": {},
     "output_type": "execute_result"
    }
   ],
   "source": [
    "## Contando variáveis categóricas - tipo_a\n",
    "df_clean_PI['tipo_a'].value_counts()       "
   ]
  },
  {
   "cell_type": "code",
   "execution_count": 43,
   "metadata": {
    "collapsed": true
   },
   "outputs": [
    {
     "data": {
      "text/plain": [
       "RP    298\n",
       "RT    198\n",
       "Name: tipo_b, dtype: int64"
      ]
     },
     "execution_count": 43,
     "metadata": {},
     "output_type": "execute_result"
    }
   ],
   "source": [
    "## Contando variáveis categóricas - tipo_b\n",
    "df_clean_PI['tipo_b'].value_counts()            "
   ]
  },
  {
   "cell_type": "code",
   "execution_count": 44,
   "metadata": {
    "collapsed": true
   },
   "outputs": [
    {
     "data": {
      "text/plain": [
       "PRIV    381\n",
       "PÚBL    115\n",
       "Name: tipo_c, dtype: int64"
      ]
     },
     "execution_count": 44,
     "metadata": {},
     "output_type": "execute_result"
    }
   ],
   "source": [
    "## Contando variáveis categóricas - tipo_c\n",
    "df_clean_PI['tipo_c'].value_counts()            "
   ]
  },
  {
   "cell_type": "code",
   "execution_count": 45,
   "metadata": {
    "collapsed": true
   },
   "outputs": [
    {
     "data": {
      "text/plain": [
       "REC. PRÓPRIOS    298\n",
       "FINEP            116\n",
       "BNDES             77\n",
       "FUNGETUR           5\n",
       "Name: tipo_d, dtype: int64"
      ]
     },
     "execution_count": 45,
     "metadata": {},
     "output_type": "execute_result"
    }
   ],
   "source": [
    "## Contando variáveis categóricas - tipo_d\n",
    "df_clean_PI['tipo_d'].value_counts()             "
   ]
  },
  {
   "cell_type": "markdown",
   "metadata": {},
   "source": [
    "RELAÇÃO ENTRE SUTAÇÃO E CATEGÓRICAS "
   ]
  },
  {
   "cell_type": "code",
   "execution_count": 46,
   "metadata": {
    "collapsed": true
   },
   "outputs": [
    {
     "data": {
      "text/plain": [
       "situacao      garantia                                \n",
       "ADIMPLENTE    Alien Fiduc - RDME                            1\n",
       "              Alienação Fiduciaria Veículos                 4\n",
       "              Alienação Fiduciária - Bens Móveis           26\n",
       "              Alienação Fiduciária Imóveis - Evolutiva      7\n",
       "              Alienação Fiduciária Imóvel                 113\n",
       "              Alienação Fiduciária Imóvel Residencial      62\n",
       "              CDB - Certificado de Depósito Bancário       11\n",
       "              Cessão Dir. Credit - Trib e Receitas        115\n",
       "              Cessão Fiduciária - Direitos creditórios     21\n",
       "              FAMPE                                         3\n",
       "              FDA                                          32\n",
       "              FGI                                           3\n",
       "              FGI - Crédito Livre                          10\n",
       "              FGO                                          13\n",
       "              Gar Fidejussória Fiança Bancária             18\n",
       "              Hipoteca - Outros Graus                       8\n",
       "              Hipoteca 1º Grau                             16\n",
       "              Hipoteca 1º grau Imov Residencial             6\n",
       "              Interveniente                                 1\n",
       "              SUS - Direito de crédito                     20\n",
       "INADIMPLENTE  Alienação Fiduciaria Veículos                 1\n",
       "              Alienação Fiduciária - Bens Móveis            2\n",
       "              Alienação Fiduciária Imóvel                   1\n",
       "              FDA                                           1\n",
       "              SUS - Direito de crédito                      1\n",
       "dtype: int64"
      ]
     },
     "metadata": {},
     "output_type": "display_data"
    }
   ],
   "source": [
    "## Situação x garantia    !!!!!! inserir o % de adimplentes e inadimplentes em relação ao total por categoria  \n",
    "display(df_clean_PI.groupby(['situacao','garantia']).size())"
   ]
  },
  {
   "cell_type": "code",
   "execution_count": 47,
   "metadata": {
    "collapsed": true
   },
   "outputs": [
    {
     "data": {
      "text/plain": [
       "situacao      rating_cliente\n",
       "ADIMPLENTE    A                  67\n",
       "              AA                 17\n",
       "              B                 208\n",
       "              C                  66\n",
       "              D                  81\n",
       "              E                  48\n",
       "              H                   3\n",
       "INADIMPLENTE  A                   1\n",
       "              C                   1\n",
       "              D                   2\n",
       "              E                   2\n",
       "dtype: int64"
      ]
     },
     "metadata": {},
     "output_type": "display_data"
    }
   ],
   "source": [
    "## Situação x  rating cliente \n",
    "display(df_clean_PI.groupby(['situacao','rating_cliente']).size())   "
   ]
  },
  {
   "cell_type": "code",
   "execution_count": 48,
   "metadata": {
    "collapsed": true
   },
   "outputs": [
    {
     "data": {
      "text/plain": [
       "situacao      rating_operacao\n",
       "ADIMPLENTE    A                  151\n",
       "              AA                 158\n",
       "              B                   70\n",
       "              C                   90\n",
       "              D                   12\n",
       "              F                    2\n",
       "              G                    1\n",
       "              H                    6\n",
       "INADIMPLENTE  A                    1\n",
       "              AA                   2\n",
       "              B                    1\n",
       "              C                    2\n",
       "dtype: int64"
      ]
     },
     "metadata": {},
     "output_type": "display_data"
    }
   ],
   "source": [
    "## Situação x  rating_operacao\n",
    "display(df_clean_PI.groupby(['situacao', 'rating_operacao']).size())    "
   ]
  },
  {
   "cell_type": "code",
   "execution_count": 53,
   "metadata": {
    "collapsed": true
   },
   "outputs": [
    {
     "data": {
      "text/plain": [
       "situacao      ra                               \n",
       "ADIMPLENTE    OUTRAS                                12\n",
       "              RA Central                            18\n",
       "              RA de Araçatuba                       14\n",
       "              RA de Barretos                        13\n",
       "              RA de Bauru                           14\n",
       "              RA de Campinas                       104\n",
       "              RA de Franca                           2\n",
       "              RA de Marília                         15\n",
       "              RA de Presidente Prudente              6\n",
       "              RA de Registro                         2\n",
       "              RA de Ribeirão Preto                  32\n",
       "              RA de Santos                           8\n",
       "              RA de Sorocaba                        40\n",
       "              RA de São José do Rio Preto           18\n",
       "              RA de São José dos Campos             34\n",
       "              Região Metropolitana de São Paulo    158\n",
       "INADIMPLENTE  OUTRAS                                 1\n",
       "              RA de Bauru                            1\n",
       "              RA de Franca                           1\n",
       "              RA de Marília                          1\n",
       "              RA de São José dos Campos              2\n",
       "dtype: int64"
      ]
     },
     "metadata": {},
     "output_type": "display_data"
    }
   ],
   "source": [
    "## Situação x  ra\n",
    "display(df_clean_PI.groupby(['situacao', 'ra']).size())"
   ]
  },
  {
   "cell_type": "code",
   "execution_count": 57,
   "metadata": {
    "collapsed": true
   },
   "outputs": [
    {
     "data": {
      "text/plain": [
       "situacao      porte       \n",
       "ADIMPLENTE    GRANDE           51\n",
       "              MICRO            93\n",
       "              MÉDIA           174\n",
       "              MÉDIA-GRANDE     52\n",
       "              PEQUENA         120\n",
       "INADIMPLENTE  MICRO             3\n",
       "              MÉDIA             1\n",
       "              PEQUENA           2\n",
       "dtype: int64"
      ]
     },
     "metadata": {},
     "output_type": "display_data"
    }
   ],
   "source": [
    "## Situação x 'porte'\n",
    "display(df_clean_PI.groupby(['situacao','porte']).size())"
   ]
  },
  {
   "cell_type": "code",
   "execution_count": 58,
   "metadata": {
    "collapsed": true
   },
   "outputs": [
    {
     "data": {
      "text/plain": [
       "situacao      setor        \n",
       "ADIMPLENTE    SETOR PRIVADO    375\n",
       "              SETOR PÚBLICO    115\n",
       "INADIMPLENTE  SETOR PRIVADO      6\n",
       "dtype: int64"
      ]
     },
     "metadata": {},
     "output_type": "display_data"
    }
   ],
   "source": [
    "## Situação x 'setor'\n",
    "display(df_clean_PI.groupby(['situacao', 'setor']).size())"
   ]
  },
  {
   "cell_type": "code",
   "execution_count": 59,
   "metadata": {
    "collapsed": true
   },
   "outputs": [
    {
     "data": {
      "text/plain": [
       "situacao      rating_atual\n",
       "ADIMPLENTE    A               145\n",
       "              AA              184\n",
       "              B                72\n",
       "              C                43\n",
       "              D                19\n",
       "              E                16\n",
       "              F                 5\n",
       "              G                 2\n",
       "              H                 4\n",
       "INADIMPLENTE  D                 1\n",
       "              E                 1\n",
       "              F                 1\n",
       "              H                 3\n",
       "dtype: int64"
      ]
     },
     "metadata": {},
     "output_type": "display_data"
    }
   ],
   "source": [
    "## Situação x  'rating_atual'\n",
    "display(df_clean_PI.groupby(['situacao','rating_atual']).size())"
   ]
  },
  {
   "cell_type": "code",
   "execution_count": 60,
   "metadata": {
    "collapsed": true
   },
   "outputs": [
    {
     "data": {
      "text/plain": [
       "situacao      linha_fin              \n",
       "ADIMPLENTE    AUTOMÁTICO INVESTIMENTO     42\n",
       "              BNDES PMAT                   6\n",
       "              BNDES SAÚDE                 20\n",
       "              FIP                         90\n",
       "              FUNGETUR                     5\n",
       "              INOVACRED                  114\n",
       "              INOVACRED EXPRESSO           1\n",
       "              LAL                          4\n",
       "              LAM                          5\n",
       "              LDA                          1\n",
       "              LDI                         22\n",
       "              LEV                         66\n",
       "              LIE - PRIVADO               15\n",
       "              LIE - PÚBLICO                4\n",
       "              LIM                          3\n",
       "              LIP                          4\n",
       "              LIT                         15\n",
       "              LVM                         10\n",
       "              LVR                          1\n",
       "              MPME INOVADORA               6\n",
       "              VIA SP                      56\n",
       "INADIMPLENTE  AUTOMÁTICO INVESTIMENTO      2\n",
       "              BNDES SAÚDE                  1\n",
       "              FIP                          2\n",
       "              INOVACRED                    1\n",
       "dtype: int64"
      ]
     },
     "metadata": {},
     "output_type": "display_data"
    }
   ],
   "source": [
    "## Situação x  'linha_fin'\n",
    "display(df_clean_PI.groupby(['situacao', 'linha_fin']).size())"
   ]
  },
  {
   "cell_type": "code",
   "execution_count": 61,
   "metadata": {
    "collapsed": true
   },
   "outputs": [
    {
     "data": {
      "text/plain": [
       "situacao      tipo_a\n",
       "ADIMPLENTE    PI        490\n",
       "INADIMPLENTE  PI          6\n",
       "dtype: int64"
      ]
     },
     "metadata": {},
     "output_type": "display_data"
    }
   ],
   "source": [
    "## Situação x 'tipo_a'\n",
    "display(df_clean_PI.groupby(['situacao','tipo_a']).size())"
   ]
  },
  {
   "cell_type": "code",
   "execution_count": 63,
   "metadata": {
    "collapsed": true
   },
   "outputs": [
    {
     "data": {
      "text/plain": [
       "situacao      tipo_b\n",
       "ADIMPLENTE    RP        296\n",
       "              RT        194\n",
       "INADIMPLENTE  RP          2\n",
       "              RT          4\n",
       "dtype: int64"
      ]
     },
     "metadata": {},
     "output_type": "display_data"
    }
   ],
   "source": [
    "## Situação x 'tipo_b'\n",
    "display(df_clean_PI.groupby(['situacao','tipo_b']).size())"
   ]
  },
  {
   "cell_type": "code",
   "execution_count": 64,
   "metadata": {
    "collapsed": true
   },
   "outputs": [
    {
     "data": {
      "text/plain": [
       "situacao      tipo_c\n",
       "ADIMPLENTE    PRIV      375\n",
       "              PÚBL      115\n",
       "INADIMPLENTE  PRIV        6\n",
       "dtype: int64"
      ]
     },
     "metadata": {},
     "output_type": "display_data"
    }
   ],
   "source": [
    "## Situação x 'tipo_c' \n",
    "display(df_clean_PI.groupby(['situacao','tipo_c']).size())"
   ]
  },
  {
   "cell_type": "code",
   "execution_count": 65,
   "metadata": {
    "collapsed": true
   },
   "outputs": [
    {
     "data": {
      "text/plain": [
       "situacao      tipo_d       \n",
       "ADIMPLENTE    BNDES             74\n",
       "              FINEP            115\n",
       "              FUNGETUR           5\n",
       "              REC. PRÓPRIOS    296\n",
       "INADIMPLENTE  BNDES              3\n",
       "              FINEP              1\n",
       "              REC. PRÓPRIOS      2\n",
       "dtype: int64"
      ]
     },
     "metadata": {},
     "output_type": "display_data"
    }
   ],
   "source": [
    "## Situação x  'tipo_d'\n",
    "display(df_clean_PI.groupby(['situacao','tipo_d']).size())"
   ]
  },
  {
   "cell_type": "markdown",
   "metadata": {},
   "source": [
    "BOX PLOT "
   ]
  },
  {
   "cell_type": "code",
   "execution_count": null,
   "metadata": {},
   "outputs": [],
   "source": [
    "sns.boxplot(x = 'situacao',\n",
    "            y = )"
   ]
  }
 ],
 "metadata": {
  "kernelspec": {
   "display_name": "Python 3",
   "language": "python",
   "name": "python3"
  },
  "language_info": {
   "codemirror_mode": {
    "name": "ipython",
    "version": 3
   },
   "file_extension": ".py",
   "mimetype": "text/x-python",
   "name": "python",
   "nbconvert_exporter": "python",
   "pygments_lexer": "ipython3",
   "version": "3.7.7"
  }
 },
 "nbformat": 4,
 "nbformat_minor": 4
}
