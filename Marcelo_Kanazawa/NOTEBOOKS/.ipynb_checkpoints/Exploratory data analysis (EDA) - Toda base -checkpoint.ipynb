{
 "cells": [
  {
   "cell_type": "code",
   "execution_count": 74,
   "metadata": {},
   "outputs": [],
   "source": [
    "#import libraries\n",
    "import os \n",
    "import pandas as pd # pacote para manipular os dados\n",
    "import numpy as np # pacote para numeros \n",
    "import matplotlib.pyplot as plt # pacote para visualização dos dados\n",
    "import seaborn as sns  # pacote para visualização dos dados"
   ]
  },
  {
   "cell_type": "code",
   "execution_count": 75,
   "metadata": {},
   "outputs": [],
   "source": [
    "#importando a base \n",
    "df = pd.read_csv('../DATABASE/base_estudos.csv')"
   ]
  },
  {
   "cell_type": "code",
   "execution_count": 76,
   "metadata": {
    "collapsed": true
   },
   "outputs": [
    {
     "data": {
      "text/html": [
       "<div>\n",
       "<style scoped>\n",
       "    .dataframe tbody tr th:only-of-type {\n",
       "        vertical-align: middle;\n",
       "    }\n",
       "\n",
       "    .dataframe tbody tr th {\n",
       "        vertical-align: top;\n",
       "    }\n",
       "\n",
       "    .dataframe thead th {\n",
       "        text-align: right;\n",
       "    }\n",
       "</style>\n",
       "<table border=\"1\" class=\"dataframe\">\n",
       "  <thead>\n",
       "    <tr style=\"text-align: right;\">\n",
       "      <th></th>\n",
       "      <th>id_produto</th>\n",
       "      <th>id_contrato</th>\n",
       "      <th>id_cliente</th>\n",
       "      <th>data_entrada</th>\n",
       "      <th>valor_fin</th>\n",
       "      <th>qtde_prest</th>\n",
       "      <th>juros_efet</th>\n",
       "      <th>data_entrada.1</th>\n",
       "      <th>data_final</th>\n",
       "      <th>provisao</th>\n",
       "      <th>...</th>\n",
       "      <th>setor</th>\n",
       "      <th>situacao</th>\n",
       "      <th>rating_atual</th>\n",
       "      <th>linha_fin</th>\n",
       "      <th>tipo_a</th>\n",
       "      <th>tipo_b</th>\n",
       "      <th>tipo_c</th>\n",
       "      <th>tipo_d</th>\n",
       "      <th>garantia</th>\n",
       "      <th>valor_garantia</th>\n",
       "    </tr>\n",
       "  </thead>\n",
       "  <tbody>\n",
       "    <tr>\n",
       "      <th>0</th>\n",
       "      <td>10707</td>\n",
       "      <td>30560012</td>\n",
       "      <td>212806</td>\n",
       "      <td>42349</td>\n",
       "      <td>151605.74</td>\n",
       "      <td>63.0</td>\n",
       "      <td>0.246781</td>\n",
       "      <td>42349</td>\n",
       "      <td>44607</td>\n",
       "      <td>0</td>\n",
       "      <td>...</td>\n",
       "      <td>SETOR PRIVADO</td>\n",
       "      <td>ADIMPLENTE</td>\n",
       "      <td>AA</td>\n",
       "      <td>PRO CAMINHONEIRO</td>\n",
       "      <td>ME</td>\n",
       "      <td>RT</td>\n",
       "      <td>PRIV</td>\n",
       "      <td>BNDES</td>\n",
       "      <td>Alienação Fiduciaria Veículos</td>\n",
       "      <td>245000.0</td>\n",
       "    </tr>\n",
       "    <tr>\n",
       "      <th>1</th>\n",
       "      <td>10707</td>\n",
       "      <td>30450012</td>\n",
       "      <td>212849</td>\n",
       "      <td>42367</td>\n",
       "      <td>133864.13</td>\n",
       "      <td>62.0</td>\n",
       "      <td>0.246802</td>\n",
       "      <td>42367</td>\n",
       "      <td>44607</td>\n",
       "      <td>0</td>\n",
       "      <td>...</td>\n",
       "      <td>SETOR PRIVADO</td>\n",
       "      <td>ADIMPLENTE</td>\n",
       "      <td>AA</td>\n",
       "      <td>PRO CAMINHONEIRO</td>\n",
       "      <td>ME</td>\n",
       "      <td>RT</td>\n",
       "      <td>PRIV</td>\n",
       "      <td>BNDES</td>\n",
       "      <td>Alienação Fiduciaria Veículos</td>\n",
       "      <td>219000.0</td>\n",
       "    </tr>\n",
       "    <tr>\n",
       "      <th>2</th>\n",
       "      <td>10707</td>\n",
       "      <td>31260012</td>\n",
       "      <td>212857</td>\n",
       "      <td>42349</td>\n",
       "      <td>156163.26</td>\n",
       "      <td>65.0</td>\n",
       "      <td>0.246774</td>\n",
       "      <td>42349</td>\n",
       "      <td>44669</td>\n",
       "      <td>45392</td>\n",
       "      <td>...</td>\n",
       "      <td>SETOR PRIVADO</td>\n",
       "      <td>ADIMPLENTE</td>\n",
       "      <td>A</td>\n",
       "      <td>PRO CAMINHONEIRO</td>\n",
       "      <td>ME</td>\n",
       "      <td>RT</td>\n",
       "      <td>PRIV</td>\n",
       "      <td>BNDES</td>\n",
       "      <td>Alienação Fiduciaria Veículos</td>\n",
       "      <td>245000.0</td>\n",
       "    </tr>\n",
       "    <tr>\n",
       "      <th>3</th>\n",
       "      <td>10707</td>\n",
       "      <td>31540015</td>\n",
       "      <td>212903</td>\n",
       "      <td>42349</td>\n",
       "      <td>132834.93</td>\n",
       "      <td>67.0</td>\n",
       "      <td>0.246793</td>\n",
       "      <td>42349</td>\n",
       "      <td>44727</td>\n",
       "      <td>397</td>\n",
       "      <td>...</td>\n",
       "      <td>SETOR PRIVADO</td>\n",
       "      <td>ADIMPLENTE</td>\n",
       "      <td>A</td>\n",
       "      <td>PRO CAMINHONEIRO</td>\n",
       "      <td>ME</td>\n",
       "      <td>RT</td>\n",
       "      <td>PRIV</td>\n",
       "      <td>BNDES</td>\n",
       "      <td>Alienação Fiduciaria Veículos</td>\n",
       "      <td>197000.0</td>\n",
       "    </tr>\n",
       "    <tr>\n",
       "      <th>4</th>\n",
       "      <td>10707</td>\n",
       "      <td>30570018</td>\n",
       "      <td>212911</td>\n",
       "      <td>42349</td>\n",
       "      <td>147130.53</td>\n",
       "      <td>63.0</td>\n",
       "      <td>0.246785</td>\n",
       "      <td>42349</td>\n",
       "      <td>44607</td>\n",
       "      <td>41467</td>\n",
       "      <td>...</td>\n",
       "      <td>SETOR PRIVADO</td>\n",
       "      <td>ADIMPLENTE</td>\n",
       "      <td>A</td>\n",
       "      <td>PRO CAMINHONEIRO</td>\n",
       "      <td>ME</td>\n",
       "      <td>RT</td>\n",
       "      <td>PRIV</td>\n",
       "      <td>BNDES</td>\n",
       "      <td>Alienação Fiduciaria Veículos</td>\n",
       "      <td>268000.0</td>\n",
       "    </tr>\n",
       "  </tbody>\n",
       "</table>\n",
       "<p>5 rows × 25 columns</p>\n",
       "</div>"
      ],
      "text/plain": [
       "   id_produto  id_contrato  id_cliente  data_entrada  valor_fin  qtde_prest  \\\n",
       "0       10707     30560012      212806         42349  151605.74        63.0   \n",
       "1       10707     30450012      212849         42367  133864.13        62.0   \n",
       "2       10707     31260012      212857         42349  156163.26        65.0   \n",
       "3       10707     31540015      212903         42349  132834.93        67.0   \n",
       "4       10707     30570018      212911         42349  147130.53        63.0   \n",
       "\n",
       "  juros_efet  data_entrada.1  data_final  provisao  ...          setor  \\\n",
       "0   0.246781           42349       44607         0  ...  SETOR PRIVADO   \n",
       "1   0.246802           42367       44607         0  ...  SETOR PRIVADO   \n",
       "2   0.246774           42349       44669     45392  ...  SETOR PRIVADO   \n",
       "3   0.246793           42349       44727       397  ...  SETOR PRIVADO   \n",
       "4   0.246785           42349       44607     41467  ...  SETOR PRIVADO   \n",
       "\n",
       "     situacao rating_atual         linha_fin tipo_a tipo_b tipo_c tipo_d  \\\n",
       "0  ADIMPLENTE           AA  PRO CAMINHONEIRO     ME     RT   PRIV  BNDES   \n",
       "1  ADIMPLENTE           AA  PRO CAMINHONEIRO     ME     RT   PRIV  BNDES   \n",
       "2  ADIMPLENTE            A  PRO CAMINHONEIRO     ME     RT   PRIV  BNDES   \n",
       "3  ADIMPLENTE            A  PRO CAMINHONEIRO     ME     RT   PRIV  BNDES   \n",
       "4  ADIMPLENTE            A  PRO CAMINHONEIRO     ME     RT   PRIV  BNDES   \n",
       "\n",
       "                        garantia valor_garantia  \n",
       "0  Alienação Fiduciaria Veículos       245000.0  \n",
       "1  Alienação Fiduciaria Veículos       219000.0  \n",
       "2  Alienação Fiduciaria Veículos       245000.0  \n",
       "3  Alienação Fiduciaria Veículos       197000.0  \n",
       "4  Alienação Fiduciaria Veículos       268000.0  \n",
       "\n",
       "[5 rows x 25 columns]"
      ]
     },
     "execution_count": 76,
     "metadata": {},
     "output_type": "execute_result"
    }
   ],
   "source": [
    "df.head()"
   ]
  },
  {
   "cell_type": "code",
   "execution_count": 77,
   "metadata": {
    "collapsed": true
   },
   "outputs": [
    {
     "name": "stdout",
     "output_type": "stream",
     "text": [
      "<class 'pandas.core.frame.DataFrame'>\n",
      "RangeIndex: 2552 entries, 0 to 2551\n",
      "Data columns (total 25 columns):\n",
      " #   Column           Non-Null Count  Dtype  \n",
      "---  ------           --------------  -----  \n",
      " 0   id_produto       2552 non-null   int64  \n",
      " 1   id_contrato      2552 non-null   int64  \n",
      " 2   id_cliente       2552 non-null   int64  \n",
      " 3   data_entrada     2552 non-null   int64  \n",
      " 4   valor_fin        2552 non-null   float64\n",
      " 5   qtde_prest       2551 non-null   float64\n",
      " 6   juros_efet       2552 non-null   object \n",
      " 7   data_entrada.1   2552 non-null   int64  \n",
      " 8   data_final       2552 non-null   int64  \n",
      " 9   provisao         2552 non-null   int64  \n",
      " 10  fat              2552 non-null   int64  \n",
      " 11  rating_operacao  2552 non-null   object \n",
      " 12  rating_cliente   2552 non-null   object \n",
      " 13  ra               2552 non-null   object \n",
      " 14  porte            2552 non-null   object \n",
      " 15  setor            2552 non-null   object \n",
      " 16  situacao         2552 non-null   object \n",
      " 17  rating_atual     2552 non-null   object \n",
      " 18  linha_fin        2552 non-null   object \n",
      " 19  tipo_a           2552 non-null   object \n",
      " 20  tipo_b           2552 non-null   object \n",
      " 21  tipo_c           2552 non-null   object \n",
      " 22  tipo_d           2552 non-null   object \n",
      " 23  garantia         2552 non-null   object \n",
      " 24  valor_garantia   2537 non-null   float64\n",
      "dtypes: float64(3), int64(8), object(14)\n",
      "memory usage: 498.6+ KB\n"
     ]
    }
   ],
   "source": [
    "#data info \n",
    "df.info()"
   ]
  },
  {
   "cell_type": "code",
   "execution_count": 26,
   "metadata": {
    "collapsed": true
   },
   "outputs": [
    {
     "data": {
      "text/plain": [
       "Index(['id_produto', 'id_contrato', 'id_cliente', 'data_entrada', 'valor_fin',\n",
       "       'qtde_prest', 'juros_efet', 'data_entrada.1', 'data_final', 'provisao',\n",
       "       'fat', 'rating_operacao', 'rating_cliente', 'ra', 'porte', 'setor',\n",
       "       'situacao', 'rating_atual', 'linha_fin', 'tipo_a', 'tipo_b', 'tipo_c',\n",
       "       'tipo_d', 'garantia', 'valor_garantia'],\n",
       "      dtype='object')"
      ]
     },
     "execution_count": 26,
     "metadata": {},
     "output_type": "execute_result"
    }
   ],
   "source": [
    "# mostra o nome de todas as colunas\n",
    "df.columns"
   ]
  },
  {
   "cell_type": "code",
   "execution_count": 27,
   "metadata": {},
   "outputs": [],
   "source": [
    "#drop duplicate rows \n",
    "#df_sub_base = df.drop_duplicates(keep='first')"
   ]
  },
  {
   "cell_type": "code",
   "execution_count": 28,
   "metadata": {},
   "outputs": [
    {
     "data": {
      "text/plain": [
       "(2552, 25)"
      ]
     },
     "execution_count": 28,
     "metadata": {},
     "output_type": "execute_result"
    }
   ],
   "source": [
    "#shape of the data\n",
    "df.shape"
   ]
  },
  {
   "cell_type": "code",
   "execution_count": 29,
   "metadata": {},
   "outputs": [],
   "source": [
    "#criando variáveis quantitativas\n",
    "# razão valor financiado/faturamento\n",
    "df['razao_fin.fat'] = df['valor_fin']/df['fat']\n",
    "\n",
    "# log do faturamento\n",
    "df['log_fat'] = np.log(df['fat'])\n",
    "\n",
    "# prazo \n",
    "df['prazo_dias'] = df['data_final'] - df['data_entrada'] "
   ]
  },
  {
   "cell_type": "code",
   "execution_count": 30,
   "metadata": {},
   "outputs": [],
   "source": [
    "#drop uniportant variables \n",
    "drop_cols = ['id_produto', 'id_contrato', 'id_cliente', 'data_entrada','data_entrada.1', 'data_final'] \n",
    "df_clean = df.drop(drop_cols, axis=1)"
   ]
  },
  {
   "cell_type": "code",
   "execution_count": 43,
   "metadata": {
    "collapsed": true
   },
   "outputs": [
    {
     "data": {
      "text/plain": [
       "Index(['valor_fin', 'qtde_prest', 'juros_efet', 'provisao', 'fat',\n",
       "       'rating_operacao', 'rating_cliente', 'ra', 'porte', 'setor', 'situacao',\n",
       "       'rating_atual', 'linha_fin', 'tipo_a', 'tipo_b', 'tipo_c', 'tipo_d',\n",
       "       'garantia', 'valor_garantia', 'razao_fin.fat', 'log_fat', 'prazo_dias'],\n",
       "      dtype='object')"
      ]
     },
     "execution_count": 43,
     "metadata": {},
     "output_type": "execute_result"
    }
   ],
   "source": [
    "## Colunas da tabela\n",
    "df_clean.columns"
   ]
  },
  {
   "cell_type": "code",
   "execution_count": 44,
   "metadata": {
    "collapsed": true
   },
   "outputs": [
    {
     "data": {
      "text/html": [
       "<div>\n",
       "<style scoped>\n",
       "    .dataframe tbody tr th:only-of-type {\n",
       "        vertical-align: middle;\n",
       "    }\n",
       "\n",
       "    .dataframe tbody tr th {\n",
       "        vertical-align: top;\n",
       "    }\n",
       "\n",
       "    .dataframe thead th {\n",
       "        text-align: right;\n",
       "    }\n",
       "</style>\n",
       "<table border=\"1\" class=\"dataframe\">\n",
       "  <thead>\n",
       "    <tr style=\"text-align: right;\">\n",
       "      <th></th>\n",
       "      <th>valor_fin</th>\n",
       "      <th>qtde_prest</th>\n",
       "      <th>juros_efet</th>\n",
       "      <th>provisao</th>\n",
       "      <th>fat</th>\n",
       "      <th>rating_operacao</th>\n",
       "      <th>rating_cliente</th>\n",
       "      <th>ra</th>\n",
       "      <th>porte</th>\n",
       "      <th>setor</th>\n",
       "      <th>...</th>\n",
       "      <th>linha_fin</th>\n",
       "      <th>tipo_a</th>\n",
       "      <th>tipo_b</th>\n",
       "      <th>tipo_c</th>\n",
       "      <th>tipo_d</th>\n",
       "      <th>garantia</th>\n",
       "      <th>valor_garantia</th>\n",
       "      <th>razao_fin.fat</th>\n",
       "      <th>log_fat</th>\n",
       "      <th>prazo_dias</th>\n",
       "    </tr>\n",
       "  </thead>\n",
       "  <tbody>\n",
       "    <tr>\n",
       "      <th>0</th>\n",
       "      <td>151605.74</td>\n",
       "      <td>63.0</td>\n",
       "      <td>0.246781</td>\n",
       "      <td>0</td>\n",
       "      <td>7481</td>\n",
       "      <td>AA</td>\n",
       "      <td>B</td>\n",
       "      <td>RA de Santos</td>\n",
       "      <td>PF</td>\n",
       "      <td>SETOR PRIVADO</td>\n",
       "      <td>...</td>\n",
       "      <td>PRO CAMINHONEIRO</td>\n",
       "      <td>ME</td>\n",
       "      <td>RT</td>\n",
       "      <td>PRIV</td>\n",
       "      <td>BNDES</td>\n",
       "      <td>Alienação Fiduciaria Veículos</td>\n",
       "      <td>245000.0</td>\n",
       "      <td>20.265438</td>\n",
       "      <td>8.920122</td>\n",
       "      <td>2258</td>\n",
       "    </tr>\n",
       "    <tr>\n",
       "      <th>1</th>\n",
       "      <td>133864.13</td>\n",
       "      <td>62.0</td>\n",
       "      <td>0.246802</td>\n",
       "      <td>0</td>\n",
       "      <td>6482</td>\n",
       "      <td>AA</td>\n",
       "      <td>B</td>\n",
       "      <td>RA de Santos</td>\n",
       "      <td>PF</td>\n",
       "      <td>SETOR PRIVADO</td>\n",
       "      <td>...</td>\n",
       "      <td>PRO CAMINHONEIRO</td>\n",
       "      <td>ME</td>\n",
       "      <td>RT</td>\n",
       "      <td>PRIV</td>\n",
       "      <td>BNDES</td>\n",
       "      <td>Alienação Fiduciaria Veículos</td>\n",
       "      <td>219000.0</td>\n",
       "      <td>20.651671</td>\n",
       "      <td>8.776784</td>\n",
       "      <td>2240</td>\n",
       "    </tr>\n",
       "    <tr>\n",
       "      <th>2</th>\n",
       "      <td>156163.26</td>\n",
       "      <td>65.0</td>\n",
       "      <td>0.246774</td>\n",
       "      <td>45392</td>\n",
       "      <td>960378</td>\n",
       "      <td>A</td>\n",
       "      <td>B</td>\n",
       "      <td>RA de Santos</td>\n",
       "      <td>PF</td>\n",
       "      <td>SETOR PRIVADO</td>\n",
       "      <td>...</td>\n",
       "      <td>PRO CAMINHONEIRO</td>\n",
       "      <td>ME</td>\n",
       "      <td>RT</td>\n",
       "      <td>PRIV</td>\n",
       "      <td>BNDES</td>\n",
       "      <td>Alienação Fiduciaria Veículos</td>\n",
       "      <td>245000.0</td>\n",
       "      <td>0.162606</td>\n",
       "      <td>13.775082</td>\n",
       "      <td>2320</td>\n",
       "    </tr>\n",
       "    <tr>\n",
       "      <th>3</th>\n",
       "      <td>132834.93</td>\n",
       "      <td>67.0</td>\n",
       "      <td>0.246793</td>\n",
       "      <td>397</td>\n",
       "      <td>1005795</td>\n",
       "      <td>A</td>\n",
       "      <td>A</td>\n",
       "      <td>RA de Santos</td>\n",
       "      <td>PF</td>\n",
       "      <td>SETOR PRIVADO</td>\n",
       "      <td>...</td>\n",
       "      <td>PRO CAMINHONEIRO</td>\n",
       "      <td>ME</td>\n",
       "      <td>RT</td>\n",
       "      <td>PRIV</td>\n",
       "      <td>BNDES</td>\n",
       "      <td>Alienação Fiduciaria Veículos</td>\n",
       "      <td>197000.0</td>\n",
       "      <td>0.132070</td>\n",
       "      <td>13.821289</td>\n",
       "      <td>2378</td>\n",
       "    </tr>\n",
       "    <tr>\n",
       "      <th>4</th>\n",
       "      <td>147130.53</td>\n",
       "      <td>63.0</td>\n",
       "      <td>0.246785</td>\n",
       "      <td>41467</td>\n",
       "      <td>813483</td>\n",
       "      <td>A</td>\n",
       "      <td>A</td>\n",
       "      <td>RA de Santos</td>\n",
       "      <td>PF</td>\n",
       "      <td>SETOR PRIVADO</td>\n",
       "      <td>...</td>\n",
       "      <td>PRO CAMINHONEIRO</td>\n",
       "      <td>ME</td>\n",
       "      <td>RT</td>\n",
       "      <td>PRIV</td>\n",
       "      <td>BNDES</td>\n",
       "      <td>Alienação Fiduciaria Veículos</td>\n",
       "      <td>268000.0</td>\n",
       "      <td>0.180865</td>\n",
       "      <td>13.609080</td>\n",
       "      <td>2258</td>\n",
       "    </tr>\n",
       "  </tbody>\n",
       "</table>\n",
       "<p>5 rows × 22 columns</p>\n",
       "</div>"
      ],
      "text/plain": [
       "   valor_fin  qtde_prest juros_efet  provisao      fat rating_operacao  \\\n",
       "0  151605.74        63.0   0.246781         0     7481              AA   \n",
       "1  133864.13        62.0   0.246802         0     6482              AA   \n",
       "2  156163.26        65.0   0.246774     45392   960378               A   \n",
       "3  132834.93        67.0   0.246793       397  1005795               A   \n",
       "4  147130.53        63.0   0.246785     41467   813483               A   \n",
       "\n",
       "  rating_cliente            ra porte          setor  ...         linha_fin  \\\n",
       "0              B  RA de Santos    PF  SETOR PRIVADO  ...  PRO CAMINHONEIRO   \n",
       "1              B  RA de Santos    PF  SETOR PRIVADO  ...  PRO CAMINHONEIRO   \n",
       "2              B  RA de Santos    PF  SETOR PRIVADO  ...  PRO CAMINHONEIRO   \n",
       "3              A  RA de Santos    PF  SETOR PRIVADO  ...  PRO CAMINHONEIRO   \n",
       "4              A  RA de Santos    PF  SETOR PRIVADO  ...  PRO CAMINHONEIRO   \n",
       "\n",
       "  tipo_a tipo_b tipo_c tipo_d                       garantia valor_garantia  \\\n",
       "0     ME     RT   PRIV  BNDES  Alienação Fiduciaria Veículos       245000.0   \n",
       "1     ME     RT   PRIV  BNDES  Alienação Fiduciaria Veículos       219000.0   \n",
       "2     ME     RT   PRIV  BNDES  Alienação Fiduciaria Veículos       245000.0   \n",
       "3     ME     RT   PRIV  BNDES  Alienação Fiduciaria Veículos       197000.0   \n",
       "4     ME     RT   PRIV  BNDES  Alienação Fiduciaria Veículos       268000.0   \n",
       "\n",
       "  razao_fin.fat    log_fat  prazo_dias  \n",
       "0     20.265438   8.920122        2258  \n",
       "1     20.651671   8.776784        2240  \n",
       "2      0.162606  13.775082        2320  \n",
       "3      0.132070  13.821289        2378  \n",
       "4      0.180865  13.609080        2258  \n",
       "\n",
       "[5 rows x 22 columns]"
      ]
     },
     "execution_count": 44,
     "metadata": {},
     "output_type": "execute_result"
    }
   ],
   "source": [
    "## Tabela \n",
    "df_clean.head()"
   ]
  },
  {
   "cell_type": "code",
   "execution_count": 33,
   "metadata": {},
   "outputs": [],
   "source": [
    "#separando as variáveis por tipo (quantitativa e categórica)\n",
    "#variáveis categóricas\n",
    "quant_var = ['valor_fin','qtde_prest', 'juros_efet', 'provisao','fat', 'valor_garantia','razao_fin.fat', 'log_fat', 'prazo_dias']\n",
    "df_categ_var = df_clean.drop(quant_var, axis=1)"
   ]
  },
  {
   "cell_type": "code",
   "execution_count": 34,
   "metadata": {},
   "outputs": [],
   "source": [
    "# variáveis quantitativas\n",
    "df_quant_var = df_clean.drop(df_categ_var, axis=1)"
   ]
  },
  {
   "cell_type": "code",
   "execution_count": 39,
   "metadata": {
    "collapsed": true
   },
   "outputs": [
    {
     "data": {
      "text/plain": [
       "Index(['valor_fin', 'qtde_prest', 'juros_efet', 'provisao', 'fat',\n",
       "       'valor_garantia', 'razao_fin.fat', 'log_fat', 'prazo_dias'],\n",
       "      dtype='object')"
      ]
     },
     "execution_count": 39,
     "metadata": {},
     "output_type": "execute_result"
    }
   ],
   "source": [
    "## colunas variáveis quantitativas \n",
    "df_quant_var.columns"
   ]
  },
  {
   "cell_type": "code",
   "execution_count": 40,
   "metadata": {
    "collapsed": true
   },
   "outputs": [
    {
     "data": {
      "text/html": [
       "<div>\n",
       "<style scoped>\n",
       "    .dataframe tbody tr th:only-of-type {\n",
       "        vertical-align: middle;\n",
       "    }\n",
       "\n",
       "    .dataframe tbody tr th {\n",
       "        vertical-align: top;\n",
       "    }\n",
       "\n",
       "    .dataframe thead th {\n",
       "        text-align: right;\n",
       "    }\n",
       "</style>\n",
       "<table border=\"1\" class=\"dataframe\">\n",
       "  <thead>\n",
       "    <tr style=\"text-align: right;\">\n",
       "      <th></th>\n",
       "      <th>valor_fin</th>\n",
       "      <th>qtde_prest</th>\n",
       "      <th>juros_efet</th>\n",
       "      <th>provisao</th>\n",
       "      <th>fat</th>\n",
       "      <th>valor_garantia</th>\n",
       "      <th>razao_fin.fat</th>\n",
       "      <th>log_fat</th>\n",
       "      <th>prazo_dias</th>\n",
       "    </tr>\n",
       "  </thead>\n",
       "  <tbody>\n",
       "    <tr>\n",
       "      <th>0</th>\n",
       "      <td>151605.74</td>\n",
       "      <td>63.0</td>\n",
       "      <td>0.246781</td>\n",
       "      <td>0</td>\n",
       "      <td>7481</td>\n",
       "      <td>245000.0</td>\n",
       "      <td>20.265438</td>\n",
       "      <td>8.920122</td>\n",
       "      <td>2258</td>\n",
       "    </tr>\n",
       "    <tr>\n",
       "      <th>1</th>\n",
       "      <td>133864.13</td>\n",
       "      <td>62.0</td>\n",
       "      <td>0.246802</td>\n",
       "      <td>0</td>\n",
       "      <td>6482</td>\n",
       "      <td>219000.0</td>\n",
       "      <td>20.651671</td>\n",
       "      <td>8.776784</td>\n",
       "      <td>2240</td>\n",
       "    </tr>\n",
       "    <tr>\n",
       "      <th>2</th>\n",
       "      <td>156163.26</td>\n",
       "      <td>65.0</td>\n",
       "      <td>0.246774</td>\n",
       "      <td>45392</td>\n",
       "      <td>960378</td>\n",
       "      <td>245000.0</td>\n",
       "      <td>0.162606</td>\n",
       "      <td>13.775082</td>\n",
       "      <td>2320</td>\n",
       "    </tr>\n",
       "    <tr>\n",
       "      <th>3</th>\n",
       "      <td>132834.93</td>\n",
       "      <td>67.0</td>\n",
       "      <td>0.246793</td>\n",
       "      <td>397</td>\n",
       "      <td>1005795</td>\n",
       "      <td>197000.0</td>\n",
       "      <td>0.132070</td>\n",
       "      <td>13.821289</td>\n",
       "      <td>2378</td>\n",
       "    </tr>\n",
       "    <tr>\n",
       "      <th>4</th>\n",
       "      <td>147130.53</td>\n",
       "      <td>63.0</td>\n",
       "      <td>0.246785</td>\n",
       "      <td>41467</td>\n",
       "      <td>813483</td>\n",
       "      <td>268000.0</td>\n",
       "      <td>0.180865</td>\n",
       "      <td>13.609080</td>\n",
       "      <td>2258</td>\n",
       "    </tr>\n",
       "  </tbody>\n",
       "</table>\n",
       "</div>"
      ],
      "text/plain": [
       "   valor_fin  qtde_prest juros_efet  provisao      fat  valor_garantia  \\\n",
       "0  151605.74        63.0   0.246781         0     7481        245000.0   \n",
       "1  133864.13        62.0   0.246802         0     6482        219000.0   \n",
       "2  156163.26        65.0   0.246774     45392   960378        245000.0   \n",
       "3  132834.93        67.0   0.246793       397  1005795        197000.0   \n",
       "4  147130.53        63.0   0.246785     41467   813483        268000.0   \n",
       "\n",
       "   razao_fin.fat    log_fat  prazo_dias  \n",
       "0      20.265438   8.920122        2258  \n",
       "1      20.651671   8.776784        2240  \n",
       "2       0.162606  13.775082        2320  \n",
       "3       0.132070  13.821289        2378  \n",
       "4       0.180865  13.609080        2258  "
      ]
     },
     "execution_count": 40,
     "metadata": {},
     "output_type": "execute_result"
    }
   ],
   "source": [
    "# Variáveis quantitativas \n",
    "df_quant_var.head()"
   ]
  },
  {
   "cell_type": "code",
   "execution_count": 41,
   "metadata": {
    "collapsed": true
   },
   "outputs": [
    {
     "data": {
      "text/plain": [
       "Index(['rating_operacao', 'rating_cliente', 'ra', 'porte', 'setor', 'situacao',\n",
       "       'rating_atual', 'linha_fin', 'tipo_a', 'tipo_b', 'tipo_c', 'tipo_d',\n",
       "       'garantia'],\n",
       "      dtype='object')"
      ]
     },
     "execution_count": 41,
     "metadata": {},
     "output_type": "execute_result"
    }
   ],
   "source": [
    "## colunas variáveis categóricas\n",
    "df_categ_var.columns"
   ]
  },
  {
   "cell_type": "code",
   "execution_count": 42,
   "metadata": {
    "collapsed": true
   },
   "outputs": [
    {
     "data": {
      "text/html": [
       "<div>\n",
       "<style scoped>\n",
       "    .dataframe tbody tr th:only-of-type {\n",
       "        vertical-align: middle;\n",
       "    }\n",
       "\n",
       "    .dataframe tbody tr th {\n",
       "        vertical-align: top;\n",
       "    }\n",
       "\n",
       "    .dataframe thead th {\n",
       "        text-align: right;\n",
       "    }\n",
       "</style>\n",
       "<table border=\"1\" class=\"dataframe\">\n",
       "  <thead>\n",
       "    <tr style=\"text-align: right;\">\n",
       "      <th></th>\n",
       "      <th>rating_operacao</th>\n",
       "      <th>rating_cliente</th>\n",
       "      <th>ra</th>\n",
       "      <th>porte</th>\n",
       "      <th>setor</th>\n",
       "      <th>situacao</th>\n",
       "      <th>rating_atual</th>\n",
       "      <th>linha_fin</th>\n",
       "      <th>tipo_a</th>\n",
       "      <th>tipo_b</th>\n",
       "      <th>tipo_c</th>\n",
       "      <th>tipo_d</th>\n",
       "      <th>garantia</th>\n",
       "    </tr>\n",
       "  </thead>\n",
       "  <tbody>\n",
       "    <tr>\n",
       "      <th>0</th>\n",
       "      <td>AA</td>\n",
       "      <td>B</td>\n",
       "      <td>RA de Santos</td>\n",
       "      <td>PF</td>\n",
       "      <td>SETOR PRIVADO</td>\n",
       "      <td>ADIMPLENTE</td>\n",
       "      <td>AA</td>\n",
       "      <td>PRO CAMINHONEIRO</td>\n",
       "      <td>ME</td>\n",
       "      <td>RT</td>\n",
       "      <td>PRIV</td>\n",
       "      <td>BNDES</td>\n",
       "      <td>Alienação Fiduciaria Veículos</td>\n",
       "    </tr>\n",
       "    <tr>\n",
       "      <th>1</th>\n",
       "      <td>AA</td>\n",
       "      <td>B</td>\n",
       "      <td>RA de Santos</td>\n",
       "      <td>PF</td>\n",
       "      <td>SETOR PRIVADO</td>\n",
       "      <td>ADIMPLENTE</td>\n",
       "      <td>AA</td>\n",
       "      <td>PRO CAMINHONEIRO</td>\n",
       "      <td>ME</td>\n",
       "      <td>RT</td>\n",
       "      <td>PRIV</td>\n",
       "      <td>BNDES</td>\n",
       "      <td>Alienação Fiduciaria Veículos</td>\n",
       "    </tr>\n",
       "    <tr>\n",
       "      <th>2</th>\n",
       "      <td>A</td>\n",
       "      <td>B</td>\n",
       "      <td>RA de Santos</td>\n",
       "      <td>PF</td>\n",
       "      <td>SETOR PRIVADO</td>\n",
       "      <td>ADIMPLENTE</td>\n",
       "      <td>A</td>\n",
       "      <td>PRO CAMINHONEIRO</td>\n",
       "      <td>ME</td>\n",
       "      <td>RT</td>\n",
       "      <td>PRIV</td>\n",
       "      <td>BNDES</td>\n",
       "      <td>Alienação Fiduciaria Veículos</td>\n",
       "    </tr>\n",
       "    <tr>\n",
       "      <th>3</th>\n",
       "      <td>A</td>\n",
       "      <td>A</td>\n",
       "      <td>RA de Santos</td>\n",
       "      <td>PF</td>\n",
       "      <td>SETOR PRIVADO</td>\n",
       "      <td>ADIMPLENTE</td>\n",
       "      <td>A</td>\n",
       "      <td>PRO CAMINHONEIRO</td>\n",
       "      <td>ME</td>\n",
       "      <td>RT</td>\n",
       "      <td>PRIV</td>\n",
       "      <td>BNDES</td>\n",
       "      <td>Alienação Fiduciaria Veículos</td>\n",
       "    </tr>\n",
       "    <tr>\n",
       "      <th>4</th>\n",
       "      <td>A</td>\n",
       "      <td>A</td>\n",
       "      <td>RA de Santos</td>\n",
       "      <td>PF</td>\n",
       "      <td>SETOR PRIVADO</td>\n",
       "      <td>ADIMPLENTE</td>\n",
       "      <td>A</td>\n",
       "      <td>PRO CAMINHONEIRO</td>\n",
       "      <td>ME</td>\n",
       "      <td>RT</td>\n",
       "      <td>PRIV</td>\n",
       "      <td>BNDES</td>\n",
       "      <td>Alienação Fiduciaria Veículos</td>\n",
       "    </tr>\n",
       "  </tbody>\n",
       "</table>\n",
       "</div>"
      ],
      "text/plain": [
       "  rating_operacao rating_cliente            ra porte          setor  \\\n",
       "0              AA              B  RA de Santos    PF  SETOR PRIVADO   \n",
       "1              AA              B  RA de Santos    PF  SETOR PRIVADO   \n",
       "2               A              B  RA de Santos    PF  SETOR PRIVADO   \n",
       "3               A              A  RA de Santos    PF  SETOR PRIVADO   \n",
       "4               A              A  RA de Santos    PF  SETOR PRIVADO   \n",
       "\n",
       "     situacao rating_atual         linha_fin tipo_a tipo_b tipo_c tipo_d  \\\n",
       "0  ADIMPLENTE           AA  PRO CAMINHONEIRO     ME     RT   PRIV  BNDES   \n",
       "1  ADIMPLENTE           AA  PRO CAMINHONEIRO     ME     RT   PRIV  BNDES   \n",
       "2  ADIMPLENTE            A  PRO CAMINHONEIRO     ME     RT   PRIV  BNDES   \n",
       "3  ADIMPLENTE            A  PRO CAMINHONEIRO     ME     RT   PRIV  BNDES   \n",
       "4  ADIMPLENTE            A  PRO CAMINHONEIRO     ME     RT   PRIV  BNDES   \n",
       "\n",
       "                        garantia  \n",
       "0  Alienação Fiduciaria Veículos  \n",
       "1  Alienação Fiduciaria Veículos  \n",
       "2  Alienação Fiduciaria Veículos  \n",
       "3  Alienação Fiduciaria Veículos  \n",
       "4  Alienação Fiduciaria Veículos  "
      ]
     },
     "execution_count": 42,
     "metadata": {},
     "output_type": "execute_result"
    }
   ],
   "source": [
    "# Variáveis categóricas\n",
    "df_categ_var.head()"
   ]
  },
  {
   "cell_type": "raw",
   "metadata": {},
   "source": [
    "#ANÁLISE VARIÁVEIS QUANTITATIVAS"
   ]
  },
  {
   "cell_type": "code",
   "execution_count": 47,
   "metadata": {
    "collapsed": true
   },
   "outputs": [
    {
     "data": {
      "text/html": [
       "<div>\n",
       "<style scoped>\n",
       "    .dataframe tbody tr th:only-of-type {\n",
       "        vertical-align: middle;\n",
       "    }\n",
       "\n",
       "    .dataframe tbody tr th {\n",
       "        vertical-align: top;\n",
       "    }\n",
       "\n",
       "    .dataframe thead th {\n",
       "        text-align: right;\n",
       "    }\n",
       "</style>\n",
       "<table border=\"1\" class=\"dataframe\">\n",
       "  <thead>\n",
       "    <tr style=\"text-align: right;\">\n",
       "      <th></th>\n",
       "      <th>valor_fin</th>\n",
       "      <th>qtde_prest</th>\n",
       "      <th>juros_efet</th>\n",
       "      <th>provisao</th>\n",
       "      <th>fat</th>\n",
       "      <th>valor_garantia</th>\n",
       "      <th>razao_fin.fat</th>\n",
       "      <th>log_fat</th>\n",
       "      <th>prazo_dias</th>\n",
       "    </tr>\n",
       "  </thead>\n",
       "  <tbody>\n",
       "    <tr>\n",
       "      <th>0</th>\n",
       "      <td>151605.74</td>\n",
       "      <td>63.0</td>\n",
       "      <td>0.246781</td>\n",
       "      <td>0</td>\n",
       "      <td>7481</td>\n",
       "      <td>245000.00</td>\n",
       "      <td>20.27</td>\n",
       "      <td>8.92</td>\n",
       "      <td>2258</td>\n",
       "    </tr>\n",
       "    <tr>\n",
       "      <th>1</th>\n",
       "      <td>133864.13</td>\n",
       "      <td>62.0</td>\n",
       "      <td>0.246802</td>\n",
       "      <td>0</td>\n",
       "      <td>6482</td>\n",
       "      <td>219000.00</td>\n",
       "      <td>20.65</td>\n",
       "      <td>8.78</td>\n",
       "      <td>2240</td>\n",
       "    </tr>\n",
       "    <tr>\n",
       "      <th>2</th>\n",
       "      <td>156163.26</td>\n",
       "      <td>65.0</td>\n",
       "      <td>0.246774</td>\n",
       "      <td>45392</td>\n",
       "      <td>960378</td>\n",
       "      <td>245000.00</td>\n",
       "      <td>0.16</td>\n",
       "      <td>13.78</td>\n",
       "      <td>2320</td>\n",
       "    </tr>\n",
       "    <tr>\n",
       "      <th>3</th>\n",
       "      <td>132834.93</td>\n",
       "      <td>67.0</td>\n",
       "      <td>0.246793</td>\n",
       "      <td>397</td>\n",
       "      <td>1005795</td>\n",
       "      <td>197000.00</td>\n",
       "      <td>0.13</td>\n",
       "      <td>13.82</td>\n",
       "      <td>2378</td>\n",
       "    </tr>\n",
       "    <tr>\n",
       "      <th>4</th>\n",
       "      <td>147130.53</td>\n",
       "      <td>63.0</td>\n",
       "      <td>0.246785</td>\n",
       "      <td>41467</td>\n",
       "      <td>813483</td>\n",
       "      <td>268000.00</td>\n",
       "      <td>0.18</td>\n",
       "      <td>13.61</td>\n",
       "      <td>2258</td>\n",
       "    </tr>\n",
       "    <tr>\n",
       "      <th>...</th>\n",
       "      <td>...</td>\n",
       "      <td>...</td>\n",
       "      <td>...</td>\n",
       "      <td>...</td>\n",
       "      <td>...</td>\n",
       "      <td>...</td>\n",
       "      <td>...</td>\n",
       "      <td>...</td>\n",
       "      <td>...</td>\n",
       "    </tr>\n",
       "    <tr>\n",
       "      <th>2547</th>\n",
       "      <td>560763.83</td>\n",
       "      <td>120.0</td>\n",
       "      <td>0.478414</td>\n",
       "      <td>565069</td>\n",
       "      <td>1</td>\n",
       "      <td>354000.00</td>\n",
       "      <td>560763.83</td>\n",
       "      <td>0.00</td>\n",
       "      <td>3646</td>\n",
       "    </tr>\n",
       "    <tr>\n",
       "      <th>2548</th>\n",
       "      <td>53194.04</td>\n",
       "      <td>120.0</td>\n",
       "      <td>1.242.562</td>\n",
       "      <td>159906</td>\n",
       "      <td>1</td>\n",
       "      <td>105292.20</td>\n",
       "      <td>53194.04</td>\n",
       "      <td>0.00</td>\n",
       "      <td>3636</td>\n",
       "    </tr>\n",
       "    <tr>\n",
       "      <th>2549</th>\n",
       "      <td>4793407.28</td>\n",
       "      <td>60.0</td>\n",
       "      <td>0.414216</td>\n",
       "      <td>0</td>\n",
       "      <td>814103582</td>\n",
       "      <td>37280000.00</td>\n",
       "      <td>0.01</td>\n",
       "      <td>20.52</td>\n",
       "      <td>1833</td>\n",
       "    </tr>\n",
       "    <tr>\n",
       "      <th>2550</th>\n",
       "      <td>182281.79</td>\n",
       "      <td>60.0</td>\n",
       "      <td>0.753472</td>\n",
       "      <td>550677</td>\n",
       "      <td>1</td>\n",
       "      <td>191773.14</td>\n",
       "      <td>182281.79</td>\n",
       "      <td>0.00</td>\n",
       "      <td>1812</td>\n",
       "    </tr>\n",
       "    <tr>\n",
       "      <th>2551</th>\n",
       "      <td>64000.00</td>\n",
       "      <td>60.0</td>\n",
       "      <td>0.585692</td>\n",
       "      <td>64141</td>\n",
       "      <td>84251117</td>\n",
       "      <td>51200.00</td>\n",
       "      <td>0.00</td>\n",
       "      <td>18.25</td>\n",
       "      <td>1810</td>\n",
       "    </tr>\n",
       "  </tbody>\n",
       "</table>\n",
       "<p>2552 rows × 9 columns</p>\n",
       "</div>"
      ],
      "text/plain": [
       "       valor_fin  qtde_prest juros_efet  provisao        fat  valor_garantia  \\\n",
       "0      151605.74        63.0   0.246781         0       7481       245000.00   \n",
       "1      133864.13        62.0   0.246802         0       6482       219000.00   \n",
       "2      156163.26        65.0   0.246774     45392     960378       245000.00   \n",
       "3      132834.93        67.0   0.246793       397    1005795       197000.00   \n",
       "4      147130.53        63.0   0.246785     41467     813483       268000.00   \n",
       "...          ...         ...        ...       ...        ...             ...   \n",
       "2547   560763.83       120.0   0.478414    565069          1       354000.00   \n",
       "2548    53194.04       120.0  1.242.562    159906          1       105292.20   \n",
       "2549  4793407.28        60.0   0.414216         0  814103582     37280000.00   \n",
       "2550   182281.79        60.0   0.753472    550677          1       191773.14   \n",
       "2551    64000.00        60.0   0.585692     64141   84251117        51200.00   \n",
       "\n",
       "      razao_fin.fat  log_fat  prazo_dias  \n",
       "0             20.27     8.92        2258  \n",
       "1             20.65     8.78        2240  \n",
       "2              0.16    13.78        2320  \n",
       "3              0.13    13.82        2378  \n",
       "4              0.18    13.61        2258  \n",
       "...             ...      ...         ...  \n",
       "2547      560763.83     0.00        3646  \n",
       "2548       53194.04     0.00        3636  \n",
       "2549           0.01    20.52        1833  \n",
       "2550      182281.79     0.00        1812  \n",
       "2551           0.00    18.25        1810  \n",
       "\n",
       "[2552 rows x 9 columns]"
      ]
     },
     "execution_count": 47,
     "metadata": {},
     "output_type": "execute_result"
    }
   ],
   "source": [
    "## Tentativa de trabalhar com somente duas casas decimais \n",
    "round(df_quant_var,2)"
   ]
  },
  {
   "cell_type": "code",
   "execution_count": 48,
   "metadata": {
    "collapsed": true
   },
   "outputs": [
    {
     "data": {
      "text/html": [
       "<div>\n",
       "<style scoped>\n",
       "    .dataframe tbody tr th:only-of-type {\n",
       "        vertical-align: middle;\n",
       "    }\n",
       "\n",
       "    .dataframe tbody tr th {\n",
       "        vertical-align: top;\n",
       "    }\n",
       "\n",
       "    .dataframe thead th {\n",
       "        text-align: right;\n",
       "    }\n",
       "</style>\n",
       "<table border=\"1\" class=\"dataframe\">\n",
       "  <thead>\n",
       "    <tr style=\"text-align: right;\">\n",
       "      <th></th>\n",
       "      <th>valor_fin</th>\n",
       "      <th>qtde_prest</th>\n",
       "      <th>provisao</th>\n",
       "      <th>fat</th>\n",
       "      <th>valor_garantia</th>\n",
       "      <th>razao_fin.fat</th>\n",
       "      <th>log_fat</th>\n",
       "      <th>prazo_dias</th>\n",
       "    </tr>\n",
       "  </thead>\n",
       "  <tbody>\n",
       "    <tr>\n",
       "      <th>count</th>\n",
       "      <td>2.552000e+03</td>\n",
       "      <td>2551.000000</td>\n",
       "      <td>2.552000e+03</td>\n",
       "      <td>2.552000e+03</td>\n",
       "      <td>2.537000e+03</td>\n",
       "      <td>2.552000e+03</td>\n",
       "      <td>2552.000000</td>\n",
       "      <td>2552.000000</td>\n",
       "    </tr>\n",
       "    <tr>\n",
       "      <th>mean</th>\n",
       "      <td>7.441381e+05</td>\n",
       "      <td>48.000000</td>\n",
       "      <td>2.877312e+06</td>\n",
       "      <td>4.746712e+08</td>\n",
       "      <td>9.501178e+05</td>\n",
       "      <td>6.550484e+04</td>\n",
       "      <td>16.797877</td>\n",
       "      <td>1565.076411</td>\n",
       "    </tr>\n",
       "    <tr>\n",
       "      <th>std</th>\n",
       "      <td>2.223146e+06</td>\n",
       "      <td>24.700528</td>\n",
       "      <td>5.131532e+07</td>\n",
       "      <td>1.247498e+09</td>\n",
       "      <td>4.019448e+06</td>\n",
       "      <td>9.254239e+05</td>\n",
       "      <td>4.003320</td>\n",
       "      <td>790.787874</td>\n",
       "    </tr>\n",
       "    <tr>\n",
       "      <th>min</th>\n",
       "      <td>8.085800e+02</td>\n",
       "      <td>1.000000</td>\n",
       "      <td>0.000000e+00</td>\n",
       "      <td>1.000000e+00</td>\n",
       "      <td>0.000000e+00</td>\n",
       "      <td>9.376647e-06</td>\n",
       "      <td>0.000000</td>\n",
       "      <td>164.000000</td>\n",
       "    </tr>\n",
       "    <tr>\n",
       "      <th>25%</th>\n",
       "      <td>5.461489e+04</td>\n",
       "      <td>34.000000</td>\n",
       "      <td>1.238425e+04</td>\n",
       "      <td>2.668803e+06</td>\n",
       "      <td>4.243968e+04</td>\n",
       "      <td>8.122299e-04</td>\n",
       "      <td>14.797140</td>\n",
       "      <td>1076.000000</td>\n",
       "    </tr>\n",
       "    <tr>\n",
       "      <th>50%</th>\n",
       "      <td>1.394400e+05</td>\n",
       "      <td>34.000000</td>\n",
       "      <td>5.444250e+04</td>\n",
       "      <td>4.176877e+07</td>\n",
       "      <td>1.157296e+05</td>\n",
       "      <td>3.342867e-03</td>\n",
       "      <td>17.547654</td>\n",
       "      <td>1090.000000</td>\n",
       "    </tr>\n",
       "    <tr>\n",
       "      <th>75%</th>\n",
       "      <td>3.215124e+05</td>\n",
       "      <td>60.000000</td>\n",
       "      <td>1.976340e+05</td>\n",
       "      <td>2.230333e+08</td>\n",
       "      <td>2.800000e+05</td>\n",
       "      <td>5.285864e-02</td>\n",
       "      <td>19.222831</td>\n",
       "      <td>2082.250000</td>\n",
       "    </tr>\n",
       "    <tr>\n",
       "      <th>max</th>\n",
       "      <td>3.368884e+07</td>\n",
       "      <td>238.000000</td>\n",
       "      <td>2.304914e+09</td>\n",
       "      <td>9.987347e+09</td>\n",
       "      <td>8.917560e+07</td>\n",
       "      <td>3.219690e+07</td>\n",
       "      <td>23.024585</td>\n",
       "      <td>5819.000000</td>\n",
       "    </tr>\n",
       "  </tbody>\n",
       "</table>\n",
       "</div>"
      ],
      "text/plain": [
       "          valor_fin   qtde_prest      provisao           fat  valor_garantia  \\\n",
       "count  2.552000e+03  2551.000000  2.552000e+03  2.552000e+03    2.537000e+03   \n",
       "mean   7.441381e+05    48.000000  2.877312e+06  4.746712e+08    9.501178e+05   \n",
       "std    2.223146e+06    24.700528  5.131532e+07  1.247498e+09    4.019448e+06   \n",
       "min    8.085800e+02     1.000000  0.000000e+00  1.000000e+00    0.000000e+00   \n",
       "25%    5.461489e+04    34.000000  1.238425e+04  2.668803e+06    4.243968e+04   \n",
       "50%    1.394400e+05    34.000000  5.444250e+04  4.176877e+07    1.157296e+05   \n",
       "75%    3.215124e+05    60.000000  1.976340e+05  2.230333e+08    2.800000e+05   \n",
       "max    3.368884e+07   238.000000  2.304914e+09  9.987347e+09    8.917560e+07   \n",
       "\n",
       "       razao_fin.fat      log_fat   prazo_dias  \n",
       "count   2.552000e+03  2552.000000  2552.000000  \n",
       "mean    6.550484e+04    16.797877  1565.076411  \n",
       "std     9.254239e+05     4.003320   790.787874  \n",
       "min     9.376647e-06     0.000000   164.000000  \n",
       "25%     8.122299e-04    14.797140  1076.000000  \n",
       "50%     3.342867e-03    17.547654  1090.000000  \n",
       "75%     5.285864e-02    19.222831  2082.250000  \n",
       "max     3.219690e+07    23.024585  5819.000000  "
      ]
     },
     "execution_count": 48,
     "metadata": {},
     "output_type": "execute_result"
    }
   ],
   "source": [
    "#Análise descritiva variáveis quantitativas (sumary)\n",
    "df_quant_var.describe()"
   ]
  },
  {
   "cell_type": "code",
   "execution_count": 51,
   "metadata": {
    "collapsed": true
   },
   "outputs": [
    {
     "data": {
      "text/html": [
       "<div>\n",
       "<style scoped>\n",
       "    .dataframe tbody tr th:only-of-type {\n",
       "        vertical-align: middle;\n",
       "    }\n",
       "\n",
       "    .dataframe tbody tr th {\n",
       "        vertical-align: top;\n",
       "    }\n",
       "\n",
       "    .dataframe thead th {\n",
       "        text-align: right;\n",
       "    }\n",
       "</style>\n",
       "<table border=\"1\" class=\"dataframe\">\n",
       "  <thead>\n",
       "    <tr style=\"text-align: right;\">\n",
       "      <th></th>\n",
       "      <th>valor_fin</th>\n",
       "      <th>qtde_prest</th>\n",
       "      <th>provisao</th>\n",
       "      <th>fat</th>\n",
       "      <th>valor_garantia</th>\n",
       "      <th>razao_fin.fat</th>\n",
       "      <th>log_fat</th>\n",
       "      <th>prazo_dias</th>\n",
       "    </tr>\n",
       "  </thead>\n",
       "  <tbody>\n",
       "    <tr>\n",
       "      <th>valor_fin</th>\n",
       "      <td>1.000000</td>\n",
       "      <td>0.390673</td>\n",
       "      <td>0.349627</td>\n",
       "      <td>0.320464</td>\n",
       "      <td>0.629334</td>\n",
       "      <td>0.394669</td>\n",
       "      <td>0.103098</td>\n",
       "      <td>0.417715</td>\n",
       "    </tr>\n",
       "    <tr>\n",
       "      <th>qtde_prest</th>\n",
       "      <td>0.390673</td>\n",
       "      <td>1.000000</td>\n",
       "      <td>0.098115</td>\n",
       "      <td>0.232737</td>\n",
       "      <td>0.268674</td>\n",
       "      <td>0.136818</td>\n",
       "      <td>-0.088691</td>\n",
       "      <td>0.959610</td>\n",
       "    </tr>\n",
       "    <tr>\n",
       "      <th>provisao</th>\n",
       "      <td>0.349627</td>\n",
       "      <td>0.098115</td>\n",
       "      <td>1.000000</td>\n",
       "      <td>0.005036</td>\n",
       "      <td>0.073403</td>\n",
       "      <td>0.622362</td>\n",
       "      <td>-0.069399</td>\n",
       "      <td>0.098096</td>\n",
       "    </tr>\n",
       "    <tr>\n",
       "      <th>fat</th>\n",
       "      <td>0.320464</td>\n",
       "      <td>0.232737</td>\n",
       "      <td>0.005036</td>\n",
       "      <td>1.000000</td>\n",
       "      <td>0.240369</td>\n",
       "      <td>-0.026944</td>\n",
       "      <td>0.453669</td>\n",
       "      <td>0.264643</td>\n",
       "    </tr>\n",
       "    <tr>\n",
       "      <th>valor_garantia</th>\n",
       "      <td>0.629334</td>\n",
       "      <td>0.268674</td>\n",
       "      <td>0.073403</td>\n",
       "      <td>0.240369</td>\n",
       "      <td>1.000000</td>\n",
       "      <td>0.172477</td>\n",
       "      <td>0.087967</td>\n",
       "      <td>0.286488</td>\n",
       "    </tr>\n",
       "    <tr>\n",
       "      <th>razao_fin.fat</th>\n",
       "      <td>0.394669</td>\n",
       "      <td>0.136818</td>\n",
       "      <td>0.622362</td>\n",
       "      <td>-0.026944</td>\n",
       "      <td>0.172477</td>\n",
       "      <td>1.000000</td>\n",
       "      <td>-0.297116</td>\n",
       "      <td>0.147492</td>\n",
       "    </tr>\n",
       "    <tr>\n",
       "      <th>log_fat</th>\n",
       "      <td>0.103098</td>\n",
       "      <td>-0.088691</td>\n",
       "      <td>-0.069399</td>\n",
       "      <td>0.453669</td>\n",
       "      <td>0.087967</td>\n",
       "      <td>-0.297116</td>\n",
       "      <td>1.000000</td>\n",
       "      <td>-0.083504</td>\n",
       "    </tr>\n",
       "    <tr>\n",
       "      <th>prazo_dias</th>\n",
       "      <td>0.417715</td>\n",
       "      <td>0.959610</td>\n",
       "      <td>0.098096</td>\n",
       "      <td>0.264643</td>\n",
       "      <td>0.286488</td>\n",
       "      <td>0.147492</td>\n",
       "      <td>-0.083504</td>\n",
       "      <td>1.000000</td>\n",
       "    </tr>\n",
       "  </tbody>\n",
       "</table>\n",
       "</div>"
      ],
      "text/plain": [
       "                valor_fin  qtde_prest  provisao       fat  valor_garantia  \\\n",
       "valor_fin        1.000000    0.390673  0.349627  0.320464        0.629334   \n",
       "qtde_prest       0.390673    1.000000  0.098115  0.232737        0.268674   \n",
       "provisao         0.349627    0.098115  1.000000  0.005036        0.073403   \n",
       "fat              0.320464    0.232737  0.005036  1.000000        0.240369   \n",
       "valor_garantia   0.629334    0.268674  0.073403  0.240369        1.000000   \n",
       "razao_fin.fat    0.394669    0.136818  0.622362 -0.026944        0.172477   \n",
       "log_fat          0.103098   -0.088691 -0.069399  0.453669        0.087967   \n",
       "prazo_dias       0.417715    0.959610  0.098096  0.264643        0.286488   \n",
       "\n",
       "                razao_fin.fat   log_fat  prazo_dias  \n",
       "valor_fin            0.394669  0.103098    0.417715  \n",
       "qtde_prest           0.136818 -0.088691    0.959610  \n",
       "provisao             0.622362 -0.069399    0.098096  \n",
       "fat                 -0.026944  0.453669    0.264643  \n",
       "valor_garantia       0.172477  0.087967    0.286488  \n",
       "razao_fin.fat        1.000000 -0.297116    0.147492  \n",
       "log_fat             -0.297116  1.000000   -0.083504  \n",
       "prazo_dias           0.147492 -0.083504    1.000000  "
      ]
     },
     "execution_count": 51,
     "metadata": {},
     "output_type": "execute_result"
    }
   ],
   "source": [
    "#correlação\n",
    "df_quant_var.corr()"
   ]
  },
  {
   "cell_type": "markdown",
   "metadata": {},
   "source": [
    "Análise exploratória Variáveis categóricas "
   ]
  },
  {
   "cell_type": "code",
   "execution_count": 54,
   "metadata": {
    "collapsed": true
   },
   "outputs": [
    {
     "data": {
      "text/plain": [
       "ADIMPLENTE      2514\n",
       "INADIMPLENTE      38\n",
       "Name: situacao, dtype: int64"
      ]
     },
     "execution_count": 54,
     "metadata": {},
     "output_type": "execute_result"
    }
   ],
   "source": [
    "## Contando variáveis categóricas - Situação \n",
    "df_categ_var['situacao'].value_counts()"
   ]
  },
  {
   "cell_type": "code",
   "execution_count": 78,
   "metadata": {
    "collapsed": true
   },
   "outputs": [
    {
     "ename": "IndexingError",
     "evalue": "Unalignable boolean Series provided as indexer (index of the boolean Series and of the indexed object do not match).",
     "output_type": "error",
     "traceback": [
      "\u001b[1;31m---------------------------------------------------------------------------\u001b[0m",
      "\u001b[1;31mIndexingError\u001b[0m                             Traceback (most recent call last)",
      "\u001b[1;32m<ipython-input-78-d464c314a4ab>\u001b[0m in \u001b[0;36m<module>\u001b[1;34m\u001b[0m\n\u001b[0;32m      4\u001b[0m \u001b[0msituacao\u001b[0m \u001b[1;33m=\u001b[0m \u001b[0mdf\u001b[0m\u001b[1;33m[\u001b[0m\u001b[1;34m'situacao'\u001b[0m\u001b[1;33m]\u001b[0m\u001b[1;33m.\u001b[0m\u001b[0munique\u001b[0m\u001b[1;33m(\u001b[0m\u001b[1;33m)\u001b[0m\u001b[1;33m\u001b[0m\u001b[1;33m\u001b[0m\u001b[0m\n\u001b[0;32m      5\u001b[0m \u001b[0mcont\u001b[0m \u001b[1;33m=\u001b[0m \u001b[0mdf\u001b[0m\u001b[1;33m[\u001b[0m\u001b[1;34m'situacao'\u001b[0m\u001b[1;33m]\u001b[0m\u001b[1;33m.\u001b[0m\u001b[0mvalue_counts\u001b[0m\u001b[1;33m(\u001b[0m\u001b[1;33m)\u001b[0m\u001b[1;33m\u001b[0m\u001b[1;33m\u001b[0m\u001b[0m\n\u001b[1;32m----> 6\u001b[1;33m \u001b[0msns\u001b[0m\u001b[1;33m.\u001b[0m\u001b[0mbarplot\u001b[0m\u001b[1;33m(\u001b[0m\u001b[0mx\u001b[0m\u001b[1;33m=\u001b[0m\u001b[0msituacao\u001b[0m\u001b[1;33m,\u001b[0m\u001b[0my\u001b[0m\u001b[1;33m=\u001b[0m\u001b[0mcont\u001b[0m\u001b[1;33m,\u001b[0m\u001b[0mhue\u001b[0m\u001b[1;33m=\u001b[0m\u001b[0msituacao\u001b[0m\u001b[1;33m)\u001b[0m\u001b[1;33m\u001b[0m\u001b[1;33m\u001b[0m\u001b[0m\n\u001b[0m",
      "\u001b[1;32mc:\\users\\marce\\appdata\\local\\programs\\python\\python37\\lib\\site-packages\\seaborn\\categorical.py\u001b[0m in \u001b[0;36mbarplot\u001b[1;34m(x, y, hue, data, order, hue_order, estimator, ci, n_boot, units, seed, orient, color, palette, saturation, errcolor, errwidth, capsize, dodge, ax, **kwargs)\u001b[0m\n\u001b[0;32m   3145\u001b[0m                           \u001b[0mestimator\u001b[0m\u001b[1;33m,\u001b[0m \u001b[0mci\u001b[0m\u001b[1;33m,\u001b[0m \u001b[0mn_boot\u001b[0m\u001b[1;33m,\u001b[0m \u001b[0munits\u001b[0m\u001b[1;33m,\u001b[0m \u001b[0mseed\u001b[0m\u001b[1;33m,\u001b[0m\u001b[1;33m\u001b[0m\u001b[1;33m\u001b[0m\u001b[0m\n\u001b[0;32m   3146\u001b[0m                           \u001b[0morient\u001b[0m\u001b[1;33m,\u001b[0m \u001b[0mcolor\u001b[0m\u001b[1;33m,\u001b[0m \u001b[0mpalette\u001b[0m\u001b[1;33m,\u001b[0m \u001b[0msaturation\u001b[0m\u001b[1;33m,\u001b[0m\u001b[1;33m\u001b[0m\u001b[1;33m\u001b[0m\u001b[0m\n\u001b[1;32m-> 3147\u001b[1;33m                           errcolor, errwidth, capsize, dodge)\n\u001b[0m\u001b[0;32m   3148\u001b[0m \u001b[1;33m\u001b[0m\u001b[0m\n\u001b[0;32m   3149\u001b[0m     \u001b[1;32mif\u001b[0m \u001b[0max\u001b[0m \u001b[1;32mis\u001b[0m \u001b[1;32mNone\u001b[0m\u001b[1;33m:\u001b[0m\u001b[1;33m\u001b[0m\u001b[1;33m\u001b[0m\u001b[0m\n",
      "\u001b[1;32mc:\\users\\marce\\appdata\\local\\programs\\python\\python37\\lib\\site-packages\\seaborn\\categorical.py\u001b[0m in \u001b[0;36m__init__\u001b[1;34m(self, x, y, hue, data, order, hue_order, estimator, ci, n_boot, units, seed, orient, color, palette, saturation, errcolor, errwidth, capsize, dodge)\u001b[0m\n\u001b[0;32m   1603\u001b[0m                                  order, hue_order, units)\n\u001b[0;32m   1604\u001b[0m         \u001b[0mself\u001b[0m\u001b[1;33m.\u001b[0m\u001b[0mestablish_colors\u001b[0m\u001b[1;33m(\u001b[0m\u001b[0mcolor\u001b[0m\u001b[1;33m,\u001b[0m \u001b[0mpalette\u001b[0m\u001b[1;33m,\u001b[0m \u001b[0msaturation\u001b[0m\u001b[1;33m)\u001b[0m\u001b[1;33m\u001b[0m\u001b[1;33m\u001b[0m\u001b[0m\n\u001b[1;32m-> 1605\u001b[1;33m         \u001b[0mself\u001b[0m\u001b[1;33m.\u001b[0m\u001b[0mestimate_statistic\u001b[0m\u001b[1;33m(\u001b[0m\u001b[0mestimator\u001b[0m\u001b[1;33m,\u001b[0m \u001b[0mci\u001b[0m\u001b[1;33m,\u001b[0m \u001b[0mn_boot\u001b[0m\u001b[1;33m,\u001b[0m \u001b[0mseed\u001b[0m\u001b[1;33m)\u001b[0m\u001b[1;33m\u001b[0m\u001b[1;33m\u001b[0m\u001b[0m\n\u001b[0m\u001b[0;32m   1606\u001b[0m \u001b[1;33m\u001b[0m\u001b[0m\n\u001b[0;32m   1607\u001b[0m         \u001b[0mself\u001b[0m\u001b[1;33m.\u001b[0m\u001b[0mdodge\u001b[0m \u001b[1;33m=\u001b[0m \u001b[0mdodge\u001b[0m\u001b[1;33m\u001b[0m\u001b[1;33m\u001b[0m\u001b[0m\n",
      "\u001b[1;32mc:\\users\\marce\\appdata\\local\\programs\\python\\python37\\lib\\site-packages\\seaborn\\categorical.py\u001b[0m in \u001b[0;36mestimate_statistic\u001b[1;34m(self, estimator, ci, n_boot, seed)\u001b[0m\n\u001b[0;32m   1522\u001b[0m                     \u001b[0mhue_mask\u001b[0m \u001b[1;33m=\u001b[0m \u001b[0mself\u001b[0m\u001b[1;33m.\u001b[0m\u001b[0mplot_hues\u001b[0m\u001b[1;33m[\u001b[0m\u001b[0mi\u001b[0m\u001b[1;33m]\u001b[0m \u001b[1;33m==\u001b[0m \u001b[0mhue_level\u001b[0m\u001b[1;33m\u001b[0m\u001b[1;33m\u001b[0m\u001b[0m\n\u001b[0;32m   1523\u001b[0m                     \u001b[1;32mif\u001b[0m \u001b[0mself\u001b[0m\u001b[1;33m.\u001b[0m\u001b[0mplot_units\u001b[0m \u001b[1;32mis\u001b[0m \u001b[1;32mNone\u001b[0m\u001b[1;33m:\u001b[0m\u001b[1;33m\u001b[0m\u001b[1;33m\u001b[0m\u001b[0m\n\u001b[1;32m-> 1524\u001b[1;33m                         \u001b[0mstat_data\u001b[0m \u001b[1;33m=\u001b[0m \u001b[0mremove_na\u001b[0m\u001b[1;33m(\u001b[0m\u001b[0mgroup_data\u001b[0m\u001b[1;33m[\u001b[0m\u001b[0mhue_mask\u001b[0m\u001b[1;33m]\u001b[0m\u001b[1;33m)\u001b[0m\u001b[1;33m\u001b[0m\u001b[1;33m\u001b[0m\u001b[0m\n\u001b[0m\u001b[0;32m   1525\u001b[0m                         \u001b[0munit_data\u001b[0m \u001b[1;33m=\u001b[0m \u001b[1;32mNone\u001b[0m\u001b[1;33m\u001b[0m\u001b[1;33m\u001b[0m\u001b[0m\n\u001b[0;32m   1526\u001b[0m                     \u001b[1;32melse\u001b[0m\u001b[1;33m:\u001b[0m\u001b[1;33m\u001b[0m\u001b[1;33m\u001b[0m\u001b[0m\n",
      "\u001b[1;32mc:\\users\\marce\\appdata\\local\\programs\\python\\python37\\lib\\site-packages\\pandas\\core\\series.py\u001b[0m in \u001b[0;36m__getitem__\u001b[1;34m(self, key)\u001b[0m\n\u001b[0;32m    906\u001b[0m \u001b[1;33m\u001b[0m\u001b[0m\n\u001b[0;32m    907\u001b[0m         \u001b[1;32mif\u001b[0m \u001b[0mcom\u001b[0m\u001b[1;33m.\u001b[0m\u001b[0mis_bool_indexer\u001b[0m\u001b[1;33m(\u001b[0m\u001b[0mkey\u001b[0m\u001b[1;33m)\u001b[0m\u001b[1;33m:\u001b[0m\u001b[1;33m\u001b[0m\u001b[1;33m\u001b[0m\u001b[0m\n\u001b[1;32m--> 908\u001b[1;33m             \u001b[0mkey\u001b[0m \u001b[1;33m=\u001b[0m \u001b[0mcheck_bool_indexer\u001b[0m\u001b[1;33m(\u001b[0m\u001b[0mself\u001b[0m\u001b[1;33m.\u001b[0m\u001b[0mindex\u001b[0m\u001b[1;33m,\u001b[0m \u001b[0mkey\u001b[0m\u001b[1;33m)\u001b[0m\u001b[1;33m\u001b[0m\u001b[1;33m\u001b[0m\u001b[0m\n\u001b[0m\u001b[0;32m    909\u001b[0m \u001b[1;33m\u001b[0m\u001b[0m\n\u001b[0;32m    910\u001b[0m         \u001b[1;32mreturn\u001b[0m \u001b[0mself\u001b[0m\u001b[1;33m.\u001b[0m\u001b[0m_get_with\u001b[0m\u001b[1;33m(\u001b[0m\u001b[0mkey\u001b[0m\u001b[1;33m)\u001b[0m\u001b[1;33m\u001b[0m\u001b[1;33m\u001b[0m\u001b[0m\n",
      "\u001b[1;32mc:\\users\\marce\\appdata\\local\\programs\\python\\python37\\lib\\site-packages\\pandas\\core\\indexing.py\u001b[0m in \u001b[0;36mcheck_bool_indexer\u001b[1;34m(index, key)\u001b[0m\n\u001b[0;32m   2316\u001b[0m         \u001b[1;32mif\u001b[0m \u001b[0mmask\u001b[0m\u001b[1;33m.\u001b[0m\u001b[0many\u001b[0m\u001b[1;33m(\u001b[0m\u001b[1;33m)\u001b[0m\u001b[1;33m:\u001b[0m\u001b[1;33m\u001b[0m\u001b[1;33m\u001b[0m\u001b[0m\n\u001b[0;32m   2317\u001b[0m             raise IndexingError(\n\u001b[1;32m-> 2318\u001b[1;33m                 \u001b[1;34m\"Unalignable boolean Series provided as \"\u001b[0m\u001b[1;33m\u001b[0m\u001b[1;33m\u001b[0m\u001b[0m\n\u001b[0m\u001b[0;32m   2319\u001b[0m                 \u001b[1;34m\"indexer (index of the boolean Series and of \"\u001b[0m\u001b[1;33m\u001b[0m\u001b[1;33m\u001b[0m\u001b[0m\n\u001b[0;32m   2320\u001b[0m                 \u001b[1;34m\"the indexed object do not match).\"\u001b[0m\u001b[1;33m\u001b[0m\u001b[1;33m\u001b[0m\u001b[0m\n",
      "\u001b[1;31mIndexingError\u001b[0m: Unalignable boolean Series provided as indexer (index of the boolean Series and of the indexed object do not match)."
     ]
    }
   ],
   "source": [
    "#######  \n",
    "import seaborn as sns\n",
    "sns.set(style=\"darkgrid\")\n",
    "situacao = df['situacao'].unique()\n",
    "cont = df['situacao'].value_counts()\n",
    "sns.barplot(x=situacao,y=cont,hue=situacao)"
   ]
  },
  {
   "cell_type": "code",
   "execution_count": 55,
   "metadata": {
    "collapsed": true
   },
   "outputs": [
    {
     "data": {
      "text/plain": [
       "FGI                                         1257\n",
       "FDA                                          401\n",
       "Cessão Dir. Credit - Trib e Receitas         214\n",
       "Alienação Fiduciária Imóvel                  134\n",
       "Alienação Fiduciária - Bens Móveis           100\n",
       "Alienação Fiduciaria Veículos                 83\n",
       "Alienação Fiduciária Imóvel Residencial       71\n",
       "Alien Fiduc - RDME                            63\n",
       "FAMPE                                         56\n",
       "SUS - Direito de crédito                      25\n",
       "Cessão Fiduciária - Direitos creditórios      22\n",
       "FGI - Crédito Livre                           21\n",
       "Gar Fidejussória Fiança Bancária              20\n",
       "Hipoteca 1º Grau                              20\n",
       "FGO                                           15\n",
       "Interveniente                                 15\n",
       "CDB - Certificado de Depósito Bancário        11\n",
       "Hipoteca - Outros Graus                       10\n",
       "Alienação Fiduciária Imóveis - Evolutiva       7\n",
       "Hipoteca 1º grau Imov Residencial              7\n",
       "Name: garantia, dtype: int64"
      ]
     },
     "execution_count": 55,
     "metadata": {},
     "output_type": "execute_result"
    }
   ],
   "source": [
    "## Contando variáveis categóricas - garantia \n",
    "df_categ_var['garantia'].value_counts()               "
   ]
  },
  {
   "cell_type": "code",
   "execution_count": 56,
   "metadata": {
    "collapsed": true
   },
   "outputs": [
    {
     "data": {
      "text/plain": [
       "B     1070\n",
       "C      641\n",
       "A      548\n",
       "D      134\n",
       "AA      88\n",
       "E       61\n",
       "H       10\n",
       "Name: rating_cliente, dtype: int64"
      ]
     },
     "execution_count": 56,
     "metadata": {},
     "output_type": "execute_result"
    }
   ],
   "source": [
    "## Contando variáveis categóricas - rating cliente\n",
    "df_categ_var['rating_cliente'].value_counts()"
   ]
  },
  {
   "cell_type": "code",
   "execution_count": 57,
   "metadata": {
    "collapsed": true
   },
   "outputs": [
    {
     "data": {
      "text/plain": [
       "A     781\n",
       "B     762\n",
       "C     643\n",
       "AA    312\n",
       "H      30\n",
       "D      16\n",
       "F       5\n",
       "G       3\n",
       "Name: rating_operacao, dtype: int64"
      ]
     },
     "execution_count": 57,
     "metadata": {},
     "output_type": "execute_result"
    }
   ],
   "source": [
    "## Contando variáveis categóricas - rating operação\n",
    "df_categ_var['rating_operacao'].value_counts()  "
   ]
  },
  {
   "cell_type": "code",
   "execution_count": 58,
   "metadata": {
    "collapsed": true
   },
   "outputs": [
    {
     "data": {
      "text/plain": [
       "B     755\n",
       "A     728\n",
       "C     574\n",
       "AA    336\n",
       "D      47\n",
       "H      42\n",
       "E      36\n",
       "F      28\n",
       "G       6\n",
       "Name: rating_atual, dtype: int64"
      ]
     },
     "execution_count": 58,
     "metadata": {},
     "output_type": "execute_result"
    }
   ],
   "source": [
    "## Contando variáveis categóricas - rating atual\n",
    "df_categ_var['rating_atual'].value_counts()  "
   ]
  },
  {
   "cell_type": "code",
   "execution_count": 59,
   "metadata": {
    "collapsed": true
   },
   "outputs": [
    {
     "data": {
      "text/plain": [
       "PEQUENA         1507\n",
       "MÉDIA            463\n",
       "MICRO            302\n",
       "PF               108\n",
       "MÉDIA-GRANDE     106\n",
       "GRANDE            66\n",
       "Name: porte, dtype: int64"
      ]
     },
     "execution_count": 59,
     "metadata": {},
     "output_type": "execute_result"
    }
   ],
   "source": [
    "## Contando variáveis categóricas - porte\n",
    "df_categ_var['porte'].value_counts()              "
   ]
  },
  {
   "cell_type": "code",
   "execution_count": 60,
   "metadata": {
    "collapsed": true
   },
   "outputs": [
    {
     "data": {
      "text/plain": [
       "SETOR PRIVADO    2340\n",
       "SETOR PÚBLICO     212\n",
       "Name: setor, dtype: int64"
      ]
     },
     "execution_count": 60,
     "metadata": {},
     "output_type": "execute_result"
    }
   ],
   "source": [
    "## Contando variáveis categóricas - setor\n",
    "df_categ_var['setor'].value_counts()               "
   ]
  },
  {
   "cell_type": "code",
   "execution_count": 61,
   "metadata": {
    "collapsed": true
   },
   "outputs": [
    {
     "data": {
      "text/plain": [
       "Região Metropolitana de São Paulo    988\n",
       "RA de Campinas                       475\n",
       "RA de Sorocaba                       162\n",
       "RA de São José do Rio Preto          154\n",
       "RA de Santos                         135\n",
       "RA de Ribeirão Preto                  99\n",
       "RA de São José dos Campos             86\n",
       "OUTRAS                                80\n",
       "RA Central                            74\n",
       "RA de Bauru                           69\n",
       "RA de Marília                         55\n",
       "RA de Araçatuba                       54\n",
       "RA de Presidente Prudente             45\n",
       "RA de Barretos                        32\n",
       "RA de Franca                          31\n",
       "RA de Registro                        13\n",
       "Name: ra, dtype: int64"
      ]
     },
     "execution_count": 61,
     "metadata": {},
     "output_type": "execute_result"
    }
   ],
   "source": [
    "## Contando variáveis categóricas - RA\n",
    "df_categ_var['ra'].value_counts()"
   ]
  },
  {
   "cell_type": "code",
   "execution_count": 62,
   "metadata": {
    "collapsed": true
   },
   "outputs": [
    {
     "data": {
      "text/plain": [
       "CDP                        1239\n",
       "CDR                         304\n",
       "FIP                         164\n",
       "BNDES GIRO                  119\n",
       "INOVACRED                   115\n",
       "PRO CAMINHONEIRO             98\n",
       "LFN                          81\n",
       "LEV                          80\n",
       "VIA SP                       71\n",
       "FINAME                       50\n",
       "AUTOMÁTICO INVESTIMENTO      44\n",
       "LDI                          22\n",
       "BNDES SAÚDE                  21\n",
       "BNDES PANIFICADORAS          20\n",
       "LIE - PRIVADO                15\n",
       "LIT                          15\n",
       "RENEGOCIAÇÃO                 14\n",
       "LRF                          10\n",
       "LVM                          10\n",
       "FUNGETUR                      9\n",
       "BNDES PMAT                    6\n",
       "MPME INOVADORA                6\n",
       "LEM                           6\n",
       "LIP                           5\n",
       "LAM                           5\n",
       "LAL                           4\n",
       "LIE - PÚBLICO                 4\n",
       "LIM                           3\n",
       "BNDES GIRO SAÚDE              3\n",
       "PROAVI                        2\n",
       "LEP                           2\n",
       "BNDES FUNDO CLIMA             1\n",
       "LDA                           1\n",
       "INOVACRED EXPRESSO            1\n",
       "P&G                           1\n",
       "LVR                           1\n",
       "Name: linha_fin, dtype: int64"
      ]
     },
     "execution_count": 62,
     "metadata": {},
     "output_type": "execute_result"
    }
   ],
   "source": [
    "## Contando variáveis categóricas - linha_fin\n",
    "df_categ_var['linha_fin'].value_counts()             "
   ]
  },
  {
   "cell_type": "code",
   "execution_count": 63,
   "metadata": {
    "collapsed": true
   },
   "outputs": [
    {
     "data": {
      "text/plain": [
       "CG    1689\n",
       "PI     496\n",
       "ME     367\n",
       "Name: tipo_a, dtype: int64"
      ]
     },
     "execution_count": 63,
     "metadata": {},
     "output_type": "execute_result"
    }
   ],
   "source": [
    "## Contando variáveis categóricas - tipo_a\n",
    "df_categ_var['tipo_a'].value_counts()       "
   ]
  },
  {
   "cell_type": "code",
   "execution_count": 64,
   "metadata": {
    "collapsed": true
   },
   "outputs": [
    {
     "data": {
      "text/plain": [
       "RT    1732\n",
       "RP     820\n",
       "Name: tipo_b, dtype: int64"
      ]
     },
     "execution_count": 64,
     "metadata": {},
     "output_type": "execute_result"
    }
   ],
   "source": [
    "## Contando variáveis categóricas - tipo_b\n",
    "df_categ_var['tipo_b'].value_counts()            "
   ]
  },
  {
   "cell_type": "code",
   "execution_count": 65,
   "metadata": {
    "collapsed": true
   },
   "outputs": [
    {
     "data": {
      "text/plain": [
       "PRIV    2340\n",
       "PÚBL     212\n",
       "Name: tipo_c, dtype: int64"
      ]
     },
     "execution_count": 65,
     "metadata": {},
     "output_type": "execute_result"
    }
   ],
   "source": [
    "## Contando variáveis categóricas - tipo_c\n",
    "df_categ_var['tipo_c'].value_counts()            "
   ]
  },
  {
   "cell_type": "code",
   "execution_count": 66,
   "metadata": {
    "collapsed": true
   },
   "outputs": [
    {
     "data": {
      "text/plain": [
       "BNDES            1607\n",
       "REC. PRÓPRIOS     820\n",
       "FINEP             116\n",
       "FUNGETUR            9\n",
       "Name: tipo_d, dtype: int64"
      ]
     },
     "execution_count": 66,
     "metadata": {},
     "output_type": "execute_result"
    }
   ],
   "source": [
    "## Contando variáveis categóricas - tipo_d\n",
    "df_categ_var['tipo_d'].value_counts()             "
   ]
  },
  {
   "cell_type": "markdown",
   "metadata": {},
   "source": [
    "RELAÇÃO ENTRE SUTAÇÃO E CATEGÓRICAS "
   ]
  },
  {
   "cell_type": "code",
   "execution_count": null,
   "metadata": {},
   "outputs": [],
   "source": [
    "## Situação x garantia \n",
    "display(df_categ_var.groupby(['situacao','garantia']).size())"
   ]
  },
  {
   "cell_type": "code",
   "execution_count": null,
   "metadata": {},
   "outputs": [],
   "source": [
    "## Situação x  rating cliente \n",
    "display(df_categ_var.groupby(['situacao','rating_cliente']).size())   "
   ]
  },
  {
   "cell_type": "code",
   "execution_count": null,
   "metadata": {},
   "outputs": [],
   "source": [
    "## Situação x  rating_operacao\n",
    "display(df_categ_var.groupby(['situacao', 'rating_operacao']).size())    "
   ]
  },
  {
   "cell_type": "code",
   "execution_count": null,
   "metadata": {},
   "outputs": [],
   "source": [
    "## Situação x  ra\n",
    "display(df_categ_var.groupby(['situacao','ra']).size()"
   ]
  },
  {
   "cell_type": "code",
   "execution_count": null,
   "metadata": {},
   "outputs": [],
   "source": [
    "## Situação x 'porte'\n",
    "display(df_categ_var.groupby(['situacao','porte]).size())"
   ]
  },
  {
   "cell_type": "code",
   "execution_count": null,
   "metadata": {},
   "outputs": [],
   "source": [
    "## Situação x 'setor'\n",
    "display(df_categ_var.groupby(['situacao', 'setor']).size())"
   ]
  },
  {
   "cell_type": "code",
   "execution_count": null,
   "metadata": {},
   "outputs": [],
   "source": [
    "## Situação x  'rating_atual'\n",
    "display(df_categ_var.groupby(['situacao','rating_atual']).size())"
   ]
  },
  {
   "cell_type": "code",
   "execution_count": null,
   "metadata": {},
   "outputs": [],
   "source": [
    "## Situação x  'linha_fin'\n",
    "display(df_categ_var.groupby(['situacao', 'linha_fin']).size())"
   ]
  },
  {
   "cell_type": "code",
   "execution_count": null,
   "metadata": {},
   "outputs": [],
   "source": [
    "## Situação x 'tipo_a'\n",
    "display(df_categ_var.groupby(['situacao','tipo_a']).size())"
   ]
  },
  {
   "cell_type": "code",
   "execution_count": null,
   "metadata": {},
   "outputs": [],
   "source": [
    "## Situação x 'tipo_b'\n",
    "display(df_categ_var.groupby(['situacao','tipo_b']).size()"
   ]
  },
  {
   "cell_type": "code",
   "execution_count": null,
   "metadata": {},
   "outputs": [],
   "source": [
    "## Situação x 'tipo_c' \n",
    "display(df_categ_var.groupby(['situacao','tipo_c']).size())"
   ]
  },
  {
   "cell_type": "code",
   "execution_count": null,
   "metadata": {},
   "outputs": [],
   "source": [
    "## Situação x  'tipo_d'\n",
    "display(df_categ_var.groupby(['situacao','tipo_d']).size())"
   ]
  },
  {
   "cell_type": "markdown",
   "metadata": {},
   "source": [
    "ANALISANDO SOMENTE EMPRESAS TOMADORAS DE FINACIAMENTO PARA PI"
   ]
  },
  {
   "cell_type": "code",
   "execution_count": 82,
   "metadata": {},
   "outputs": [],
   "source": [
    "## Selecionar somente dados tipo.a = PI \n",
    "df_clean_PI = df_clean[df_clean['tipo_a']=='PI']"
   ]
  }
 ],
 "metadata": {
  "kernelspec": {
   "display_name": "Python 3",
   "language": "python",
   "name": "python3"
  },
  "language_info": {
   "codemirror_mode": {
    "name": "ipython",
    "version": 3
   },
   "file_extension": ".py",
   "mimetype": "text/x-python",
   "name": "python",
   "nbconvert_exporter": "python",
   "pygments_lexer": "ipython3",
   "version": "3.7.7"
  }
 },
 "nbformat": 4,
 "nbformat_minor": 4
}
