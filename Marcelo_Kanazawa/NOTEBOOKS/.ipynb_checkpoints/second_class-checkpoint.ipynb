{
 "cells": [
  {
   "cell_type": "code",
   "execution_count": 1,
   "metadata": {},
   "outputs": [],
   "source": [
    "# Importing Pandas with pd alias\n",
    "import pandas as pd"
   ]
  },
  {
   "cell_type": "code",
   "execution_count": 2,
   "metadata": {},
   "outputs": [],
   "source": [
    "# Read csv files from relative path\n",
    "df = pd.read_csv('../DATABASE/base_estudos.csv')"
   ]
  },
  {
   "cell_type": "code",
   "execution_count": 3,
   "metadata": {},
   "outputs": [
    {
     "data": {
      "text/html": [
       "<div>\n",
       "<style scoped>\n",
       "    .dataframe tbody tr th:only-of-type {\n",
       "        vertical-align: middle;\n",
       "    }\n",
       "\n",
       "    .dataframe tbody tr th {\n",
       "        vertical-align: top;\n",
       "    }\n",
       "\n",
       "    .dataframe thead th {\n",
       "        text-align: right;\n",
       "    }\n",
       "</style>\n",
       "<table border=\"1\" class=\"dataframe\">\n",
       "  <thead>\n",
       "    <tr style=\"text-align: right;\">\n",
       "      <th></th>\n",
       "      <th>id_produto</th>\n",
       "      <th>id_contrato</th>\n",
       "      <th>id_cliente</th>\n",
       "      <th>data_entrada</th>\n",
       "      <th>valor_fin</th>\n",
       "      <th>qtde_prest</th>\n",
       "      <th>juros_efet</th>\n",
       "      <th>data_entrada.1</th>\n",
       "      <th>data_final</th>\n",
       "      <th>provisao</th>\n",
       "      <th>...</th>\n",
       "      <th>setor</th>\n",
       "      <th>situacao</th>\n",
       "      <th>rating_atual</th>\n",
       "      <th>linha_fin</th>\n",
       "      <th>tipo_a</th>\n",
       "      <th>tipo_b</th>\n",
       "      <th>tipo_c</th>\n",
       "      <th>tipo_d</th>\n",
       "      <th>garantia</th>\n",
       "      <th>valor_garantia</th>\n",
       "    </tr>\n",
       "  </thead>\n",
       "  <tbody>\n",
       "    <tr>\n",
       "      <th>0</th>\n",
       "      <td>10707</td>\n",
       "      <td>30560012</td>\n",
       "      <td>212806</td>\n",
       "      <td>42349</td>\n",
       "      <td>151605.74</td>\n",
       "      <td>63.0</td>\n",
       "      <td>0.246781</td>\n",
       "      <td>42349</td>\n",
       "      <td>44607</td>\n",
       "      <td>0</td>\n",
       "      <td>...</td>\n",
       "      <td>SETOR PRIVADO</td>\n",
       "      <td>ADIMPLENTE</td>\n",
       "      <td>AA</td>\n",
       "      <td>PRO CAMINHONEIRO</td>\n",
       "      <td>ME</td>\n",
       "      <td>RT</td>\n",
       "      <td>PRIV</td>\n",
       "      <td>BNDES</td>\n",
       "      <td>Alienação Fiduciaria Veículos</td>\n",
       "      <td>245000.0</td>\n",
       "    </tr>\n",
       "    <tr>\n",
       "      <th>1</th>\n",
       "      <td>10707</td>\n",
       "      <td>30450012</td>\n",
       "      <td>212849</td>\n",
       "      <td>42367</td>\n",
       "      <td>133864.13</td>\n",
       "      <td>62.0</td>\n",
       "      <td>0.246802</td>\n",
       "      <td>42367</td>\n",
       "      <td>44607</td>\n",
       "      <td>0</td>\n",
       "      <td>...</td>\n",
       "      <td>SETOR PRIVADO</td>\n",
       "      <td>ADIMPLENTE</td>\n",
       "      <td>AA</td>\n",
       "      <td>PRO CAMINHONEIRO</td>\n",
       "      <td>ME</td>\n",
       "      <td>RT</td>\n",
       "      <td>PRIV</td>\n",
       "      <td>BNDES</td>\n",
       "      <td>Alienação Fiduciaria Veículos</td>\n",
       "      <td>219000.0</td>\n",
       "    </tr>\n",
       "    <tr>\n",
       "      <th>2</th>\n",
       "      <td>10707</td>\n",
       "      <td>31260012</td>\n",
       "      <td>212857</td>\n",
       "      <td>42349</td>\n",
       "      <td>156163.26</td>\n",
       "      <td>65.0</td>\n",
       "      <td>0.246774</td>\n",
       "      <td>42349</td>\n",
       "      <td>44669</td>\n",
       "      <td>45392</td>\n",
       "      <td>...</td>\n",
       "      <td>SETOR PRIVADO</td>\n",
       "      <td>ADIMPLENTE</td>\n",
       "      <td>A</td>\n",
       "      <td>PRO CAMINHONEIRO</td>\n",
       "      <td>ME</td>\n",
       "      <td>RT</td>\n",
       "      <td>PRIV</td>\n",
       "      <td>BNDES</td>\n",
       "      <td>Alienação Fiduciaria Veículos</td>\n",
       "      <td>245000.0</td>\n",
       "    </tr>\n",
       "    <tr>\n",
       "      <th>3</th>\n",
       "      <td>10707</td>\n",
       "      <td>31540015</td>\n",
       "      <td>212903</td>\n",
       "      <td>42349</td>\n",
       "      <td>132834.93</td>\n",
       "      <td>67.0</td>\n",
       "      <td>0.246793</td>\n",
       "      <td>42349</td>\n",
       "      <td>44727</td>\n",
       "      <td>397</td>\n",
       "      <td>...</td>\n",
       "      <td>SETOR PRIVADO</td>\n",
       "      <td>ADIMPLENTE</td>\n",
       "      <td>A</td>\n",
       "      <td>PRO CAMINHONEIRO</td>\n",
       "      <td>ME</td>\n",
       "      <td>RT</td>\n",
       "      <td>PRIV</td>\n",
       "      <td>BNDES</td>\n",
       "      <td>Alienação Fiduciaria Veículos</td>\n",
       "      <td>197000.0</td>\n",
       "    </tr>\n",
       "    <tr>\n",
       "      <th>4</th>\n",
       "      <td>10707</td>\n",
       "      <td>30570018</td>\n",
       "      <td>212911</td>\n",
       "      <td>42349</td>\n",
       "      <td>147130.53</td>\n",
       "      <td>63.0</td>\n",
       "      <td>0.246785</td>\n",
       "      <td>42349</td>\n",
       "      <td>44607</td>\n",
       "      <td>41467</td>\n",
       "      <td>...</td>\n",
       "      <td>SETOR PRIVADO</td>\n",
       "      <td>ADIMPLENTE</td>\n",
       "      <td>A</td>\n",
       "      <td>PRO CAMINHONEIRO</td>\n",
       "      <td>ME</td>\n",
       "      <td>RT</td>\n",
       "      <td>PRIV</td>\n",
       "      <td>BNDES</td>\n",
       "      <td>Alienação Fiduciaria Veículos</td>\n",
       "      <td>268000.0</td>\n",
       "    </tr>\n",
       "    <tr>\n",
       "      <th>5</th>\n",
       "      <td>10707</td>\n",
       "      <td>30620007</td>\n",
       "      <td>227358</td>\n",
       "      <td>41407</td>\n",
       "      <td>145530.15</td>\n",
       "      <td>92.0</td>\n",
       "      <td>0.332929</td>\n",
       "      <td>41407</td>\n",
       "      <td>44270</td>\n",
       "      <td>11334</td>\n",
       "      <td>...</td>\n",
       "      <td>SETOR PRIVADO</td>\n",
       "      <td>ADIMPLENTE</td>\n",
       "      <td>A</td>\n",
       "      <td>PRO CAMINHONEIRO</td>\n",
       "      <td>ME</td>\n",
       "      <td>RT</td>\n",
       "      <td>PRIV</td>\n",
       "      <td>BNDES</td>\n",
       "      <td>Alienação Fiduciaria Veículos</td>\n",
       "      <td>196000.0</td>\n",
       "    </tr>\n",
       "    <tr>\n",
       "      <th>6</th>\n",
       "      <td>10707</td>\n",
       "      <td>30660009</td>\n",
       "      <td>227480</td>\n",
       "      <td>41408</td>\n",
       "      <td>233478.85</td>\n",
       "      <td>92.0</td>\n",
       "      <td>0.333779</td>\n",
       "      <td>41408</td>\n",
       "      <td>44270</td>\n",
       "      <td>0</td>\n",
       "      <td>...</td>\n",
       "      <td>SETOR PRIVADO</td>\n",
       "      <td>ADIMPLENTE</td>\n",
       "      <td>AA</td>\n",
       "      <td>PRO CAMINHONEIRO</td>\n",
       "      <td>ME</td>\n",
       "      <td>RT</td>\n",
       "      <td>PRIV</td>\n",
       "      <td>BNDES</td>\n",
       "      <td>Alienação Fiduciaria Veículos</td>\n",
       "      <td>212000.0</td>\n",
       "    </tr>\n",
       "    <tr>\n",
       "      <th>7</th>\n",
       "      <td>10707</td>\n",
       "      <td>30590019</td>\n",
       "      <td>227501</td>\n",
       "      <td>42367</td>\n",
       "      <td>148756.86</td>\n",
       "      <td>62.0</td>\n",
       "      <td>0.246785</td>\n",
       "      <td>42367</td>\n",
       "      <td>44607</td>\n",
       "      <td>5006094</td>\n",
       "      <td>...</td>\n",
       "      <td>SETOR PRIVADO</td>\n",
       "      <td>INADIMPLENTE</td>\n",
       "      <td>F</td>\n",
       "      <td>PRO CAMINHONEIRO</td>\n",
       "      <td>ME</td>\n",
       "      <td>RT</td>\n",
       "      <td>PRIV</td>\n",
       "      <td>BNDES</td>\n",
       "      <td>Alienação Fiduciaria Veículos</td>\n",
       "      <td>245000.0</td>\n",
       "    </tr>\n",
       "    <tr>\n",
       "      <th>8</th>\n",
       "      <td>10707</td>\n",
       "      <td>30580013</td>\n",
       "      <td>227625</td>\n",
       "      <td>42367</td>\n",
       "      <td>154770.28</td>\n",
       "      <td>62.0</td>\n",
       "      <td>0.246781</td>\n",
       "      <td>42367</td>\n",
       "      <td>44607</td>\n",
       "      <td>44383</td>\n",
       "      <td>...</td>\n",
       "      <td>SETOR PRIVADO</td>\n",
       "      <td>ADIMPLENTE</td>\n",
       "      <td>A</td>\n",
       "      <td>PRO CAMINHONEIRO</td>\n",
       "      <td>ME</td>\n",
       "      <td>RT</td>\n",
       "      <td>PRIV</td>\n",
       "      <td>BNDES</td>\n",
       "      <td>Alienação Fiduciaria Veículos</td>\n",
       "      <td>268000.0</td>\n",
       "    </tr>\n",
       "    <tr>\n",
       "      <th>9</th>\n",
       "      <td>10707</td>\n",
       "      <td>30780012</td>\n",
       "      <td>231550</td>\n",
       "      <td>42517</td>\n",
       "      <td>141682.32</td>\n",
       "      <td>59.0</td>\n",
       "      <td>0.24681</td>\n",
       "      <td>42517</td>\n",
       "      <td>44669</td>\n",
       "      <td>0</td>\n",
       "      <td>...</td>\n",
       "      <td>SETOR PRIVADO</td>\n",
       "      <td>ADIMPLENTE</td>\n",
       "      <td>AA</td>\n",
       "      <td>PRO CAMINHONEIRO</td>\n",
       "      <td>ME</td>\n",
       "      <td>RT</td>\n",
       "      <td>PRIV</td>\n",
       "      <td>BNDES</td>\n",
       "      <td>Alienação Fiduciaria Veículos</td>\n",
       "      <td>247000.0</td>\n",
       "    </tr>\n",
       "  </tbody>\n",
       "</table>\n",
       "<p>10 rows × 25 columns</p>\n",
       "</div>"
      ],
      "text/plain": [
       "   id_produto  id_contrato  id_cliente  data_entrada  valor_fin  qtde_prest  \\\n",
       "0       10707     30560012      212806         42349  151605.74        63.0   \n",
       "1       10707     30450012      212849         42367  133864.13        62.0   \n",
       "2       10707     31260012      212857         42349  156163.26        65.0   \n",
       "3       10707     31540015      212903         42349  132834.93        67.0   \n",
       "4       10707     30570018      212911         42349  147130.53        63.0   \n",
       "5       10707     30620007      227358         41407  145530.15        92.0   \n",
       "6       10707     30660009      227480         41408  233478.85        92.0   \n",
       "7       10707     30590019      227501         42367  148756.86        62.0   \n",
       "8       10707     30580013      227625         42367  154770.28        62.0   \n",
       "9       10707     30780012      231550         42517  141682.32        59.0   \n",
       "\n",
       "  juros_efet  data_entrada.1  data_final  provisao  ...          setor  \\\n",
       "0   0.246781           42349       44607         0  ...  SETOR PRIVADO   \n",
       "1   0.246802           42367       44607         0  ...  SETOR PRIVADO   \n",
       "2   0.246774           42349       44669     45392  ...  SETOR PRIVADO   \n",
       "3   0.246793           42349       44727       397  ...  SETOR PRIVADO   \n",
       "4   0.246785           42349       44607     41467  ...  SETOR PRIVADO   \n",
       "5   0.332929           41407       44270     11334  ...  SETOR PRIVADO   \n",
       "6   0.333779           41408       44270         0  ...  SETOR PRIVADO   \n",
       "7   0.246785           42367       44607   5006094  ...  SETOR PRIVADO   \n",
       "8   0.246781           42367       44607     44383  ...  SETOR PRIVADO   \n",
       "9    0.24681           42517       44669         0  ...  SETOR PRIVADO   \n",
       "\n",
       "       situacao rating_atual         linha_fin tipo_a tipo_b tipo_c tipo_d  \\\n",
       "0    ADIMPLENTE           AA  PRO CAMINHONEIRO     ME     RT   PRIV  BNDES   \n",
       "1    ADIMPLENTE           AA  PRO CAMINHONEIRO     ME     RT   PRIV  BNDES   \n",
       "2    ADIMPLENTE            A  PRO CAMINHONEIRO     ME     RT   PRIV  BNDES   \n",
       "3    ADIMPLENTE            A  PRO CAMINHONEIRO     ME     RT   PRIV  BNDES   \n",
       "4    ADIMPLENTE            A  PRO CAMINHONEIRO     ME     RT   PRIV  BNDES   \n",
       "5    ADIMPLENTE            A  PRO CAMINHONEIRO     ME     RT   PRIV  BNDES   \n",
       "6    ADIMPLENTE           AA  PRO CAMINHONEIRO     ME     RT   PRIV  BNDES   \n",
       "7  INADIMPLENTE            F  PRO CAMINHONEIRO     ME     RT   PRIV  BNDES   \n",
       "8    ADIMPLENTE            A  PRO CAMINHONEIRO     ME     RT   PRIV  BNDES   \n",
       "9    ADIMPLENTE           AA  PRO CAMINHONEIRO     ME     RT   PRIV  BNDES   \n",
       "\n",
       "                        garantia valor_garantia  \n",
       "0  Alienação Fiduciaria Veículos       245000.0  \n",
       "1  Alienação Fiduciaria Veículos       219000.0  \n",
       "2  Alienação Fiduciaria Veículos       245000.0  \n",
       "3  Alienação Fiduciaria Veículos       197000.0  \n",
       "4  Alienação Fiduciaria Veículos       268000.0  \n",
       "5  Alienação Fiduciaria Veículos       196000.0  \n",
       "6  Alienação Fiduciaria Veículos       212000.0  \n",
       "7  Alienação Fiduciaria Veículos       245000.0  \n",
       "8  Alienação Fiduciaria Veículos       268000.0  \n",
       "9  Alienação Fiduciaria Veículos       247000.0  \n",
       "\n",
       "[10 rows x 25 columns]"
      ]
     },
     "metadata": {},
     "output_type": "display_data"
    }
   ],
   "source": [
    "# Display first 10 hypotesis from the dataframe\n",
    "display(df.head(n = 10))\n",
    "# df.tail()"
   ]
  },
  {
   "cell_type": "markdown",
   "metadata": {},
   "source": [
    "### Ver o formato das variáveis"
   ]
  },
  {
   "cell_type": "code",
   "execution_count": 6,
   "metadata": {},
   "outputs": [
    {
     "data": {
      "text/plain": [
       "Index(['id_produto', 'id_contrato', 'id_cliente', 'data_entrada', 'valor_fin',\n",
       "       'qtde_prest', 'juros_efet', 'data_entrada.1', 'data_final', 'provisao',\n",
       "       'fat', 'rating_operacao', 'rating_cliente', 'ra', 'porte', 'setor',\n",
       "       'situacao', 'rating_atual', 'linha_fin', 'tipo_a', 'tipo_b', 'tipo_c',\n",
       "       'tipo_d', 'garantia', 'valor_garantia'],\n",
       "      dtype='object')"
      ]
     },
     "execution_count": 6,
     "metadata": {},
     "output_type": "execute_result"
    }
   ],
   "source": [
    "df.columns"
   ]
  },
  {
   "cell_type": "code",
   "execution_count": 9,
   "metadata": {},
   "outputs": [
    {
     "data": {
      "text/plain": [
       "pandas.core.series.Series"
      ]
     },
     "metadata": {},
     "output_type": "display_data"
    },
    {
     "data": {
      "text/plain": [
       "count    2.552000e+03\n",
       "mean     4.746712e+08\n",
       "std      1.247498e+09\n",
       "min      1.000000e+00\n",
       "25%      2.668803e+06\n",
       "50%      4.176877e+07\n",
       "75%      2.230333e+08\n",
       "max      9.987347e+09\n",
       "Name: fat, dtype: float64"
      ]
     },
     "metadata": {},
     "output_type": "display_data"
    },
    {
     "ename": "AttributeError",
     "evalue": "'Series' object has no attribute 'info'",
     "output_type": "error",
     "traceback": [
      "\u001b[0;31m---------------------------------------------------------------------------\u001b[0m",
      "\u001b[0;31mAttributeError\u001b[0m                            Traceback (most recent call last)",
      "\u001b[0;32m<ipython-input-9-afaa77938d71>\u001b[0m in \u001b[0;36m<module>\u001b[0;34m\u001b[0m\n\u001b[1;32m      2\u001b[0m \u001b[0mdisplay\u001b[0m\u001b[0;34m(\u001b[0m\u001b[0mtype\u001b[0m\u001b[0;34m(\u001b[0m\u001b[0mdata_series\u001b[0m\u001b[0;34m)\u001b[0m\u001b[0;34m)\u001b[0m\u001b[0;34m\u001b[0m\u001b[0;34m\u001b[0m\u001b[0m\n\u001b[1;32m      3\u001b[0m \u001b[0mdisplay\u001b[0m\u001b[0;34m(\u001b[0m\u001b[0mdata_series\u001b[0m\u001b[0;34m.\u001b[0m\u001b[0mdescribe\u001b[0m\u001b[0;34m(\u001b[0m\u001b[0;34m)\u001b[0m\u001b[0;34m)\u001b[0m\u001b[0;34m\u001b[0m\u001b[0;34m\u001b[0m\u001b[0m\n\u001b[0;32m----> 4\u001b[0;31m \u001b[0mdisplay\u001b[0m\u001b[0;34m(\u001b[0m\u001b[0mdata_series\u001b[0m\u001b[0;34m.\u001b[0m\u001b[0minfo\u001b[0m\u001b[0;34m(\u001b[0m\u001b[0mverbose\u001b[0m\u001b[0;34m=\u001b[0m\u001b[0;32mTrue\u001b[0m\u001b[0;34m)\u001b[0m\u001b[0;34m)\u001b[0m\u001b[0;34m\u001b[0m\u001b[0;34m\u001b[0m\u001b[0m\n\u001b[0m",
      "\u001b[0;32m~/anaconda3/lib/python3.7/site-packages/pandas/core/generic.py\u001b[0m in \u001b[0;36m__getattr__\u001b[0;34m(self, name)\u001b[0m\n\u001b[1;32m   5272\u001b[0m             \u001b[0;32mif\u001b[0m \u001b[0mself\u001b[0m\u001b[0;34m.\u001b[0m\u001b[0m_info_axis\u001b[0m\u001b[0;34m.\u001b[0m\u001b[0m_can_hold_identifiers_and_holds_name\u001b[0m\u001b[0;34m(\u001b[0m\u001b[0mname\u001b[0m\u001b[0;34m)\u001b[0m\u001b[0;34m:\u001b[0m\u001b[0;34m\u001b[0m\u001b[0;34m\u001b[0m\u001b[0m\n\u001b[1;32m   5273\u001b[0m                 \u001b[0;32mreturn\u001b[0m \u001b[0mself\u001b[0m\u001b[0;34m[\u001b[0m\u001b[0mname\u001b[0m\u001b[0;34m]\u001b[0m\u001b[0;34m\u001b[0m\u001b[0;34m\u001b[0m\u001b[0m\n\u001b[0;32m-> 5274\u001b[0;31m             \u001b[0;32mreturn\u001b[0m \u001b[0mobject\u001b[0m\u001b[0;34m.\u001b[0m\u001b[0m__getattribute__\u001b[0m\u001b[0;34m(\u001b[0m\u001b[0mself\u001b[0m\u001b[0;34m,\u001b[0m \u001b[0mname\u001b[0m\u001b[0;34m)\u001b[0m\u001b[0;34m\u001b[0m\u001b[0;34m\u001b[0m\u001b[0m\n\u001b[0m\u001b[1;32m   5275\u001b[0m \u001b[0;34m\u001b[0m\u001b[0m\n\u001b[1;32m   5276\u001b[0m     \u001b[0;32mdef\u001b[0m \u001b[0m__setattr__\u001b[0m\u001b[0;34m(\u001b[0m\u001b[0mself\u001b[0m\u001b[0;34m,\u001b[0m \u001b[0mname\u001b[0m\u001b[0;34m:\u001b[0m \u001b[0mstr\u001b[0m\u001b[0;34m,\u001b[0m \u001b[0mvalue\u001b[0m\u001b[0;34m)\u001b[0m \u001b[0;34m->\u001b[0m \u001b[0;32mNone\u001b[0m\u001b[0;34m:\u001b[0m\u001b[0;34m\u001b[0m\u001b[0;34m\u001b[0m\u001b[0m\n",
      "\u001b[0;31mAttributeError\u001b[0m: 'Series' object has no attribute 'info'"
     ]
    }
   ],
   "source": [
    "data_series = df['fat']\n",
    "display(type(data_series))\n",
    "display(data_series.describe())\n",
    "display(data_series.info(verbose=True))"
   ]
  },
  {
   "cell_type": "code",
   "execution_count": 4,
   "metadata": {},
   "outputs": [
    {
     "data": {
      "text/html": [
       "<div>\n",
       "<style scoped>\n",
       "    .dataframe tbody tr th:only-of-type {\n",
       "        vertical-align: middle;\n",
       "    }\n",
       "\n",
       "    .dataframe tbody tr th {\n",
       "        vertical-align: top;\n",
       "    }\n",
       "\n",
       "    .dataframe thead th {\n",
       "        text-align: right;\n",
       "    }\n",
       "</style>\n",
       "<table border=\"1\" class=\"dataframe\">\n",
       "  <thead>\n",
       "    <tr style=\"text-align: right;\">\n",
       "      <th></th>\n",
       "      <th>id_produto</th>\n",
       "      <th>id_contrato</th>\n",
       "      <th>id_cliente</th>\n",
       "      <th>data_entrada</th>\n",
       "      <th>valor_fin</th>\n",
       "      <th>qtde_prest</th>\n",
       "      <th>data_entrada.1</th>\n",
       "      <th>data_final</th>\n",
       "      <th>provisao</th>\n",
       "      <th>fat</th>\n",
       "      <th>valor_garantia</th>\n",
       "    </tr>\n",
       "  </thead>\n",
       "  <tbody>\n",
       "    <tr>\n",
       "      <th>count</th>\n",
       "      <td>2552.000000</td>\n",
       "      <td>2.552000e+03</td>\n",
       "      <td>2.552000e+03</td>\n",
       "      <td>2552.000000</td>\n",
       "      <td>2.552000e+03</td>\n",
       "      <td>2551.000000</td>\n",
       "      <td>2552.000000</td>\n",
       "      <td>2552.000000</td>\n",
       "      <td>2.552000e+03</td>\n",
       "      <td>2.552000e+03</td>\n",
       "      <td>2.537000e+03</td>\n",
       "    </tr>\n",
       "    <tr>\n",
       "      <th>mean</th>\n",
       "      <td>24229.802900</td>\n",
       "      <td>5.845925e+07</td>\n",
       "      <td>9.349917e+05</td>\n",
       "      <td>43245.815439</td>\n",
       "      <td>7.441381e+05</td>\n",
       "      <td>48.000000</td>\n",
       "      <td>43245.815439</td>\n",
       "      <td>44810.891850</td>\n",
       "      <td>2.877312e+06</td>\n",
       "      <td>4.746712e+08</td>\n",
       "      <td>9.501178e+05</td>\n",
       "    </tr>\n",
       "    <tr>\n",
       "      <th>std</th>\n",
       "      <td>7818.714713</td>\n",
       "      <td>1.307111e+07</td>\n",
       "      <td>7.979411e+05</td>\n",
       "      <td>566.332012</td>\n",
       "      <td>2.223146e+06</td>\n",
       "      <td>24.700528</td>\n",
       "      <td>566.332012</td>\n",
       "      <td>654.513266</td>\n",
       "      <td>5.131532e+07</td>\n",
       "      <td>1.247498e+09</td>\n",
       "      <td>4.019448e+06</td>\n",
       "    </tr>\n",
       "    <tr>\n",
       "      <th>min</th>\n",
       "      <td>10707.000000</td>\n",
       "      <td>5.720028e+06</td>\n",
       "      <td>2.480000e+02</td>\n",
       "      <td>41060.000000</td>\n",
       "      <td>8.085800e+02</td>\n",
       "      <td>1.000000</td>\n",
       "      <td>41060.000000</td>\n",
       "      <td>43692.000000</td>\n",
       "      <td>0.000000e+00</td>\n",
       "      <td>1.000000e+00</td>\n",
       "      <td>0.000000e+00</td>\n",
       "    </tr>\n",
       "    <tr>\n",
       "      <th>25%</th>\n",
       "      <td>21806.000000</td>\n",
       "      <td>4.992750e+07</td>\n",
       "      <td>3.581102e+05</td>\n",
       "      <td>43000.000000</td>\n",
       "      <td>5.461489e+04</td>\n",
       "      <td>34.000000</td>\n",
       "      <td>43000.000000</td>\n",
       "      <td>44392.000000</td>\n",
       "      <td>1.238425e+04</td>\n",
       "      <td>2.668803e+06</td>\n",
       "      <td>4.243968e+04</td>\n",
       "    </tr>\n",
       "    <tr>\n",
       "      <th>50%</th>\n",
       "      <td>23701.000000</td>\n",
       "      <td>5.924000e+07</td>\n",
       "      <td>6.271120e+05</td>\n",
       "      <td>43383.000000</td>\n",
       "      <td>1.394400e+05</td>\n",
       "      <td>34.000000</td>\n",
       "      <td>43383.000000</td>\n",
       "      <td>44767.500000</td>\n",
       "      <td>5.444250e+04</td>\n",
       "      <td>4.176877e+07</td>\n",
       "      <td>1.157296e+05</td>\n",
       "    </tr>\n",
       "    <tr>\n",
       "      <th>75%</th>\n",
       "      <td>23710.000000</td>\n",
       "      <td>6.873500e+07</td>\n",
       "      <td>1.305664e+06</td>\n",
       "      <td>43720.000000</td>\n",
       "      <td>3.215124e+05</td>\n",
       "      <td>60.000000</td>\n",
       "      <td>43720.000000</td>\n",
       "      <td>44910.000000</td>\n",
       "      <td>1.976340e+05</td>\n",
       "      <td>2.230333e+08</td>\n",
       "      <td>2.800000e+05</td>\n",
       "    </tr>\n",
       "    <tr>\n",
       "      <th>max</th>\n",
       "      <td>61018.000000</td>\n",
       "      <td>8.189000e+07</td>\n",
       "      <td>2.819058e+06</td>\n",
       "      <td>43861.000000</td>\n",
       "      <td>3.368884e+07</td>\n",
       "      <td>238.000000</td>\n",
       "      <td>43861.000000</td>\n",
       "      <td>47912.000000</td>\n",
       "      <td>2.304914e+09</td>\n",
       "      <td>9.987347e+09</td>\n",
       "      <td>8.917560e+07</td>\n",
       "    </tr>\n",
       "  </tbody>\n",
       "</table>\n",
       "</div>"
      ],
      "text/plain": [
       "         id_produto   id_contrato    id_cliente  data_entrada     valor_fin  \\\n",
       "count   2552.000000  2.552000e+03  2.552000e+03   2552.000000  2.552000e+03   \n",
       "mean   24229.802900  5.845925e+07  9.349917e+05  43245.815439  7.441381e+05   \n",
       "std     7818.714713  1.307111e+07  7.979411e+05    566.332012  2.223146e+06   \n",
       "min    10707.000000  5.720028e+06  2.480000e+02  41060.000000  8.085800e+02   \n",
       "25%    21806.000000  4.992750e+07  3.581102e+05  43000.000000  5.461489e+04   \n",
       "50%    23701.000000  5.924000e+07  6.271120e+05  43383.000000  1.394400e+05   \n",
       "75%    23710.000000  6.873500e+07  1.305664e+06  43720.000000  3.215124e+05   \n",
       "max    61018.000000  8.189000e+07  2.819058e+06  43861.000000  3.368884e+07   \n",
       "\n",
       "        qtde_prest  data_entrada.1    data_final      provisao           fat  \\\n",
       "count  2551.000000     2552.000000   2552.000000  2.552000e+03  2.552000e+03   \n",
       "mean     48.000000    43245.815439  44810.891850  2.877312e+06  4.746712e+08   \n",
       "std      24.700528      566.332012    654.513266  5.131532e+07  1.247498e+09   \n",
       "min       1.000000    41060.000000  43692.000000  0.000000e+00  1.000000e+00   \n",
       "25%      34.000000    43000.000000  44392.000000  1.238425e+04  2.668803e+06   \n",
       "50%      34.000000    43383.000000  44767.500000  5.444250e+04  4.176877e+07   \n",
       "75%      60.000000    43720.000000  44910.000000  1.976340e+05  2.230333e+08   \n",
       "max     238.000000    43861.000000  47912.000000  2.304914e+09  9.987347e+09   \n",
       "\n",
       "       valor_garantia  \n",
       "count    2.537000e+03  \n",
       "mean     9.501178e+05  \n",
       "std      4.019448e+06  \n",
       "min      0.000000e+00  \n",
       "25%      4.243968e+04  \n",
       "50%      1.157296e+05  \n",
       "75%      2.800000e+05  \n",
       "max      8.917560e+07  "
      ]
     },
     "execution_count": 4,
     "metadata": {},
     "output_type": "execute_result"
    }
   ],
   "source": [
    "df.describe()"
   ]
  },
  {
   "cell_type": "code",
   "execution_count": 5,
   "metadata": {},
   "outputs": [
    {
     "name": "stdout",
     "output_type": "stream",
     "text": [
      "<class 'pandas.core.frame.DataFrame'>\n",
      "RangeIndex: 2552 entries, 0 to 2551\n",
      "Data columns (total 25 columns):\n",
      " #   Column           Non-Null Count  Dtype  \n",
      "---  ------           --------------  -----  \n",
      " 0   id_produto       2552 non-null   int64  \n",
      " 1   id_contrato      2552 non-null   int64  \n",
      " 2   id_cliente       2552 non-null   int64  \n",
      " 3   data_entrada     2552 non-null   int64  \n",
      " 4   valor_fin        2552 non-null   float64\n",
      " 5   qtde_prest       2551 non-null   float64\n",
      " 6   juros_efet       2552 non-null   object \n",
      " 7   data_entrada.1   2552 non-null   int64  \n",
      " 8   data_final       2552 non-null   int64  \n",
      " 9   provisao         2552 non-null   int64  \n",
      " 10  fat              2552 non-null   int64  \n",
      " 11  rating_operacao  2552 non-null   object \n",
      " 12  rating_cliente   2552 non-null   object \n",
      " 13  ra               2552 non-null   object \n",
      " 14  porte            2552 non-null   object \n",
      " 15  setor            2552 non-null   object \n",
      " 16  situacao         2552 non-null   object \n",
      " 17  rating_atual     2552 non-null   object \n",
      " 18  linha_fin        2552 non-null   object \n",
      " 19  tipo_a           2552 non-null   object \n",
      " 20  tipo_b           2552 non-null   object \n",
      " 21  tipo_c           2552 non-null   object \n",
      " 22  tipo_d           2552 non-null   object \n",
      " 23  garantia         2552 non-null   object \n",
      " 24  valor_garantia   2537 non-null   float64\n",
      "dtypes: float64(3), int64(8), object(14)\n",
      "memory usage: 498.6+ KB\n"
     ]
    }
   ],
   "source": [
    "df.info(verbose=True)"
   ]
  },
  {
   "cell_type": "code",
   "execution_count": 10,
   "metadata": {},
   "outputs": [
    {
     "data": {
      "text/plain": [
       "dtype('int64')"
      ]
     },
     "execution_count": 10,
     "metadata": {},
     "output_type": "execute_result"
    }
   ],
   "source": [
    "data_series.dtype"
   ]
  },
  {
   "cell_type": "code",
   "execution_count": 11,
   "metadata": {},
   "outputs": [
    {
     "data": {
      "text/plain": [
       "Index(['id_produto', 'id_contrato', 'id_cliente', 'data_entrada', 'valor_fin',\n",
       "       'qtde_prest', 'juros_efet', 'data_entrada.1', 'data_final', 'provisao',\n",
       "       'fat', 'rating_operacao', 'rating_cliente', 'ra', 'porte', 'setor',\n",
       "       'situacao', 'rating_atual', 'linha_fin', 'tipo_a', 'tipo_b', 'tipo_c',\n",
       "       'tipo_d', 'garantia', 'valor_garantia'],\n",
       "      dtype='object')"
      ]
     },
     "execution_count": 11,
     "metadata": {},
     "output_type": "execute_result"
    }
   ],
   "source": [
    "df.columns"
   ]
  },
  {
   "cell_type": "code",
   "execution_count": 16,
   "metadata": {},
   "outputs": [
    {
     "data": {
      "text/plain": [
       "0            PF\n",
       "1            PF\n",
       "2            PF\n",
       "3            PF\n",
       "4            PF\n",
       "         ...   \n",
       "2547      MICRO\n",
       "2548      MICRO\n",
       "2549      MÉDIA\n",
       "2550      MICRO\n",
       "2551    PEQUENA\n",
       "Name: porte, Length: 2552, dtype: object"
      ]
     },
     "metadata": {},
     "output_type": "display_data"
    }
   ],
   "source": [
    "porte = df['porte']\n",
    "display(porte)"
   ]
  },
  {
   "cell_type": "code",
   "execution_count": 15,
   "metadata": {},
   "outputs": [
    {
     "data": {
      "text/plain": [
       "0                            RA de Santos\n",
       "1                            RA de Santos\n",
       "2                            RA de Santos\n",
       "3                            RA de Santos\n",
       "4                            RA de Santos\n",
       "                      ...                \n",
       "2547    Região Metropolitana de São Paulo\n",
       "2548                       RA de Campinas\n",
       "2549                       RA de Campinas\n",
       "2550    Região Metropolitana de São Paulo\n",
       "2551            RA de Presidente Prudente\n",
       "Name: ra, Length: 2552, dtype: object"
      ]
     },
     "metadata": {},
     "output_type": "display_data"
    }
   ],
   "source": [
    "ra = df['ra']\n",
    "display(ra)"
   ]
  },
  {
   "cell_type": "markdown",
   "metadata": {},
   "source": [
    "---\n",
    "### Criar variáveis novas, calculadas a partir de outras variáveis"
   ]
  },
  {
   "cell_type": "markdown",
   "metadata": {},
   "source": [
    "#### Calculando a coluna razão faturamento"
   ]
  },
  {
   "cell_type": "code",
   "execution_count": 17,
   "metadata": {},
   "outputs": [],
   "source": [
    "df['razao_faturamento'] = df['valor_fin']/df['fat']"
   ]
  },
  {
   "cell_type": "code",
   "execution_count": 20,
   "metadata": {},
   "outputs": [
    {
     "data": {
      "text/plain": [
       "0           20.265438\n",
       "1           20.651671\n",
       "2            0.162606\n",
       "3            0.132070\n",
       "4            0.180865\n",
       "            ...      \n",
       "2547    560763.830000\n",
       "2548     53194.040000\n",
       "2549         0.005888\n",
       "2550    182281.790000\n",
       "2551         0.000760\n",
       "Name: razao_faturamento, Length: 2552, dtype: float64"
      ]
     },
     "metadata": {},
     "output_type": "display_data"
    }
   ],
   "source": [
    "#display(df.head(n=2))\n",
    "display(df['razao_faturamento'])"
   ]
  },
  {
   "cell_type": "code",
   "execution_count": 37,
   "metadata": {},
   "outputs": [],
   "source": [
    "nanvalues = list(df['razao_faturamento'].isna())"
   ]
  },
  {
   "cell_type": "code",
   "execution_count": 41,
   "metadata": {},
   "outputs": [
    {
     "data": {
      "text/plain": [
       "id_produto            0\n",
       "id_contrato           0\n",
       "id_cliente            0\n",
       "data_entrada          0\n",
       "valor_fin             0\n",
       "qtde_prest            1\n",
       "juros_efet            0\n",
       "data_entrada.1        0\n",
       "data_final            0\n",
       "provisao              0\n",
       "fat                   0\n",
       "rating_operacao       0\n",
       "rating_cliente        0\n",
       "ra                    0\n",
       "porte                 0\n",
       "setor                 0\n",
       "situacao              0\n",
       "rating_atual          0\n",
       "linha_fin             0\n",
       "tipo_a                0\n",
       "tipo_b                0\n",
       "tipo_c                0\n",
       "tipo_d                0\n",
       "garantia              0\n",
       "valor_garantia       15\n",
       "razao_faturamento     0\n",
       "dtype: int64"
      ]
     },
     "execution_count": 41,
     "metadata": {},
     "output_type": "execute_result"
    }
   ],
   "source": [
    "df.isna().sum()"
   ]
  },
  {
   "cell_type": "code",
   "execution_count": 42,
   "metadata": {},
   "outputs": [
    {
     "data": {
      "text/plain": [
       "id_produto            0\n",
       "id_contrato           0\n",
       "id_cliente            0\n",
       "data_entrada          0\n",
       "valor_fin             0\n",
       "qtde_prest            1\n",
       "juros_efet            0\n",
       "data_entrada.1        0\n",
       "data_final            0\n",
       "provisao              0\n",
       "fat                   0\n",
       "rating_operacao       0\n",
       "rating_cliente        0\n",
       "ra                    0\n",
       "porte                 0\n",
       "setor                 0\n",
       "situacao              0\n",
       "rating_atual          0\n",
       "linha_fin             0\n",
       "tipo_a                0\n",
       "tipo_b                0\n",
       "tipo_c                0\n",
       "tipo_d                0\n",
       "garantia              0\n",
       "valor_garantia       15\n",
       "razao_faturamento     0\n",
       "dtype: int64"
      ]
     },
     "execution_count": 42,
     "metadata": {},
     "output_type": "execute_result"
    }
   ],
   "source": [
    "df.isnull().sum()"
   ]
  },
  {
   "cell_type": "code",
   "execution_count": 43,
   "metadata": {},
   "outputs": [],
   "source": [
    "import numpy as np\n",
    "df['fat_log'] = np.log(df['fat'])"
   ]
  },
  {
   "cell_type": "code",
   "execution_count": 44,
   "metadata": {},
   "outputs": [
    {
     "data": {
      "text/plain": [
       "0        8.920122\n",
       "1        8.776784\n",
       "2       13.775082\n",
       "3       13.821289\n",
       "4       13.609080\n",
       "          ...    \n",
       "2547     0.000000\n",
       "2548     0.000000\n",
       "2549    20.517598\n",
       "2550     0.000000\n",
       "2551    18.249312\n",
       "Name: fat_log, Length: 2552, dtype: float64"
      ]
     },
     "execution_count": 44,
     "metadata": {},
     "output_type": "execute_result"
    }
   ],
   "source": [
    "df['fat_log']"
   ]
  },
  {
   "cell_type": "code",
   "execution_count": 65,
   "metadata": {},
   "outputs": [],
   "source": [
    "tipos_de_dados = df.dtypes"
   ]
  },
  {
   "cell_type": "code",
   "execution_count": 72,
   "metadata": {},
   "outputs": [],
   "source": [
    "index = tipos_de_dados.index\n",
    "values = tipos_de_dados.values"
   ]
  },
  {
   "cell_type": "code",
   "execution_count": 70,
   "metadata": {},
   "outputs": [
    {
     "data": {
      "text/plain": [
       "array([dtype('int64'), dtype('int64'), dtype('int64'), dtype('int64'),\n",
       "       dtype('float64'), dtype('float64'), dtype('O'), dtype('int64'),\n",
       "       dtype('int64'), dtype('int64'), dtype('int64'), dtype('O'),\n",
       "       dtype('O'), dtype('O'), dtype('O'), dtype('O'), dtype('O'),\n",
       "       dtype('O'), dtype('O'), dtype('O'), dtype('O'), dtype('O'),\n",
       "       dtype('O'), dtype('O'), dtype('float64'), dtype('float64'),\n",
       "       dtype('float64')], dtype=object)"
      ]
     },
     "execution_count": 70,
     "metadata": {},
     "output_type": "execute_result"
    }
   ],
   "source": [
    "tipos_de_dados.values"
   ]
  },
  {
   "cell_type": "code",
   "execution_count": null,
   "metadata": {},
   "outputs": [],
   "source": [
    "# Automação homework"
   ]
  },
  {
   "cell_type": "code",
   "execution_count": null,
   "metadata": {},
   "outputs": [],
   "source": [
    "for item in index:\n",
    "    if tipos_de_dados.index == 'int64' or 'float64':\n",
    "        quantitative_columns.append(tipos_de_dados.index) "
   ]
  },
  {
   "cell_type": "code",
   "execution_count": 73,
   "metadata": {},
   "outputs": [
    {
     "data": {
      "text/plain": [
       "Index(['id_produto', 'id_contrato', 'id_cliente', 'data_entrada', 'valor_fin',\n",
       "       'qtde_prest', 'juros_efet', 'data_entrada.1', 'data_final', 'provisao',\n",
       "       'fat', 'rating_operacao', 'rating_cliente', 'ra', 'porte', 'setor',\n",
       "       'situacao', 'rating_atual', 'linha_fin', 'tipo_a', 'tipo_b', 'tipo_c',\n",
       "       'tipo_d', 'garantia', 'valor_garantia', 'razao_faturamento', 'fat_log'],\n",
       "      dtype='object')"
      ]
     },
     "execution_count": 73,
     "metadata": {},
     "output_type": "execute_result"
    }
   ],
   "source": [
    "df.columns"
   ]
  },
  {
   "cell_type": "code",
   "execution_count": null,
   "metadata": {},
   "outputs": [],
   "source": [
    "df_qualitative = df[df[]]"
   ]
  },
  {
   "cell_type": "raw",
   "metadata": {},
   "source": [
    "if condição:\n",
    "    pass\n",
    "elif condição2:\n",
    "    pass\n",
    "else:"
   ]
  },
  {
   "cell_type": "code",
   "execution_count": 78,
   "metadata": {},
   "outputs": [
    {
     "name": "stdout",
     "output_type": "stream",
     "text": [
      "quantitativa\n",
      "quantitativa\n",
      "quantitativa\n",
      "quantitativa\n",
      "quantitativa\n",
      "quantitativa\n",
      "qualitativa\n",
      "quantitativa\n",
      "quantitativa\n",
      "quantitativa\n",
      "quantitativa\n",
      "qualitativa\n",
      "qualitativa\n",
      "qualitativa\n",
      "qualitativa\n",
      "qualitativa\n",
      "qualitativa\n",
      "qualitativa\n",
      "qualitativa\n",
      "qualitativa\n",
      "qualitativa\n",
      "qualitativa\n",
      "qualitativa\n",
      "qualitativa\n",
      "quantitativa\n",
      "quantitativa\n",
      "quantitativa\n"
     ]
    }
   ],
   "source": [
    "values = tipos_de_dados.values\n",
    "for item in values:\n",
    "    if item == 'int64' or item =='float64':\n",
    "        print('quantitativa')\n",
    "    else:\n",
    "        print('qualitativa')"
   ]
  },
  {
   "cell_type": "raw",
   "metadata": {},
   "source": [
    "d deleta linha\n",
    "b cria linha abaixo\n",
    "a cria linha acima\n",
    "m transforma celula em markdown\n",
    "r transforma celula em raw text"
   ]
  },
  {
   "cell_type": "code",
   "execution_count": 80,
   "metadata": {},
   "outputs": [],
   "source": [
    "df_quant = df[['valor_fin', 'qtde_prest', 'juros_efet', 'provisao', 'fat', 'valor_garantia']]\n",
    "df_qual = df[['rating_operacao', 'rating_cliente', 'ra', 'porte', 'setor','situacao', 'rating_atual', 'linha_fin', 'tipo_a', 'tipo_b', 'tipo_c', 'tipo_d', 'garantia']]"
   ]
  },
  {
   "cell_type": "code",
   "execution_count": 82,
   "metadata": {},
   "outputs": [
    {
     "data": {
      "image/png": "[encoded data removed]",
      "text/plain": [
       "<Figure size 900x900 with 30 Axes>"
      ]
     },
     "metadata": {
      "needs_background": "light"
     },
     "output_type": "display_data"
    }
   ],
   "source": [
    "import seaborn as sns\n",
    "_=sns.pairplot(df_quant)"
   ]
  },
  {
   "cell_type": "code",
   "execution_count": 83,
   "metadata": {},
   "outputs": [
    {
     "data": {
      "text/html": [
       "<div>\n",
       "<style scoped>\n",
       "    .dataframe tbody tr th:only-of-type {\n",
       "        vertical-align: middle;\n",
       "    }\n",
       "\n",
       "    .dataframe tbody tr th {\n",
       "        vertical-align: top;\n",
       "    }\n",
       "\n",
       "    .dataframe thead th {\n",
       "        text-align: right;\n",
       "    }\n",
       "</style>\n",
       "<table border=\"1\" class=\"dataframe\">\n",
       "  <thead>\n",
       "    <tr style=\"text-align: right;\">\n",
       "      <th></th>\n",
       "      <th>valor_fin</th>\n",
       "      <th>qtde_prest</th>\n",
       "      <th>provisao</th>\n",
       "      <th>fat</th>\n",
       "      <th>valor_garantia</th>\n",
       "    </tr>\n",
       "  </thead>\n",
       "  <tbody>\n",
       "    <tr>\n",
       "      <th>valor_fin</th>\n",
       "      <td>1.000000</td>\n",
       "      <td>0.390673</td>\n",
       "      <td>0.349627</td>\n",
       "      <td>0.320464</td>\n",
       "      <td>0.629334</td>\n",
       "    </tr>\n",
       "    <tr>\n",
       "      <th>qtde_prest</th>\n",
       "      <td>0.390673</td>\n",
       "      <td>1.000000</td>\n",
       "      <td>0.098115</td>\n",
       "      <td>0.232737</td>\n",
       "      <td>0.268674</td>\n",
       "    </tr>\n",
       "    <tr>\n",
       "      <th>provisao</th>\n",
       "      <td>0.349627</td>\n",
       "      <td>0.098115</td>\n",
       "      <td>1.000000</td>\n",
       "      <td>0.005036</td>\n",
       "      <td>0.073403</td>\n",
       "    </tr>\n",
       "    <tr>\n",
       "      <th>fat</th>\n",
       "      <td>0.320464</td>\n",
       "      <td>0.232737</td>\n",
       "      <td>0.005036</td>\n",
       "      <td>1.000000</td>\n",
       "      <td>0.240369</td>\n",
       "    </tr>\n",
       "    <tr>\n",
       "      <th>valor_garantia</th>\n",
       "      <td>0.629334</td>\n",
       "      <td>0.268674</td>\n",
       "      <td>0.073403</td>\n",
       "      <td>0.240369</td>\n",
       "      <td>1.000000</td>\n",
       "    </tr>\n",
       "  </tbody>\n",
       "</table>\n",
       "</div>"
      ],
      "text/plain": [
       "                valor_fin  qtde_prest  provisao       fat  valor_garantia\n",
       "valor_fin        1.000000    0.390673  0.349627  0.320464        0.629334\n",
       "qtde_prest       0.390673    1.000000  0.098115  0.232737        0.268674\n",
       "provisao         0.349627    0.098115  1.000000  0.005036        0.073403\n",
       "fat              0.320464    0.232737  0.005036  1.000000        0.240369\n",
       "valor_garantia   0.629334    0.268674  0.073403  0.240369        1.000000"
      ]
     },
     "execution_count": 83,
     "metadata": {},
     "output_type": "execute_result"
    }
   ],
   "source": [
    "df_quant.corr()"
   ]
  },
  {
   "cell_type": "code",
   "execution_count": 85,
   "metadata": {},
   "outputs": [
    {
     "ename": "TypeError",
     "evalue": "ufunc 'isnan' not supported for the input types, and the inputs could not be safely coerced to any supported types according to the casting rule ''safe''",
     "output_type": "error",
     "traceback": [
      "\u001b[0;31m---------------------------------------------------------------------------\u001b[0m",
      "\u001b[0;31mTypeError\u001b[0m                                 Traceback (most recent call last)",
      "\u001b[0;32m<ipython-input-85-85028ec968c6>\u001b[0m in \u001b[0;36m<module>\u001b[0;34m\u001b[0m\n\u001b[0;32m----> 1\u001b[0;31m \u001b[0m_\u001b[0m\u001b[0;34m=\u001b[0m \u001b[0msns\u001b[0m\u001b[0;34m.\u001b[0m\u001b[0mheatmap\u001b[0m\u001b[0;34m(\u001b[0m\u001b[0mdf_quant\u001b[0m\u001b[0;34m)\u001b[0m\u001b[0;34m\u001b[0m\u001b[0;34m\u001b[0m\u001b[0m\n\u001b[0m",
      "\u001b[0;32m~/anaconda3/lib/python3.7/site-packages/seaborn/matrix.py\u001b[0m in \u001b[0;36mheatmap\u001b[0;34m(data, vmin, vmax, cmap, center, robust, annot, fmt, annot_kws, linewidths, linecolor, cbar, cbar_kws, cbar_ax, square, xticklabels, yticklabels, mask, ax, **kwargs)\u001b[0m\n\u001b[1;32m    510\u001b[0m     plotter = _HeatMapper(data, vmin, vmax, cmap, center, robust, annot, fmt,\n\u001b[1;32m    511\u001b[0m                           \u001b[0mannot_kws\u001b[0m\u001b[0;34m,\u001b[0m \u001b[0mcbar\u001b[0m\u001b[0;34m,\u001b[0m \u001b[0mcbar_kws\u001b[0m\u001b[0;34m,\u001b[0m \u001b[0mxticklabels\u001b[0m\u001b[0;34m,\u001b[0m\u001b[0;34m\u001b[0m\u001b[0;34m\u001b[0m\u001b[0m\n\u001b[0;32m--> 512\u001b[0;31m                           yticklabels, mask)\n\u001b[0m\u001b[1;32m    513\u001b[0m \u001b[0;34m\u001b[0m\u001b[0m\n\u001b[1;32m    514\u001b[0m     \u001b[0;31m# Add the pcolormesh kwargs here\u001b[0m\u001b[0;34m\u001b[0m\u001b[0;34m\u001b[0m\u001b[0;34m\u001b[0m\u001b[0m\n",
      "\u001b[0;32m~/anaconda3/lib/python3.7/site-packages/seaborn/matrix.py\u001b[0m in \u001b[0;36m__init__\u001b[0;34m(self, data, vmin, vmax, cmap, center, robust, annot, fmt, annot_kws, cbar, cbar_kws, xticklabels, yticklabels, mask)\u001b[0m\n\u001b[1;32m    164\u001b[0m         \u001b[0;31m# Determine good default values for the colormapping\u001b[0m\u001b[0;34m\u001b[0m\u001b[0;34m\u001b[0m\u001b[0;34m\u001b[0m\u001b[0m\n\u001b[1;32m    165\u001b[0m         self._determine_cmap_params(plot_data, vmin, vmax,\n\u001b[0;32m--> 166\u001b[0;31m                                     cmap, center, robust)\n\u001b[0m\u001b[1;32m    167\u001b[0m \u001b[0;34m\u001b[0m\u001b[0m\n\u001b[1;32m    168\u001b[0m         \u001b[0;31m# Sort out the annotations\u001b[0m\u001b[0;34m\u001b[0m\u001b[0;34m\u001b[0m\u001b[0;34m\u001b[0m\u001b[0m\n",
      "\u001b[0;32m~/anaconda3/lib/python3.7/site-packages/seaborn/matrix.py\u001b[0m in \u001b[0;36m_determine_cmap_params\u001b[0;34m(self, plot_data, vmin, vmax, cmap, center, robust)\u001b[0m\n\u001b[1;32m    195\u001b[0m                                cmap, center, robust):\n\u001b[1;32m    196\u001b[0m         \u001b[0;34m\"\"\"Use some heuristics to set good defaults for colorbar and range.\"\"\"\u001b[0m\u001b[0;34m\u001b[0m\u001b[0;34m\u001b[0m\u001b[0m\n\u001b[0;32m--> 197\u001b[0;31m         \u001b[0mcalc_data\u001b[0m \u001b[0;34m=\u001b[0m \u001b[0mplot_data\u001b[0m\u001b[0;34m.\u001b[0m\u001b[0mdata\u001b[0m\u001b[0;34m[\u001b[0m\u001b[0;34m~\u001b[0m\u001b[0mnp\u001b[0m\u001b[0;34m.\u001b[0m\u001b[0misnan\u001b[0m\u001b[0;34m(\u001b[0m\u001b[0mplot_data\u001b[0m\u001b[0;34m.\u001b[0m\u001b[0mdata\u001b[0m\u001b[0;34m)\u001b[0m\u001b[0;34m]\u001b[0m\u001b[0;34m\u001b[0m\u001b[0;34m\u001b[0m\u001b[0m\n\u001b[0m\u001b[1;32m    198\u001b[0m         \u001b[0;32mif\u001b[0m \u001b[0mvmin\u001b[0m \u001b[0;32mis\u001b[0m \u001b[0;32mNone\u001b[0m\u001b[0;34m:\u001b[0m\u001b[0;34m\u001b[0m\u001b[0;34m\u001b[0m\u001b[0m\n\u001b[1;32m    199\u001b[0m             \u001b[0mvmin\u001b[0m \u001b[0;34m=\u001b[0m \u001b[0mnp\u001b[0m\u001b[0;34m.\u001b[0m\u001b[0mpercentile\u001b[0m\u001b[0;34m(\u001b[0m\u001b[0mcalc_data\u001b[0m\u001b[0;34m,\u001b[0m \u001b[0;36m2\u001b[0m\u001b[0;34m)\u001b[0m \u001b[0;32mif\u001b[0m \u001b[0mrobust\u001b[0m \u001b[0;32melse\u001b[0m \u001b[0mcalc_data\u001b[0m\u001b[0;34m.\u001b[0m\u001b[0mmin\u001b[0m\u001b[0;34m(\u001b[0m\u001b[0;34m)\u001b[0m\u001b[0;34m\u001b[0m\u001b[0;34m\u001b[0m\u001b[0m\n",
      "\u001b[0;31mTypeError\u001b[0m: ufunc 'isnan' not supported for the input types, and the inputs could not be safely coerced to any supported types according to the casting rule ''safe''"
     ]
    }
   ],
   "source": [
    "_= sns.heatmap(df_quant)"
   ]
  },
  {
   "cell_type": "code",
   "execution_count": 89,
   "metadata": {},
   "outputs": [
    {
     "data": {
      "text/plain": [
       "situacao      garantia                                \n",
       "ADIMPLENTE    Alien Fiduc - RDME                            63\n",
       "              Alienação Fiduciaria Veículos                 79\n",
       "              Alienação Fiduciária - Bens Móveis            96\n",
       "              Alienação Fiduciária Imóveis - Evolutiva       7\n",
       "              Alienação Fiduciária Imóvel                  133\n",
       "              Alienação Fiduciária Imóvel Residencial       71\n",
       "              CDB - Certificado de Depósito Bancário        11\n",
       "              Cessão Dir. Credit - Trib e Receitas         214\n",
       "              Cessão Fiduciária - Direitos creditórios      22\n",
       "              FAMPE                                         54\n",
       "              FDA                                          397\n",
       "              FGI                                         1242\n",
       "              FGI - Crédito Livre                           21\n",
       "              FGO                                           15\n",
       "              Gar Fidejussória Fiança Bancária              20\n",
       "              Hipoteca - Outros Graus                       10\n",
       "              Hipoteca 1º Grau                              20\n",
       "              Hipoteca 1º grau Imov Residencial              7\n",
       "              Interveniente                                  8\n",
       "              SUS - Direito de crédito                      24\n",
       "INADIMPLENTE  Alienação Fiduciaria Veículos                  4\n",
       "              Alienação Fiduciária - Bens Móveis             4\n",
       "              Alienação Fiduciária Imóvel                    1\n",
       "              FAMPE                                          2\n",
       "              FDA                                            4\n",
       "              FGI                                           15\n",
       "              Interveniente                                  7\n",
       "              SUS - Direito de crédito                       1\n",
       "dtype: int64"
      ]
     },
     "metadata": {},
     "output_type": "display_data"
    }
   ],
   "source": [
    "display(df.groupby(['situacao','garantia']).size())"
   ]
  },
  {
   "cell_type": "code",
   "execution_count": null,
   "metadata": {},
   "outputs": [],
   "source": [
    "class EDA:\n",
    "    def tratar_dados(input_1,input_2):\n",
    "        pass\n",
    "        return p"
   ]
  },
  {
   "cell_type": "code",
   "execution_count": 91,
   "metadata": {},
   "outputs": [
    {
     "ename": "AttributeError",
     "evalue": "'str' object has no attribute 'isna'",
     "output_type": "error",
     "traceback": [
      "\u001b[0;31m---------------------------------------------------------------------------\u001b[0m",
      "\u001b[0;31mAttributeError\u001b[0m                            Traceback (most recent call last)",
      "\u001b[0;32m<ipython-input-91-013343a9f06b>\u001b[0m in \u001b[0;36m<module>\u001b[0;34m\u001b[0m\n\u001b[0;32m----> 1\u001b[0;31m \u001b[0mx\u001b[0m \u001b[0;34m=\u001b[0m \u001b[0;34m'casa'\u001b[0m\u001b[0;34m.\u001b[0m\u001b[0misna\u001b[0m\u001b[0;34m(\u001b[0m\u001b[0;34m)\u001b[0m\u001b[0;34m\u001b[0m\u001b[0;34m\u001b[0m\u001b[0m\n\u001b[0m",
      "\u001b[0;31mAttributeError\u001b[0m: 'str' object has no attribute 'isna'"
     ]
    }
   ],
   "source": [
    "x = 'casa'.isna()"
   ]
  },
  {
   "cell_type": "code",
   "execution_count": null,
   "metadata": {},
   "outputs": [],
   "source": []
  }
 ],
 "metadata": {
  "kernelspec": {
   "display_name": "Python 3",
   "language": "python",
   "name": "python3"
  },
  "language_info": {
   "codemirror_mode": {
    "name": "ipython",
    "version": 3
   },
   "file_extension": ".py",
   "mimetype": "text/x-python",
   "name": "python",
   "nbconvert_exporter": "python",
   "pygments_lexer": "ipython3",
   "version": "3.7.7"
  }
 },
 "nbformat": 4,
 "nbformat_minor": 4
}
