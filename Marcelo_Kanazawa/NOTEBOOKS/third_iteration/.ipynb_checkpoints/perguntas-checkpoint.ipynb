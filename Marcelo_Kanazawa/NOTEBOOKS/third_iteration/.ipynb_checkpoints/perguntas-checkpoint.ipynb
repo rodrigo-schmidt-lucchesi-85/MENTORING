{
 "cells": [
  {
   "cell_type": "markdown",
   "metadata": {
    "ExecuteTime": {
     "end_time": "2020-07-01T22:18:40.156356Z",
     "start_time": "2020-07-01T22:18:40.151111Z"
    }
   },
   "source": [
    "# Relatório"
   ]
  },
  {
   "cell_type": "code",
   "execution_count": 1,
   "metadata": {
    "ExecuteTime": {
     "end_time": "2020-07-01T22:14:33.144237Z",
     "start_time": "2020-07-01T22:14:32.392460Z"
    }
   },
   "outputs": [],
   "source": [
    "import pandas as pd\n",
    "import numpy as np \n",
    "import matplotlib.pyplot as plt \n",
    "import seaborn as sns  \n",
    "import datetime as dt\n",
    "%config InlineBackend.figure_format ='retina'"
   ]
  },
  {
   "cell_type": "code",
   "execution_count": 2,
   "metadata": {
    "ExecuteTime": {
     "end_time": "2020-07-01T22:14:33.177632Z",
     "start_time": "2020-07-01T22:14:33.160625Z"
    }
   },
   "outputs": [],
   "source": [
    "data = pd.read_csv('../../DATABASE/base_estudos.csv') "
   ]
  },
  {
   "cell_type": "code",
   "execution_count": 3,
   "metadata": {
    "ExecuteTime": {
     "end_time": "2020-07-01T22:14:33.306509Z",
     "start_time": "2020-07-01T22:14:33.296099Z"
    }
   },
   "outputs": [],
   "source": [
    "data['data_entrada'] = pd.TimedeltaIndex(data['data_entrada'], unit='d') + dt.datetime(1900,1,1)\n",
    "data['data_final'] = pd.TimedeltaIndex(data['data_final'], unit='d') + dt.datetime(1900,1,1)\n",
    "data = data.drop(['id_cliente',  'id_contrato', 'id_produto','data_entrada.1', ], axis=1)"
   ]
  },
  {
   "cell_type": "code",
   "execution_count": 4,
   "metadata": {
    "ExecuteTime": {
     "end_time": "2020-07-01T22:14:34.927023Z",
     "start_time": "2020-07-01T22:14:34.903601Z"
    }
   },
   "outputs": [
    {
     "data": {
      "text/plain": [
       "Index(['data_entrada', 'valor_fin', 'qtde_prest', 'juros_efet', 'data_final',\n",
       "       'provisao', 'fat', 'rating_operacao', 'rating_cliente', 'ra', 'porte',\n",
       "       'setor', 'situacao', 'rating_atual', 'linha_fin', 'tipo_a', 'tipo_b',\n",
       "       'tipo_c', 'tipo_d', 'garantia', 'valor_garantia'],\n",
       "      dtype='object')"
      ]
     },
     "execution_count": 4,
     "metadata": {},
     "output_type": "execute_result"
    }
   ],
   "source": [
    "data.columns"
   ]
  },
  {
   "cell_type": "code",
   "execution_count": 5,
   "metadata": {
    "ExecuteTime": {
     "end_time": "2020-07-01T22:14:35.740227Z",
     "start_time": "2020-07-01T22:14:35.668386Z"
    }
   },
   "outputs": [
    {
     "data": {
      "text/html": [
       "<div>\n",
       "<style scoped>\n",
       "    .dataframe tbody tr th:only-of-type {\n",
       "        vertical-align: middle;\n",
       "    }\n",
       "\n",
       "    .dataframe tbody tr th {\n",
       "        vertical-align: top;\n",
       "    }\n",
       "\n",
       "    .dataframe thead th {\n",
       "        text-align: right;\n",
       "    }\n",
       "</style>\n",
       "<table border=\"1\" class=\"dataframe\">\n",
       "  <thead>\n",
       "    <tr style=\"text-align: right;\">\n",
       "      <th></th>\n",
       "      <th>data_entrada</th>\n",
       "      <th>valor_fin</th>\n",
       "      <th>qtde_prest</th>\n",
       "      <th>juros_efet</th>\n",
       "      <th>data_final</th>\n",
       "      <th>provisao</th>\n",
       "      <th>fat</th>\n",
       "      <th>rating_operacao</th>\n",
       "      <th>rating_cliente</th>\n",
       "      <th>ra</th>\n",
       "      <th>...</th>\n",
       "      <th>setor</th>\n",
       "      <th>situacao</th>\n",
       "      <th>rating_atual</th>\n",
       "      <th>linha_fin</th>\n",
       "      <th>tipo_a</th>\n",
       "      <th>tipo_b</th>\n",
       "      <th>tipo_c</th>\n",
       "      <th>tipo_d</th>\n",
       "      <th>garantia</th>\n",
       "      <th>valor_garantia</th>\n",
       "    </tr>\n",
       "  </thead>\n",
       "  <tbody>\n",
       "    <tr>\n",
       "      <th>0</th>\n",
       "      <td>2015-12-13</td>\n",
       "      <td>151605.74</td>\n",
       "      <td>63.0</td>\n",
       "      <td>0.246781</td>\n",
       "      <td>2022-02-17</td>\n",
       "      <td>0</td>\n",
       "      <td>7481</td>\n",
       "      <td>AA</td>\n",
       "      <td>B</td>\n",
       "      <td>RA de Santos</td>\n",
       "      <td>...</td>\n",
       "      <td>SETOR PRIVADO</td>\n",
       "      <td>ADIMPLENTE</td>\n",
       "      <td>AA</td>\n",
       "      <td>PRO CAMINHONEIRO</td>\n",
       "      <td>ME</td>\n",
       "      <td>RT</td>\n",
       "      <td>PRIV</td>\n",
       "      <td>BNDES</td>\n",
       "      <td>Alienação Fiduciaria Veículos</td>\n",
       "      <td>245000.0</td>\n",
       "    </tr>\n",
       "    <tr>\n",
       "      <th>1</th>\n",
       "      <td>2015-12-31</td>\n",
       "      <td>133864.13</td>\n",
       "      <td>62.0</td>\n",
       "      <td>0.246802</td>\n",
       "      <td>2022-02-17</td>\n",
       "      <td>0</td>\n",
       "      <td>6482</td>\n",
       "      <td>AA</td>\n",
       "      <td>B</td>\n",
       "      <td>RA de Santos</td>\n",
       "      <td>...</td>\n",
       "      <td>SETOR PRIVADO</td>\n",
       "      <td>ADIMPLENTE</td>\n",
       "      <td>AA</td>\n",
       "      <td>PRO CAMINHONEIRO</td>\n",
       "      <td>ME</td>\n",
       "      <td>RT</td>\n",
       "      <td>PRIV</td>\n",
       "      <td>BNDES</td>\n",
       "      <td>Alienação Fiduciaria Veículos</td>\n",
       "      <td>219000.0</td>\n",
       "    </tr>\n",
       "    <tr>\n",
       "      <th>2</th>\n",
       "      <td>2015-12-13</td>\n",
       "      <td>156163.26</td>\n",
       "      <td>65.0</td>\n",
       "      <td>0.246774</td>\n",
       "      <td>2022-04-20</td>\n",
       "      <td>45392</td>\n",
       "      <td>960378</td>\n",
       "      <td>A</td>\n",
       "      <td>B</td>\n",
       "      <td>RA de Santos</td>\n",
       "      <td>...</td>\n",
       "      <td>SETOR PRIVADO</td>\n",
       "      <td>ADIMPLENTE</td>\n",
       "      <td>A</td>\n",
       "      <td>PRO CAMINHONEIRO</td>\n",
       "      <td>ME</td>\n",
       "      <td>RT</td>\n",
       "      <td>PRIV</td>\n",
       "      <td>BNDES</td>\n",
       "      <td>Alienação Fiduciaria Veículos</td>\n",
       "      <td>245000.0</td>\n",
       "    </tr>\n",
       "    <tr>\n",
       "      <th>3</th>\n",
       "      <td>2015-12-13</td>\n",
       "      <td>132834.93</td>\n",
       "      <td>67.0</td>\n",
       "      <td>0.246793</td>\n",
       "      <td>2022-06-17</td>\n",
       "      <td>397</td>\n",
       "      <td>1005795</td>\n",
       "      <td>A</td>\n",
       "      <td>A</td>\n",
       "      <td>RA de Santos</td>\n",
       "      <td>...</td>\n",
       "      <td>SETOR PRIVADO</td>\n",
       "      <td>ADIMPLENTE</td>\n",
       "      <td>A</td>\n",
       "      <td>PRO CAMINHONEIRO</td>\n",
       "      <td>ME</td>\n",
       "      <td>RT</td>\n",
       "      <td>PRIV</td>\n",
       "      <td>BNDES</td>\n",
       "      <td>Alienação Fiduciaria Veículos</td>\n",
       "      <td>197000.0</td>\n",
       "    </tr>\n",
       "    <tr>\n",
       "      <th>4</th>\n",
       "      <td>2015-12-13</td>\n",
       "      <td>147130.53</td>\n",
       "      <td>63.0</td>\n",
       "      <td>0.246785</td>\n",
       "      <td>2022-02-17</td>\n",
       "      <td>41467</td>\n",
       "      <td>813483</td>\n",
       "      <td>A</td>\n",
       "      <td>A</td>\n",
       "      <td>RA de Santos</td>\n",
       "      <td>...</td>\n",
       "      <td>SETOR PRIVADO</td>\n",
       "      <td>ADIMPLENTE</td>\n",
       "      <td>A</td>\n",
       "      <td>PRO CAMINHONEIRO</td>\n",
       "      <td>ME</td>\n",
       "      <td>RT</td>\n",
       "      <td>PRIV</td>\n",
       "      <td>BNDES</td>\n",
       "      <td>Alienação Fiduciaria Veículos</td>\n",
       "      <td>268000.0</td>\n",
       "    </tr>\n",
       "  </tbody>\n",
       "</table>\n",
       "<p>5 rows × 21 columns</p>\n",
       "</div>"
      ],
      "text/plain": [
       "  data_entrada  valor_fin  qtde_prest juros_efet data_final  provisao  \\\n",
       "0   2015-12-13  151605.74        63.0   0.246781 2022-02-17         0   \n",
       "1   2015-12-31  133864.13        62.0   0.246802 2022-02-17         0   \n",
       "2   2015-12-13  156163.26        65.0   0.246774 2022-04-20     45392   \n",
       "3   2015-12-13  132834.93        67.0   0.246793 2022-06-17       397   \n",
       "4   2015-12-13  147130.53        63.0   0.246785 2022-02-17     41467   \n",
       "\n",
       "       fat rating_operacao rating_cliente            ra  ...          setor  \\\n",
       "0     7481              AA              B  RA de Santos  ...  SETOR PRIVADO   \n",
       "1     6482              AA              B  RA de Santos  ...  SETOR PRIVADO   \n",
       "2   960378               A              B  RA de Santos  ...  SETOR PRIVADO   \n",
       "3  1005795               A              A  RA de Santos  ...  SETOR PRIVADO   \n",
       "4   813483               A              A  RA de Santos  ...  SETOR PRIVADO   \n",
       "\n",
       "     situacao rating_atual         linha_fin tipo_a tipo_b tipo_c tipo_d  \\\n",
       "0  ADIMPLENTE           AA  PRO CAMINHONEIRO     ME     RT   PRIV  BNDES   \n",
       "1  ADIMPLENTE           AA  PRO CAMINHONEIRO     ME     RT   PRIV  BNDES   \n",
       "2  ADIMPLENTE            A  PRO CAMINHONEIRO     ME     RT   PRIV  BNDES   \n",
       "3  ADIMPLENTE            A  PRO CAMINHONEIRO     ME     RT   PRIV  BNDES   \n",
       "4  ADIMPLENTE            A  PRO CAMINHONEIRO     ME     RT   PRIV  BNDES   \n",
       "\n",
       "                        garantia valor_garantia  \n",
       "0  Alienação Fiduciaria Veículos       245000.0  \n",
       "1  Alienação Fiduciaria Veículos       219000.0  \n",
       "2  Alienação Fiduciaria Veículos       245000.0  \n",
       "3  Alienação Fiduciaria Veículos       197000.0  \n",
       "4  Alienação Fiduciaria Veículos       268000.0  \n",
       "\n",
       "[5 rows x 21 columns]"
      ]
     },
     "execution_count": 5,
     "metadata": {},
     "output_type": "execute_result"
    }
   ],
   "source": [
    "data.head()"
   ]
  },
  {
   "cell_type": "markdown",
   "metadata": {},
   "source": [
    "## Cálculo trimestral e semestral"
   ]
  },
  {
   "cell_type": "code",
   "execution_count": 6,
   "metadata": {
    "ExecuteTime": {
     "end_time": "2020-07-01T22:14:38.322559Z",
     "start_time": "2020-07-01T22:14:38.306677Z"
    }
   },
   "outputs": [],
   "source": [
    "data['trimestral_entrada'] = data['data_entrada'].dt.quarter\n",
    "data['trimestral_final'] = data['data_final'].dt.quarter"
   ]
  },
  {
   "cell_type": "code",
   "execution_count": 7,
   "metadata": {
    "ExecuteTime": {
     "end_time": "2020-07-01T22:14:38.843404Z",
     "start_time": "2020-07-01T22:14:38.810906Z"
    }
   },
   "outputs": [],
   "source": [
    "data['semesteral_entrada'] = np.where(data.trimestral_entrada.isin([1,2]),1,2)\n",
    "data['semesteral_final'] = np.where(data.trimestral_final.isin([1,2]),1,2)"
   ]
  },
  {
   "cell_type": "code",
   "execution_count": 8,
   "metadata": {
    "ExecuteTime": {
     "end_time": "2020-07-01T22:14:39.679570Z",
     "start_time": "2020-07-01T22:14:39.574941Z"
    }
   },
   "outputs": [
    {
     "data": {
      "text/html": [
       "<div>\n",
       "<style scoped>\n",
       "    .dataframe tbody tr th:only-of-type {\n",
       "        vertical-align: middle;\n",
       "    }\n",
       "\n",
       "    .dataframe tbody tr th {\n",
       "        vertical-align: top;\n",
       "    }\n",
       "\n",
       "    .dataframe thead th {\n",
       "        text-align: right;\n",
       "    }\n",
       "</style>\n",
       "<table border=\"1\" class=\"dataframe\">\n",
       "  <thead>\n",
       "    <tr style=\"text-align: right;\">\n",
       "      <th></th>\n",
       "      <th>data_entrada</th>\n",
       "      <th>valor_fin</th>\n",
       "      <th>qtde_prest</th>\n",
       "      <th>juros_efet</th>\n",
       "      <th>data_final</th>\n",
       "      <th>provisao</th>\n",
       "      <th>fat</th>\n",
       "      <th>rating_operacao</th>\n",
       "      <th>rating_cliente</th>\n",
       "      <th>ra</th>\n",
       "      <th>...</th>\n",
       "      <th>tipo_a</th>\n",
       "      <th>tipo_b</th>\n",
       "      <th>tipo_c</th>\n",
       "      <th>tipo_d</th>\n",
       "      <th>garantia</th>\n",
       "      <th>valor_garantia</th>\n",
       "      <th>trimestral_entrada</th>\n",
       "      <th>trimestral_final</th>\n",
       "      <th>semesteral_entrada</th>\n",
       "      <th>semesteral_final</th>\n",
       "    </tr>\n",
       "  </thead>\n",
       "  <tbody>\n",
       "    <tr>\n",
       "      <th>0</th>\n",
       "      <td>2015-12-13</td>\n",
       "      <td>151605.74</td>\n",
       "      <td>63.0</td>\n",
       "      <td>0.246781</td>\n",
       "      <td>2022-02-17</td>\n",
       "      <td>0</td>\n",
       "      <td>7481</td>\n",
       "      <td>AA</td>\n",
       "      <td>B</td>\n",
       "      <td>RA de Santos</td>\n",
       "      <td>...</td>\n",
       "      <td>ME</td>\n",
       "      <td>RT</td>\n",
       "      <td>PRIV</td>\n",
       "      <td>BNDES</td>\n",
       "      <td>Alienação Fiduciaria Veículos</td>\n",
       "      <td>245000.0</td>\n",
       "      <td>4</td>\n",
       "      <td>1</td>\n",
       "      <td>2</td>\n",
       "      <td>1</td>\n",
       "    </tr>\n",
       "    <tr>\n",
       "      <th>1</th>\n",
       "      <td>2015-12-31</td>\n",
       "      <td>133864.13</td>\n",
       "      <td>62.0</td>\n",
       "      <td>0.246802</td>\n",
       "      <td>2022-02-17</td>\n",
       "      <td>0</td>\n",
       "      <td>6482</td>\n",
       "      <td>AA</td>\n",
       "      <td>B</td>\n",
       "      <td>RA de Santos</td>\n",
       "      <td>...</td>\n",
       "      <td>ME</td>\n",
       "      <td>RT</td>\n",
       "      <td>PRIV</td>\n",
       "      <td>BNDES</td>\n",
       "      <td>Alienação Fiduciaria Veículos</td>\n",
       "      <td>219000.0</td>\n",
       "      <td>4</td>\n",
       "      <td>1</td>\n",
       "      <td>2</td>\n",
       "      <td>1</td>\n",
       "    </tr>\n",
       "    <tr>\n",
       "      <th>2</th>\n",
       "      <td>2015-12-13</td>\n",
       "      <td>156163.26</td>\n",
       "      <td>65.0</td>\n",
       "      <td>0.246774</td>\n",
       "      <td>2022-04-20</td>\n",
       "      <td>45392</td>\n",
       "      <td>960378</td>\n",
       "      <td>A</td>\n",
       "      <td>B</td>\n",
       "      <td>RA de Santos</td>\n",
       "      <td>...</td>\n",
       "      <td>ME</td>\n",
       "      <td>RT</td>\n",
       "      <td>PRIV</td>\n",
       "      <td>BNDES</td>\n",
       "      <td>Alienação Fiduciaria Veículos</td>\n",
       "      <td>245000.0</td>\n",
       "      <td>4</td>\n",
       "      <td>2</td>\n",
       "      <td>2</td>\n",
       "      <td>1</td>\n",
       "    </tr>\n",
       "    <tr>\n",
       "      <th>3</th>\n",
       "      <td>2015-12-13</td>\n",
       "      <td>132834.93</td>\n",
       "      <td>67.0</td>\n",
       "      <td>0.246793</td>\n",
       "      <td>2022-06-17</td>\n",
       "      <td>397</td>\n",
       "      <td>1005795</td>\n",
       "      <td>A</td>\n",
       "      <td>A</td>\n",
       "      <td>RA de Santos</td>\n",
       "      <td>...</td>\n",
       "      <td>ME</td>\n",
       "      <td>RT</td>\n",
       "      <td>PRIV</td>\n",
       "      <td>BNDES</td>\n",
       "      <td>Alienação Fiduciaria Veículos</td>\n",
       "      <td>197000.0</td>\n",
       "      <td>4</td>\n",
       "      <td>2</td>\n",
       "      <td>2</td>\n",
       "      <td>1</td>\n",
       "    </tr>\n",
       "    <tr>\n",
       "      <th>4</th>\n",
       "      <td>2015-12-13</td>\n",
       "      <td>147130.53</td>\n",
       "      <td>63.0</td>\n",
       "      <td>0.246785</td>\n",
       "      <td>2022-02-17</td>\n",
       "      <td>41467</td>\n",
       "      <td>813483</td>\n",
       "      <td>A</td>\n",
       "      <td>A</td>\n",
       "      <td>RA de Santos</td>\n",
       "      <td>...</td>\n",
       "      <td>ME</td>\n",
       "      <td>RT</td>\n",
       "      <td>PRIV</td>\n",
       "      <td>BNDES</td>\n",
       "      <td>Alienação Fiduciaria Veículos</td>\n",
       "      <td>268000.0</td>\n",
       "      <td>4</td>\n",
       "      <td>1</td>\n",
       "      <td>2</td>\n",
       "      <td>1</td>\n",
       "    </tr>\n",
       "  </tbody>\n",
       "</table>\n",
       "<p>5 rows × 25 columns</p>\n",
       "</div>"
      ],
      "text/plain": [
       "  data_entrada  valor_fin  qtde_prest juros_efet data_final  provisao  \\\n",
       "0   2015-12-13  151605.74        63.0   0.246781 2022-02-17         0   \n",
       "1   2015-12-31  133864.13        62.0   0.246802 2022-02-17         0   \n",
       "2   2015-12-13  156163.26        65.0   0.246774 2022-04-20     45392   \n",
       "3   2015-12-13  132834.93        67.0   0.246793 2022-06-17       397   \n",
       "4   2015-12-13  147130.53        63.0   0.246785 2022-02-17     41467   \n",
       "\n",
       "       fat rating_operacao rating_cliente            ra  ... tipo_a tipo_b  \\\n",
       "0     7481              AA              B  RA de Santos  ...     ME     RT   \n",
       "1     6482              AA              B  RA de Santos  ...     ME     RT   \n",
       "2   960378               A              B  RA de Santos  ...     ME     RT   \n",
       "3  1005795               A              A  RA de Santos  ...     ME     RT   \n",
       "4   813483               A              A  RA de Santos  ...     ME     RT   \n",
       "\n",
       "  tipo_c tipo_d                       garantia valor_garantia  \\\n",
       "0   PRIV  BNDES  Alienação Fiduciaria Veículos       245000.0   \n",
       "1   PRIV  BNDES  Alienação Fiduciaria Veículos       219000.0   \n",
       "2   PRIV  BNDES  Alienação Fiduciaria Veículos       245000.0   \n",
       "3   PRIV  BNDES  Alienação Fiduciaria Veículos       197000.0   \n",
       "4   PRIV  BNDES  Alienação Fiduciaria Veículos       268000.0   \n",
       "\n",
       "  trimestral_entrada trimestral_final semesteral_entrada semesteral_final  \n",
       "0                  4                1                  2                1  \n",
       "1                  4                1                  2                1  \n",
       "2                  4                2                  2                1  \n",
       "3                  4                2                  2                1  \n",
       "4                  4                1                  2                1  \n",
       "\n",
       "[5 rows x 25 columns]"
      ]
     },
     "execution_count": 8,
     "metadata": {},
     "output_type": "execute_result"
    }
   ],
   "source": [
    "data.head()"
   ]
  },
  {
   "cell_type": "markdown",
   "metadata": {},
   "source": [
    "## Indexing"
   ]
  },
  {
   "cell_type": "markdown",
   "metadata": {},
   "source": [
    ".loc is primarily label based, but may also be used with a boolean array. .loc will raise KeyError when the items are not found. "
   ]
  },
  {
   "cell_type": "code",
   "execution_count": 61,
   "metadata": {
    "ExecuteTime": {
     "end_time": "2020-07-01T21:47:55.737950Z",
     "start_time": "2020-07-01T21:47:55.680616Z"
    }
   },
   "outputs": [
    {
     "ename": "KeyError",
     "evalue": "'valor_financiamento'",
     "output_type": "error",
     "traceback": [
      "\u001b[0;31m---------------------------------------------------------------------------\u001b[0m",
      "\u001b[0;31mKeyError\u001b[0m                                  Traceback (most recent call last)",
      "\u001b[0;32m~/anaconda3/lib/python3.7/site-packages/pandas/core/indexes/base.py\u001b[0m in \u001b[0;36mget_loc\u001b[0;34m(self, key, method, tolerance)\u001b[0m\n\u001b[1;32m   2645\u001b[0m             \u001b[0;32mtry\u001b[0m\u001b[0;34m:\u001b[0m\u001b[0;34m\u001b[0m\u001b[0;34m\u001b[0m\u001b[0m\n\u001b[0;32m-> 2646\u001b[0;31m                 \u001b[0;32mreturn\u001b[0m \u001b[0mself\u001b[0m\u001b[0;34m.\u001b[0m\u001b[0m_engine\u001b[0m\u001b[0;34m.\u001b[0m\u001b[0mget_loc\u001b[0m\u001b[0;34m(\u001b[0m\u001b[0mkey\u001b[0m\u001b[0;34m)\u001b[0m\u001b[0;34m\u001b[0m\u001b[0;34m\u001b[0m\u001b[0m\n\u001b[0m\u001b[1;32m   2647\u001b[0m             \u001b[0;32mexcept\u001b[0m \u001b[0mKeyError\u001b[0m\u001b[0;34m:\u001b[0m\u001b[0;34m\u001b[0m\u001b[0;34m\u001b[0m\u001b[0m\n",
      "\u001b[0;32mpandas/_libs/index.pyx\u001b[0m in \u001b[0;36mpandas._libs.index.IndexEngine.get_loc\u001b[0;34m()\u001b[0m\n",
      "\u001b[0;32mpandas/_libs/index.pyx\u001b[0m in \u001b[0;36mpandas._libs.index.IndexEngine.get_loc\u001b[0;34m()\u001b[0m\n",
      "\u001b[0;32mpandas/_libs/hashtable_class_helper.pxi\u001b[0m in \u001b[0;36mpandas._libs.hashtable.PyObjectHashTable.get_item\u001b[0;34m()\u001b[0m\n",
      "\u001b[0;32mpandas/_libs/hashtable_class_helper.pxi\u001b[0m in \u001b[0;36mpandas._libs.hashtable.PyObjectHashTable.get_item\u001b[0;34m()\u001b[0m\n",
      "\u001b[0;31mKeyError\u001b[0m: 'valor_financiamento'",
      "\nDuring handling of the above exception, another exception occurred:\n",
      "\u001b[0;31mKeyError\u001b[0m                                  Traceback (most recent call last)",
      "\u001b[0;32m<ipython-input-61-607985f10d53>\u001b[0m in \u001b[0;36m<module>\u001b[0;34m\u001b[0m\n\u001b[1;32m      1\u001b[0m \u001b[0;31m# data.loc[:]['valor_fin'].head()\u001b[0m\u001b[0;34m\u001b[0m\u001b[0;34m\u001b[0m\u001b[0;34m\u001b[0m\u001b[0m\n\u001b[0;32m----> 2\u001b[0;31m \u001b[0mdata\u001b[0m\u001b[0;34m.\u001b[0m\u001b[0mloc\u001b[0m\u001b[0;34m[\u001b[0m\u001b[0;34m:\u001b[0m\u001b[0;34m]\u001b[0m\u001b[0;34m[\u001b[0m\u001b[0;34m'valor_financiamento'\u001b[0m\u001b[0;34m]\u001b[0m\u001b[0;34m.\u001b[0m\u001b[0mhead\u001b[0m\u001b[0;34m(\u001b[0m\u001b[0;34m)\u001b[0m \u001b[0;31m# <=== Erro\u001b[0m\u001b[0;34m\u001b[0m\u001b[0;34m\u001b[0m\u001b[0m\n\u001b[0m",
      "\u001b[0;32m~/anaconda3/lib/python3.7/site-packages/pandas/core/frame.py\u001b[0m in \u001b[0;36m__getitem__\u001b[0;34m(self, key)\u001b[0m\n\u001b[1;32m   2798\u001b[0m             \u001b[0;32mif\u001b[0m \u001b[0mself\u001b[0m\u001b[0;34m.\u001b[0m\u001b[0mcolumns\u001b[0m\u001b[0;34m.\u001b[0m\u001b[0mnlevels\u001b[0m \u001b[0;34m>\u001b[0m \u001b[0;36m1\u001b[0m\u001b[0;34m:\u001b[0m\u001b[0;34m\u001b[0m\u001b[0;34m\u001b[0m\u001b[0m\n\u001b[1;32m   2799\u001b[0m                 \u001b[0;32mreturn\u001b[0m \u001b[0mself\u001b[0m\u001b[0;34m.\u001b[0m\u001b[0m_getitem_multilevel\u001b[0m\u001b[0;34m(\u001b[0m\u001b[0mkey\u001b[0m\u001b[0;34m)\u001b[0m\u001b[0;34m\u001b[0m\u001b[0;34m\u001b[0m\u001b[0m\n\u001b[0;32m-> 2800\u001b[0;31m             \u001b[0mindexer\u001b[0m \u001b[0;34m=\u001b[0m \u001b[0mself\u001b[0m\u001b[0;34m.\u001b[0m\u001b[0mcolumns\u001b[0m\u001b[0;34m.\u001b[0m\u001b[0mget_loc\u001b[0m\u001b[0;34m(\u001b[0m\u001b[0mkey\u001b[0m\u001b[0;34m)\u001b[0m\u001b[0;34m\u001b[0m\u001b[0;34m\u001b[0m\u001b[0m\n\u001b[0m\u001b[1;32m   2801\u001b[0m             \u001b[0;32mif\u001b[0m \u001b[0mis_integer\u001b[0m\u001b[0;34m(\u001b[0m\u001b[0mindexer\u001b[0m\u001b[0;34m)\u001b[0m\u001b[0;34m:\u001b[0m\u001b[0;34m\u001b[0m\u001b[0;34m\u001b[0m\u001b[0m\n\u001b[1;32m   2802\u001b[0m                 \u001b[0mindexer\u001b[0m \u001b[0;34m=\u001b[0m \u001b[0;34m[\u001b[0m\u001b[0mindexer\u001b[0m\u001b[0;34m]\u001b[0m\u001b[0;34m\u001b[0m\u001b[0;34m\u001b[0m\u001b[0m\n",
      "\u001b[0;32m~/anaconda3/lib/python3.7/site-packages/pandas/core/indexes/base.py\u001b[0m in \u001b[0;36mget_loc\u001b[0;34m(self, key, method, tolerance)\u001b[0m\n\u001b[1;32m   2646\u001b[0m                 \u001b[0;32mreturn\u001b[0m \u001b[0mself\u001b[0m\u001b[0;34m.\u001b[0m\u001b[0m_engine\u001b[0m\u001b[0;34m.\u001b[0m\u001b[0mget_loc\u001b[0m\u001b[0;34m(\u001b[0m\u001b[0mkey\u001b[0m\u001b[0;34m)\u001b[0m\u001b[0;34m\u001b[0m\u001b[0;34m\u001b[0m\u001b[0m\n\u001b[1;32m   2647\u001b[0m             \u001b[0;32mexcept\u001b[0m \u001b[0mKeyError\u001b[0m\u001b[0;34m:\u001b[0m\u001b[0;34m\u001b[0m\u001b[0;34m\u001b[0m\u001b[0m\n\u001b[0;32m-> 2648\u001b[0;31m                 \u001b[0;32mreturn\u001b[0m \u001b[0mself\u001b[0m\u001b[0;34m.\u001b[0m\u001b[0m_engine\u001b[0m\u001b[0;34m.\u001b[0m\u001b[0mget_loc\u001b[0m\u001b[0;34m(\u001b[0m\u001b[0mself\u001b[0m\u001b[0;34m.\u001b[0m\u001b[0m_maybe_cast_indexer\u001b[0m\u001b[0;34m(\u001b[0m\u001b[0mkey\u001b[0m\u001b[0;34m)\u001b[0m\u001b[0;34m)\u001b[0m\u001b[0;34m\u001b[0m\u001b[0;34m\u001b[0m\u001b[0m\n\u001b[0m\u001b[1;32m   2649\u001b[0m         \u001b[0mindexer\u001b[0m \u001b[0;34m=\u001b[0m \u001b[0mself\u001b[0m\u001b[0;34m.\u001b[0m\u001b[0mget_indexer\u001b[0m\u001b[0;34m(\u001b[0m\u001b[0;34m[\u001b[0m\u001b[0mkey\u001b[0m\u001b[0;34m]\u001b[0m\u001b[0;34m,\u001b[0m \u001b[0mmethod\u001b[0m\u001b[0;34m=\u001b[0m\u001b[0mmethod\u001b[0m\u001b[0;34m,\u001b[0m \u001b[0mtolerance\u001b[0m\u001b[0;34m=\u001b[0m\u001b[0mtolerance\u001b[0m\u001b[0;34m)\u001b[0m\u001b[0;34m\u001b[0m\u001b[0;34m\u001b[0m\u001b[0m\n\u001b[1;32m   2650\u001b[0m         \u001b[0;32mif\u001b[0m \u001b[0mindexer\u001b[0m\u001b[0;34m.\u001b[0m\u001b[0mndim\u001b[0m \u001b[0;34m>\u001b[0m \u001b[0;36m1\u001b[0m \u001b[0;32mor\u001b[0m \u001b[0mindexer\u001b[0m\u001b[0;34m.\u001b[0m\u001b[0msize\u001b[0m \u001b[0;34m>\u001b[0m \u001b[0;36m1\u001b[0m\u001b[0;34m:\u001b[0m\u001b[0;34m\u001b[0m\u001b[0;34m\u001b[0m\u001b[0m\n",
      "\u001b[0;32mpandas/_libs/index.pyx\u001b[0m in \u001b[0;36mpandas._libs.index.IndexEngine.get_loc\u001b[0;34m()\u001b[0m\n",
      "\u001b[0;32mpandas/_libs/index.pyx\u001b[0m in \u001b[0;36mpandas._libs.index.IndexEngine.get_loc\u001b[0;34m()\u001b[0m\n",
      "\u001b[0;32mpandas/_libs/hashtable_class_helper.pxi\u001b[0m in \u001b[0;36mpandas._libs.hashtable.PyObjectHashTable.get_item\u001b[0;34m()\u001b[0m\n",
      "\u001b[0;32mpandas/_libs/hashtable_class_helper.pxi\u001b[0m in \u001b[0;36mpandas._libs.hashtable.PyObjectHashTable.get_item\u001b[0;34m()\u001b[0m\n",
      "\u001b[0;31mKeyError\u001b[0m: 'valor_financiamento'"
     ]
    }
   ],
   "source": [
    "# data.loc[:]['valor_fin'].head()\n",
    "data.loc[:]['valor_financiamento'].head() # <=== Erro"
   ]
  },
  {
   "cell_type": "markdown",
   "metadata": {},
   "source": [
    ".iloc is primarily integer position based (from 0 to length-1 of the axis), but may also be used with a boolean array. .iloc will raise IndexError if a requested indexer is out-of-bounds, except slice indexers which allow out-of-bounds indexing. (this conforms with Python/NumPy slice semantics)"
   ]
  },
  {
   "cell_type": "code",
   "execution_count": 60,
   "metadata": {
    "ExecuteTime": {
     "end_time": "2020-07-01T21:47:21.272928Z",
     "start_time": "2020-07-01T21:47:21.200591Z"
    }
   },
   "outputs": [
    {
     "ename": "KeyError",
     "evalue": "26",
     "output_type": "error",
     "traceback": [
      "\u001b[0;31m---------------------------------------------------------------------------\u001b[0m",
      "\u001b[0;31mKeyError\u001b[0m                                  Traceback (most recent call last)",
      "\u001b[0;32m~/anaconda3/lib/python3.7/site-packages/pandas/core/indexes/base.py\u001b[0m in \u001b[0;36mget_loc\u001b[0;34m(self, key, method, tolerance)\u001b[0m\n\u001b[1;32m   2645\u001b[0m             \u001b[0;32mtry\u001b[0m\u001b[0;34m:\u001b[0m\u001b[0;34m\u001b[0m\u001b[0;34m\u001b[0m\u001b[0m\n\u001b[0;32m-> 2646\u001b[0;31m                 \u001b[0;32mreturn\u001b[0m \u001b[0mself\u001b[0m\u001b[0;34m.\u001b[0m\u001b[0m_engine\u001b[0m\u001b[0;34m.\u001b[0m\u001b[0mget_loc\u001b[0m\u001b[0;34m(\u001b[0m\u001b[0mkey\u001b[0m\u001b[0;34m)\u001b[0m\u001b[0;34m\u001b[0m\u001b[0;34m\u001b[0m\u001b[0m\n\u001b[0m\u001b[1;32m   2647\u001b[0m             \u001b[0;32mexcept\u001b[0m \u001b[0mKeyError\u001b[0m\u001b[0;34m:\u001b[0m\u001b[0;34m\u001b[0m\u001b[0;34m\u001b[0m\u001b[0m\n",
      "\u001b[0;32mpandas/_libs/index.pyx\u001b[0m in \u001b[0;36mpandas._libs.index.IndexEngine.get_loc\u001b[0;34m()\u001b[0m\n",
      "\u001b[0;32mpandas/_libs/index.pyx\u001b[0m in \u001b[0;36mpandas._libs.index.IndexEngine.get_loc\u001b[0;34m()\u001b[0m\n",
      "\u001b[0;32mpandas/_libs/hashtable_class_helper.pxi\u001b[0m in \u001b[0;36mpandas._libs.hashtable.PyObjectHashTable.get_item\u001b[0;34m()\u001b[0m\n",
      "\u001b[0;32mpandas/_libs/hashtable_class_helper.pxi\u001b[0m in \u001b[0;36mpandas._libs.hashtable.PyObjectHashTable.get_item\u001b[0;34m()\u001b[0m\n",
      "\u001b[0;31mKeyError\u001b[0m: 26",
      "\nDuring handling of the above exception, another exception occurred:\n",
      "\u001b[0;31mKeyError\u001b[0m                                  Traceback (most recent call last)",
      "\u001b[0;32m<ipython-input-60-39e72f32a671>\u001b[0m in \u001b[0;36m<module>\u001b[0;34m\u001b[0m\n\u001b[1;32m      3\u001b[0m \u001b[0;31m# for linha in range(numero_de_linhas + 1):\u001b[0m\u001b[0;34m\u001b[0m\u001b[0;34m\u001b[0m\u001b[0;34m\u001b[0m\u001b[0m\n\u001b[1;32m      4\u001b[0m \u001b[0;31m#     data.iloc[linha]\u001b[0m\u001b[0;34m\u001b[0m\u001b[0;34m\u001b[0m\u001b[0;34m\u001b[0m\u001b[0m\n\u001b[0;32m----> 5\u001b[0;31m \u001b[0mdata\u001b[0m\u001b[0;34m.\u001b[0m\u001b[0miloc\u001b[0m\u001b[0;34m[\u001b[0m\u001b[0;34m:\u001b[0m\u001b[0;34m]\u001b[0m\u001b[0;34m[\u001b[0m\u001b[0mdata\u001b[0m\u001b[0;34m.\u001b[0m\u001b[0mshape\u001b[0m\u001b[0;34m[\u001b[0m\u001b[0;36m1\u001b[0m\u001b[0;34m]\u001b[0m \u001b[0;34m+\u001b[0m \u001b[0;36m1\u001b[0m\u001b[0;34m]\u001b[0m\u001b[0;34m\u001b[0m\u001b[0;34m\u001b[0m\u001b[0m\n\u001b[0m",
      "\u001b[0;32m~/anaconda3/lib/python3.7/site-packages/pandas/core/frame.py\u001b[0m in \u001b[0;36m__getitem__\u001b[0;34m(self, key)\u001b[0m\n\u001b[1;32m   2798\u001b[0m             \u001b[0;32mif\u001b[0m \u001b[0mself\u001b[0m\u001b[0;34m.\u001b[0m\u001b[0mcolumns\u001b[0m\u001b[0;34m.\u001b[0m\u001b[0mnlevels\u001b[0m \u001b[0;34m>\u001b[0m \u001b[0;36m1\u001b[0m\u001b[0;34m:\u001b[0m\u001b[0;34m\u001b[0m\u001b[0;34m\u001b[0m\u001b[0m\n\u001b[1;32m   2799\u001b[0m                 \u001b[0;32mreturn\u001b[0m \u001b[0mself\u001b[0m\u001b[0;34m.\u001b[0m\u001b[0m_getitem_multilevel\u001b[0m\u001b[0;34m(\u001b[0m\u001b[0mkey\u001b[0m\u001b[0;34m)\u001b[0m\u001b[0;34m\u001b[0m\u001b[0;34m\u001b[0m\u001b[0m\n\u001b[0;32m-> 2800\u001b[0;31m             \u001b[0mindexer\u001b[0m \u001b[0;34m=\u001b[0m \u001b[0mself\u001b[0m\u001b[0;34m.\u001b[0m\u001b[0mcolumns\u001b[0m\u001b[0;34m.\u001b[0m\u001b[0mget_loc\u001b[0m\u001b[0;34m(\u001b[0m\u001b[0mkey\u001b[0m\u001b[0;34m)\u001b[0m\u001b[0;34m\u001b[0m\u001b[0;34m\u001b[0m\u001b[0m\n\u001b[0m\u001b[1;32m   2801\u001b[0m             \u001b[0;32mif\u001b[0m \u001b[0mis_integer\u001b[0m\u001b[0;34m(\u001b[0m\u001b[0mindexer\u001b[0m\u001b[0;34m)\u001b[0m\u001b[0;34m:\u001b[0m\u001b[0;34m\u001b[0m\u001b[0;34m\u001b[0m\u001b[0m\n\u001b[1;32m   2802\u001b[0m                 \u001b[0mindexer\u001b[0m \u001b[0;34m=\u001b[0m \u001b[0;34m[\u001b[0m\u001b[0mindexer\u001b[0m\u001b[0;34m]\u001b[0m\u001b[0;34m\u001b[0m\u001b[0;34m\u001b[0m\u001b[0m\n",
      "\u001b[0;32m~/anaconda3/lib/python3.7/site-packages/pandas/core/indexes/base.py\u001b[0m in \u001b[0;36mget_loc\u001b[0;34m(self, key, method, tolerance)\u001b[0m\n\u001b[1;32m   2646\u001b[0m                 \u001b[0;32mreturn\u001b[0m \u001b[0mself\u001b[0m\u001b[0;34m.\u001b[0m\u001b[0m_engine\u001b[0m\u001b[0;34m.\u001b[0m\u001b[0mget_loc\u001b[0m\u001b[0;34m(\u001b[0m\u001b[0mkey\u001b[0m\u001b[0;34m)\u001b[0m\u001b[0;34m\u001b[0m\u001b[0;34m\u001b[0m\u001b[0m\n\u001b[1;32m   2647\u001b[0m             \u001b[0;32mexcept\u001b[0m \u001b[0mKeyError\u001b[0m\u001b[0;34m:\u001b[0m\u001b[0;34m\u001b[0m\u001b[0;34m\u001b[0m\u001b[0m\n\u001b[0;32m-> 2648\u001b[0;31m                 \u001b[0;32mreturn\u001b[0m \u001b[0mself\u001b[0m\u001b[0;34m.\u001b[0m\u001b[0m_engine\u001b[0m\u001b[0;34m.\u001b[0m\u001b[0mget_loc\u001b[0m\u001b[0;34m(\u001b[0m\u001b[0mself\u001b[0m\u001b[0;34m.\u001b[0m\u001b[0m_maybe_cast_indexer\u001b[0m\u001b[0;34m(\u001b[0m\u001b[0mkey\u001b[0m\u001b[0;34m)\u001b[0m\u001b[0;34m)\u001b[0m\u001b[0;34m\u001b[0m\u001b[0;34m\u001b[0m\u001b[0m\n\u001b[0m\u001b[1;32m   2649\u001b[0m         \u001b[0mindexer\u001b[0m \u001b[0;34m=\u001b[0m \u001b[0mself\u001b[0m\u001b[0;34m.\u001b[0m\u001b[0mget_indexer\u001b[0m\u001b[0;34m(\u001b[0m\u001b[0;34m[\u001b[0m\u001b[0mkey\u001b[0m\u001b[0;34m]\u001b[0m\u001b[0;34m,\u001b[0m \u001b[0mmethod\u001b[0m\u001b[0;34m=\u001b[0m\u001b[0mmethod\u001b[0m\u001b[0;34m,\u001b[0m \u001b[0mtolerance\u001b[0m\u001b[0;34m=\u001b[0m\u001b[0mtolerance\u001b[0m\u001b[0;34m)\u001b[0m\u001b[0;34m\u001b[0m\u001b[0;34m\u001b[0m\u001b[0m\n\u001b[1;32m   2650\u001b[0m         \u001b[0;32mif\u001b[0m \u001b[0mindexer\u001b[0m\u001b[0;34m.\u001b[0m\u001b[0mndim\u001b[0m \u001b[0;34m>\u001b[0m \u001b[0;36m1\u001b[0m \u001b[0;32mor\u001b[0m \u001b[0mindexer\u001b[0m\u001b[0;34m.\u001b[0m\u001b[0msize\u001b[0m \u001b[0;34m>\u001b[0m \u001b[0;36m1\u001b[0m\u001b[0;34m:\u001b[0m\u001b[0;34m\u001b[0m\u001b[0;34m\u001b[0m\u001b[0m\n",
      "\u001b[0;32mpandas/_libs/index.pyx\u001b[0m in \u001b[0;36mpandas._libs.index.IndexEngine.get_loc\u001b[0;34m()\u001b[0m\n",
      "\u001b[0;32mpandas/_libs/index.pyx\u001b[0m in \u001b[0;36mpandas._libs.index.IndexEngine.get_loc\u001b[0;34m()\u001b[0m\n",
      "\u001b[0;32mpandas/_libs/hashtable_class_helper.pxi\u001b[0m in \u001b[0;36mpandas._libs.hashtable.PyObjectHashTable.get_item\u001b[0;34m()\u001b[0m\n",
      "\u001b[0;32mpandas/_libs/hashtable_class_helper.pxi\u001b[0m in \u001b[0;36mpandas._libs.hashtable.PyObjectHashTable.get_item\u001b[0;34m()\u001b[0m\n",
      "\u001b[0;31mKeyError\u001b[0m: 26"
     ]
    }
   ],
   "source": [
    "data.iloc[:]['valor_fin'].head()\n",
    "# numero_de_linhas = data.shape[0]\n",
    "# for linha in range(numero_de_linhas + 1):\n",
    "#     data.iloc[linha]\n",
    "data.iloc[:][data.shape[1] + 1]"
   ]
  },
  {
   "cell_type": "code",
   "execution_count": null,
   "metadata": {},
   "outputs": [],
   "source": []
  },
  {
   "cell_type": "markdown",
   "metadata": {},
   "source": [
    "## Slicing"
   ]
  },
  {
   "cell_type": "code",
   "execution_count": 22,
   "metadata": {
    "ExecuteTime": {
     "end_time": "2020-07-01T21:25:06.270320Z",
     "start_time": "2020-07-01T21:25:06.256221Z"
    }
   },
   "outputs": [],
   "source": [
    "new_df_1 = data.iloc[0:3, 1:4]"
   ]
  },
  {
   "cell_type": "code",
   "execution_count": 23,
   "metadata": {
    "ExecuteTime": {
     "end_time": "2020-07-01T21:25:24.214567Z",
     "start_time": "2020-07-01T21:25:24.198272Z"
    }
   },
   "outputs": [],
   "source": [
    "new_df_2 = data.loc[0:3, 'valor_fin']"
   ]
  },
  {
   "cell_type": "markdown",
   "metadata": {},
   "source": [
    "## Subsetting"
   ]
  },
  {
   "cell_type": "code",
   "execution_count": 25,
   "metadata": {
    "ExecuteTime": {
     "end_time": "2020-07-01T21:28:05.967454Z",
     "start_time": "2020-07-01T21:28:05.954194Z"
    }
   },
   "outputs": [],
   "source": [
    "new_df_3 = data[(data.fat >= 10000) & (data.fat <= 100000)]"
   ]
  },
  {
   "cell_type": "code",
   "execution_count": 39,
   "metadata": {
    "ExecuteTime": {
     "end_time": "2020-07-01T21:36:32.686053Z",
     "start_time": "2020-07-01T21:36:32.667764Z"
    }
   },
   "outputs": [],
   "source": [
    "new_df_4 = data[(data['semesteral_final'] != 1) & (data['valor_fin'] > 146578.09) ]"
   ]
  },
  {
   "cell_type": "code",
   "execution_count": 41,
   "metadata": {
    "ExecuteTime": {
     "end_time": "2020-07-01T21:36:57.717183Z",
     "start_time": "2020-07-01T21:36:57.681180Z"
    }
   },
   "outputs": [
    {
     "data": {
      "text/html": [
       "<div>\n",
       "<style scoped>\n",
       "    .dataframe tbody tr th:only-of-type {\n",
       "        vertical-align: middle;\n",
       "    }\n",
       "\n",
       "    .dataframe tbody tr th {\n",
       "        vertical-align: top;\n",
       "    }\n",
       "\n",
       "    .dataframe thead th {\n",
       "        text-align: right;\n",
       "    }\n",
       "</style>\n",
       "<table border=\"1\" class=\"dataframe\">\n",
       "  <thead>\n",
       "    <tr style=\"text-align: right;\">\n",
       "      <th></th>\n",
       "      <th>data_entrada</th>\n",
       "      <th>valor_fin</th>\n",
       "      <th>qtde_prest</th>\n",
       "      <th>juros_efet</th>\n",
       "      <th>data_final</th>\n",
       "      <th>provisao</th>\n",
       "      <th>fat</th>\n",
       "      <th>rating_operacao</th>\n",
       "      <th>rating_cliente</th>\n",
       "      <th>ra</th>\n",
       "      <th>...</th>\n",
       "      <th>tipo_a</th>\n",
       "      <th>tipo_b</th>\n",
       "      <th>tipo_c</th>\n",
       "      <th>tipo_d</th>\n",
       "      <th>garantia</th>\n",
       "      <th>valor_garantia</th>\n",
       "      <th>trimestral_entrada</th>\n",
       "      <th>trimestral_final</th>\n",
       "      <th>semesteral_entrada</th>\n",
       "      <th>semesteral_final</th>\n",
       "    </tr>\n",
       "  </thead>\n",
       "  <tbody>\n",
       "    <tr>\n",
       "      <th>18</th>\n",
       "      <td>2013-08-22</td>\n",
       "      <td>275436.77</td>\n",
       "      <td>92.0</td>\n",
       "      <td>0.332849</td>\n",
       "      <td>2021-07-17</td>\n",
       "      <td>2758</td>\n",
       "      <td>1481417</td>\n",
       "      <td>A</td>\n",
       "      <td>A</td>\n",
       "      <td>RA de Santos</td>\n",
       "      <td>...</td>\n",
       "      <td>ME</td>\n",
       "      <td>RT</td>\n",
       "      <td>PRIV</td>\n",
       "      <td>BNDES</td>\n",
       "      <td>Alienação Fiduciaria Veículos</td>\n",
       "      <td>252500.0</td>\n",
       "      <td>3</td>\n",
       "      <td>3</td>\n",
       "      <td>2</td>\n",
       "      <td>2</td>\n",
       "    </tr>\n",
       "    <tr>\n",
       "      <th>20</th>\n",
       "      <td>2013-09-29</td>\n",
       "      <td>240535.94</td>\n",
       "      <td>92.0</td>\n",
       "      <td>0.412908</td>\n",
       "      <td>2021-09-17</td>\n",
       "      <td>0</td>\n",
       "      <td>70598</td>\n",
       "      <td>AA</td>\n",
       "      <td>AA</td>\n",
       "      <td>Região Metropolitana de São Paulo</td>\n",
       "      <td>...</td>\n",
       "      <td>ME</td>\n",
       "      <td>RT</td>\n",
       "      <td>PRIV</td>\n",
       "      <td>BNDES</td>\n",
       "      <td>Alienação Fiduciaria Veículos</td>\n",
       "      <td>219000.0</td>\n",
       "      <td>3</td>\n",
       "      <td>3</td>\n",
       "      <td>2</td>\n",
       "      <td>2</td>\n",
       "    </tr>\n",
       "    <tr>\n",
       "      <th>21</th>\n",
       "      <td>2013-10-27</td>\n",
       "      <td>280782.03</td>\n",
       "      <td>92.0</td>\n",
       "      <td>0.413329</td>\n",
       "      <td>2021-09-17</td>\n",
       "      <td>0</td>\n",
       "      <td>12847</td>\n",
       "      <td>AA</td>\n",
       "      <td>AA</td>\n",
       "      <td>RA de Santos</td>\n",
       "      <td>...</td>\n",
       "      <td>ME</td>\n",
       "      <td>RT</td>\n",
       "      <td>PRIV</td>\n",
       "      <td>BNDES</td>\n",
       "      <td>Alienação Fiduciaria Veículos</td>\n",
       "      <td>276000.0</td>\n",
       "      <td>4</td>\n",
       "      <td>3</td>\n",
       "      <td>2</td>\n",
       "      <td>2</td>\n",
       "    </tr>\n",
       "    <tr>\n",
       "      <th>22</th>\n",
       "      <td>2013-10-23</td>\n",
       "      <td>275296.38</td>\n",
       "      <td>92.0</td>\n",
       "      <td>0.413173</td>\n",
       "      <td>2021-09-17</td>\n",
       "      <td>0</td>\n",
       "      <td>907351</td>\n",
       "      <td>AA</td>\n",
       "      <td>A</td>\n",
       "      <td>RA de Santos</td>\n",
       "      <td>...</td>\n",
       "      <td>ME</td>\n",
       "      <td>RT</td>\n",
       "      <td>PRIV</td>\n",
       "      <td>BNDES</td>\n",
       "      <td>Alienação Fiduciaria Veículos</td>\n",
       "      <td>252500.0</td>\n",
       "      <td>4</td>\n",
       "      <td>3</td>\n",
       "      <td>2</td>\n",
       "      <td>2</td>\n",
       "    </tr>\n",
       "    <tr>\n",
       "      <th>23</th>\n",
       "      <td>2013-10-26</td>\n",
       "      <td>273320.56</td>\n",
       "      <td>92.0</td>\n",
       "      <td>0.413335</td>\n",
       "      <td>2021-09-17</td>\n",
       "      <td>0</td>\n",
       "      <td>8200</td>\n",
       "      <td>AA</td>\n",
       "      <td>A</td>\n",
       "      <td>RA de Santos</td>\n",
       "      <td>...</td>\n",
       "      <td>ME</td>\n",
       "      <td>RT</td>\n",
       "      <td>PRIV</td>\n",
       "      <td>BNDES</td>\n",
       "      <td>Alienação Fiduciaria Veículos</td>\n",
       "      <td>248000.0</td>\n",
       "      <td>4</td>\n",
       "      <td>3</td>\n",
       "      <td>2</td>\n",
       "      <td>2</td>\n",
       "    </tr>\n",
       "  </tbody>\n",
       "</table>\n",
       "<p>5 rows × 25 columns</p>\n",
       "</div>"
      ],
      "text/plain": [
       "   data_entrada  valor_fin  qtde_prest juros_efet data_final  provisao  \\\n",
       "18   2013-08-22  275436.77        92.0   0.332849 2021-07-17      2758   \n",
       "20   2013-09-29  240535.94        92.0   0.412908 2021-09-17         0   \n",
       "21   2013-10-27  280782.03        92.0   0.413329 2021-09-17         0   \n",
       "22   2013-10-23  275296.38        92.0   0.413173 2021-09-17         0   \n",
       "23   2013-10-26  273320.56        92.0   0.413335 2021-09-17         0   \n",
       "\n",
       "        fat rating_operacao rating_cliente                                 ra  \\\n",
       "18  1481417               A              A                       RA de Santos   \n",
       "20    70598              AA             AA  Região Metropolitana de São Paulo   \n",
       "21    12847              AA             AA                       RA de Santos   \n",
       "22   907351              AA              A                       RA de Santos   \n",
       "23     8200              AA              A                       RA de Santos   \n",
       "\n",
       "    ... tipo_a tipo_b tipo_c tipo_d                       garantia  \\\n",
       "18  ...     ME     RT   PRIV  BNDES  Alienação Fiduciaria Veículos   \n",
       "20  ...     ME     RT   PRIV  BNDES  Alienação Fiduciaria Veículos   \n",
       "21  ...     ME     RT   PRIV  BNDES  Alienação Fiduciaria Veículos   \n",
       "22  ...     ME     RT   PRIV  BNDES  Alienação Fiduciaria Veículos   \n",
       "23  ...     ME     RT   PRIV  BNDES  Alienação Fiduciaria Veículos   \n",
       "\n",
       "   valor_garantia trimestral_entrada trimestral_final semesteral_entrada  \\\n",
       "18       252500.0                  3                3                  2   \n",
       "20       219000.0                  3                3                  2   \n",
       "21       276000.0                  4                3                  2   \n",
       "22       252500.0                  4                3                  2   \n",
       "23       248000.0                  4                3                  2   \n",
       "\n",
       "   semesteral_final  \n",
       "18                2  \n",
       "20                2  \n",
       "21                2  \n",
       "22                2  \n",
       "23                2  \n",
       "\n",
       "[5 rows x 25 columns]"
      ]
     },
     "execution_count": 41,
     "metadata": {},
     "output_type": "execute_result"
    }
   ],
   "source": [
    "new_df_4.head()"
   ]
  },
  {
   "cell_type": "markdown",
   "metadata": {},
   "source": [
    "## BoxPlot"
   ]
  },
  {
   "cell_type": "code",
   "execution_count": 13,
   "metadata": {
    "ExecuteTime": {
     "end_time": "2020-07-01T22:16:38.074642Z",
     "start_time": "2020-07-01T22:16:37.786544Z"
    }
   },
   "outputs": [
    {
     "data": {
      "image/png": "[encoded data removed]",
      "text/plain": [
       "<Figure size 432x288 with 1 Axes>"
      ]
     },
     "metadata": {
      "image/png": {
       "height": 262,
       "width": 408
      },
      "needs_background": "light"
     },
     "output_type": "display_data"
    }
   ],
   "source": [
    "data_boxplot = data[data['fat'] < 400000]\n",
    "_ = sns.boxplot(data=data_boxplot,\n",
    "                x = 'rating_cliente',\n",
    "                y = 'fat')\n"
   ]
  },
  {
   "cell_type": "code",
   "execution_count": null,
   "metadata": {},
   "outputs": [],
   "source": []
  }
 ],
 "metadata": {
  "kernelspec": {
   "display_name": "Python 3",
   "language": "python",
   "name": "python3"
  },
  "language_info": {
   "codemirror_mode": {
    "name": "ipython",
    "version": 3
   },
   "file_extension": ".py",
   "mimetype": "text/x-python",
   "name": "python",
   "nbconvert_exporter": "python",
   "pygments_lexer": "ipython3",
   "version": "3.7.6"
  },
  "toc": {
   "base_numbering": 1,
   "nav_menu": {},
   "number_sections": true,
   "sideBar": true,
   "skip_h1_title": false,
   "title_cell": "Table of Contents",
   "title_sidebar": "Contents",
   "toc_cell": false,
   "toc_position": {},
   "toc_section_display": true,
   "toc_window_display": false
  },
  "varInspector": {
   "cols": {
    "lenName": 16,
    "lenType": 16,
    "lenVar": 40
   },
   "kernels_config": {
    "python": {
     "delete_cmd_postfix": "",
     "delete_cmd_prefix": "del ",
     "library": "var_list.py",
     "varRefreshCmd": "print(var_dic_list())"
    },
    "r": {
     "delete_cmd_postfix": ") ",
     "delete_cmd_prefix": "rm(",
     "library": "var_list.r",
     "varRefreshCmd": "cat(var_dic_list()) "
    }
   },
   "types_to_exclude": [
    "module",
    "function",
    "builtin_function_or_method",
    "instance",
    "_Feature"
   ],
   "window_display": false
  }
 },
 "nbformat": 4,
 "nbformat_minor": 4
}
